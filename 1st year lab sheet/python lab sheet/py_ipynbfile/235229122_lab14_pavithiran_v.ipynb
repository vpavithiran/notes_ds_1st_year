{
 "cells": [
  {
   "cell_type": "markdown",
   "id": "7b7e1d40-e19c-4d37-b39b-4e0fa40c7d52",
   "metadata": {},
   "source": [
    "<center><h2>Programming and Data Structures with Python Lab14.<br> Designing Course Registration Form using Tkinter</h2>"
   ]
  },
  {
   "cell_type": "markdown",
   "id": "fe4e15a8-da56-41f2-9d31-de59b70b2704",
   "metadata": {},
   "source": [
    "<h1>NAME: PAVITHIRAN. V<BR>ROLL NO:235229122</h1>"
   ]
  },
  {
   "cell_type": "code",
   "execution_count": 1,
   "id": "669cfe10-446d-49d0-ad1e-f228d5e75cce",
   "metadata": {},
   "outputs": [],
   "source": [
    "import tkinter as tk\n",
    "from tkinter import messagebox\n",
    "\n",
    "# Step 2: Create the main application window\n",
    "root = tk.Tk()\n",
    "root.title(\"Simple Form Application\")\n",
    "root.geometry(\"300x200\")  # Set window size\n",
    "\n",
    "# Step 3: Create form elements\n",
    "# Labels\n",
    "label_name = tk.Label(root, text=\"Enter Name:\")\n",
    "label_email = tk.Label(root, text=\"Enter Email:\")\n",
    "# Entry fields\n",
    "entry_name = tk.Entry(root)\n",
    "entry_email = tk.Entry(root)\n",
    "\n",
    "# Button\n",
    "def submit_form():\n",
    "    name = entry_name.get()\n",
    "    email = entry_email.get()\n",
    "\n",
    "    # Step 5: Implement form submission and data handling\n",
    "    if name and email:\n",
    "        # Perform any necessary validation or data processing here\n",
    "        # For simplicity, just displaying a message\n",
    "        messagebox.showinfo(\"Success\", f\"Form submitted:\\nName: {name}\\nEmail: {email}\")\n",
    "    else:\n",
    "        # Step 6: Display error message\n",
    "        messagebox.showerror(\"Error\", \"Please fill out all the fields.\")\n",
    "\n",
    "submit_button = tk.Button(root, text=\"Submit\", command=submit_form)\n",
    "\n",
    "# Step 4: Position elements using the grid manager\n",
    "label_name.grid(row=0, column=0, padx=10, pady=5, sticky=\"e\")\n",
    "entry_name.grid(row=0, column=1, padx=10, pady=5)\n",
    "label_email.grid(row=1, column=0, padx=10, pady=5, sticky=\"e\")\n",
    "entry_email.grid(row=1, column=1, padx=10, pady=5)\n",
    "submit_button.grid(row=2, columnspan=2, pady=10)\n",
    "\n",
    "# Step 7: Run the application\n",
    "root.mainloop()\n"
   ]
  }
 ],
 "metadata": {
  "kernelspec": {
   "display_name": "Python 3 (ipykernel)",
   "language": "python",
   "name": "python3"
  },
  "language_info": {
   "codemirror_mode": {
    "name": "ipython",
    "version": 3
   },
   "file_extension": ".py",
   "mimetype": "text/x-python",
   "name": "python",
   "nbconvert_exporter": "python",
   "pygments_lexer": "ipython3",
   "version": "3.9.15"
  }
 },
 "nbformat": 4,
 "nbformat_minor": 5
}
