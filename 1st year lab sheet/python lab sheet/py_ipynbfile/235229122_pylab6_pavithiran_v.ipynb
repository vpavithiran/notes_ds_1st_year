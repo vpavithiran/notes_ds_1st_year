{
 "cells": [
  {
   "cell_type": "markdown",
   "id": "fb6ec1e4",
   "metadata": {},
   "source": [
    "<center><h2>Programming and Data Structures with Python Lab6<br> Implementation of Map, Filter and Reduce Functions</h2>"
   ]
  },
  {
   "cell_type": "markdown",
   "id": "2db1d50e",
   "metadata": {},
   "source": [
    "<h2>NAME: PAVITHIRAN.V<br>\n",
    "ROLLNO:235229122</h2>"
   ]
  },
  {
   "cell_type": "code",
   "execution_count": 1,
   "id": "23d92b49",
   "metadata": {},
   "outputs": [
    {
     "name": "stdout",
     "output_type": "stream",
     "text": [
      "[1.0, 1.4142135623730951, 1.7320508075688772, 2.0, 3.4641016151377544, 3.605551275463989, 3.7416573867739413, 4.47213595499958]\n"
     ]
    }
   ],
   "source": [
    "# Question 1\n",
    "\"\"\"Write a program to implement MAP function. Find the square root of a list of\n",
    "numbers [1, 2, 4, 6] using map and sqrt functions. Check the answer against your user\n",
    "defined function mymap().\"\"\"\n",
    "import math\n",
    "lst = [1, 2, 3, 4, 12, 13, 14, 20]\n",
    "ls2 = list(map(math.sqrt,lst))\n",
    "print(ls2)\n"
   ]
  },
  {
   "cell_type": "markdown",
   "id": "7b48634b",
   "metadata": {},
   "source": [
    "----------------------------------------------------------------------------------"
   ]
  },
  {
   "cell_type": "code",
   "execution_count": 2,
   "id": "8a710480",
   "metadata": {},
   "outputs": [
    {
     "data": {
      "text/plain": [
       "['Y', 'Z']"
      ]
     },
     "execution_count": 2,
     "metadata": {},
     "output_type": "execute_result"
    }
   ],
   "source": [
    "# Question 2\n",
    "\"\"\"Write a program to implement FILTER function. Filter all upper case letters in a\n",
    "list ['x', 'Y', '2', '3', 'Z', ‘b’] using filter function. Check the answer against your user define\n",
    "function myfilter().\"\"\"\n",
    "\n",
    "def myfilter(val):\n",
    "    if val.isupper():\n",
    "        return True\n",
    "    else:\n",
    "        return False\n",
    "lst = ['x', 'Y', '2', '3', 'Z', 'b']\n",
    "ls2 = list(filter(myfilter, lst))\n",
    "ls2"
   ]
  },
  {
   "cell_type": "markdown",
   "id": "514f828b-43ce-499a-9e42-09182e3c3fa7",
   "metadata": {},
   "source": [
    "----------------------------------------------------------------------------------------------------------------------------------------------------------------------------------------------------"
   ]
  },
  {
   "cell_type": "code",
   "execution_count": 3,
   "id": "d0f26ea6",
   "metadata": {},
   "outputs": [
    {
     "name": "stdout",
     "output_type": "stream",
     "text": [
      "55\n"
     ]
    }
   ],
   "source": [
    "# Question 3\n",
    "\"\"\"Write a program to create a lambda function that takes two characters and\n",
    "concatenates them. Now, apply this function inside REDUCE function that will reduce the list\n",
    "of characters [‘a’, ‘b’, ‘c’, d’] with the intial value ‘x’.\"\"\"\n",
    "from functools import reduce\n",
    "ls1 = [1, 2, 3, 4, 5, 6, 7, 8, 9, 10]\n",
    "ls2 = reduce(lambda x, y: x + y, ls1)\n",
    "print(ls2)"
   ]
  },
  {
   "cell_type": "markdown",
   "id": "9da9d67d-ff18-4d3c-bde2-3fb9ad8b74e4",
   "metadata": {},
   "source": [
    "----------------------------------------------------------------------------------------------------------------------------------------------------------------------------------------------------"
   ]
  },
  {
   "cell_type": "code",
   "execution_count": 4,
   "id": "ab1ffc57",
   "metadata": {},
   "outputs": [
    {
     "name": "stdout",
     "output_type": "stream",
     "text": [
      "[(34587, 163.8), (98762, 284.0), (77226, 88.85000000000001), (88221, 64.97)]\n"
     ]
    }
   ],
   "source": [
    "# Question4 \n",
    "\"\"\"Imagine an accounting routine used in a book shop. It works on a list with\n",
    "sublists, which look like this: \"\"\"\n",
    "\n",
    "book_shop = [[34587, \"Learning Python, Mark Lutz\", 4, 40.95],\n",
    "             [98762, \"Programming Python, Mark Lutz\", 5, 56.80],\n",
    "             [77226, \"Head First Python, Paul Barry\", 3, 32.95],\n",
    "              [88221, \"Einführung in Python3, Bernd Klein\", 3, 24.99]]\n",
    "\"\"\"Write a Python program, which returns a list with 2-tuples. Each tuple consists of an order\n",
    "number and the product of the price per items and the quantity. The product should be\n",
    "decreased by RS 10 if the value of the order is smaller than RS 100.00. Write a Python\n",
    "program using lambda and map functions.\"\"\"\n",
    "\n",
    "result = list(map(lambda x: (x[0], x[2] * x[3] if x[2] * x[3] >= 100 else x[2] * x[3] - 10), book_shop))\n",
    "\n",
    "print(result)\n"
   ]
  },
  {
   "cell_type": "markdown",
   "id": "de9b6c67-f106-42ea-a112-15c2fef9cb97",
   "metadata": {},
   "source": [
    "----------------------------------------------------------------------------------------------------------------------------------------------------------------------------------------------------"
   ]
  }
 ],
 "metadata": {
  "kernelspec": {
   "display_name": "Python 3 (ipykernel)",
   "language": "python",
   "name": "python3"
  },
  "language_info": {
   "codemirror_mode": {
    "name": "ipython",
    "version": 3
   },
   "file_extension": ".py",
   "mimetype": "text/x-python",
   "name": "python",
   "nbconvert_exporter": "python",
   "pygments_lexer": "ipython3",
   "version": "3.9.15"
  }
 },
 "nbformat": 4,
 "nbformat_minor": 5
}
