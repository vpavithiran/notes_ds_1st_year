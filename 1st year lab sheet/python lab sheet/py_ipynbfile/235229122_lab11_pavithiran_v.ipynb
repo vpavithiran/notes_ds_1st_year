{
 "cells": [
  {
   "cell_type": "markdown",
   "id": "1a4e5ac0-581c-4d31-ad55-217a42fccd9c",
   "metadata": {},
   "source": [
    "<center><h2>Programming and Data Structures with Python Lab11.<br> Car Washing Shop Management Using Queues</h2>"
   ]
  },
  {
   "cell_type": "markdown",
   "id": "91b16cab-dc5b-426f-80fc-9a57d5b54285",
   "metadata": {},
   "source": [
    "<h2>NAME: PAVITHIRAN.V\n",
    "<br>ROLL.NO:235229122</h2>"
   ]
  },
  {
   "cell_type": "code",
   "execution_count": 2,
   "id": "56b803a2-0350-48de-aa9f-3a4f7c2f22c4",
   "metadata": {},
   "outputs": [
    {
     "name": "stdout",
     "output_type": "stream",
     "text": [
      "\n",
      "Car Washing Shop Management\n",
      "1. Add a car to the queue\n",
      "2. Wash the next car\n",
      "3. Display the number of cars waiting\n",
      "4. Exit\n"
     ]
    },
    {
     "name": "stdin",
     "output_type": "stream",
     "text": [
      "Enter your choice:  1\n",
      "Enter car details:  nissan gtr45\n"
     ]
    },
    {
     "name": "stdout",
     "output_type": "stream",
     "text": [
      "Car added to the queue.\n",
      "\n",
      "Car Washing Shop Management\n",
      "1. Add a car to the queue\n",
      "2. Wash the next car\n",
      "3. Display the number of cars waiting\n",
      "4. Exit\n"
     ]
    },
    {
     "name": "stdin",
     "output_type": "stream",
     "text": [
      "Enter your choice:  1\n",
      "Enter car details:  Mazda MX5\n"
     ]
    },
    {
     "name": "stdout",
     "output_type": "stream",
     "text": [
      "Car added to the queue.\n",
      "\n",
      "Car Washing Shop Management\n",
      "1. Add a car to the queue\n",
      "2. Wash the next car\n",
      "3. Display the number of cars waiting\n",
      "4. Exit\n"
     ]
    },
    {
     "name": "stdin",
     "output_type": "stream",
     "text": [
      "Enter your choice:  1\n",
      "Enter car details:  Bugatti Chiron\n"
     ]
    },
    {
     "name": "stdout",
     "output_type": "stream",
     "text": [
      "Car added to the queue.\n",
      "\n",
      "Car Washing Shop Management\n",
      "1. Add a car to the queue\n",
      "2. Wash the next car\n",
      "3. Display the number of cars waiting\n",
      "4. Exit\n"
     ]
    },
    {
     "name": "stdin",
     "output_type": "stream",
     "text": [
      "Enter your choice:  2\n"
     ]
    },
    {
     "name": "stdout",
     "output_type": "stream",
     "text": [
      "Car 'nissan gtr45' has been washed.\n",
      "\n",
      "Car Washing Shop Management\n",
      "1. Add a car to the queue\n",
      "2. Wash the next car\n",
      "3. Display the number of cars waiting\n",
      "4. Exit\n"
     ]
    },
    {
     "name": "stdin",
     "output_type": "stream",
     "text": [
      "Enter your choice:  3\n"
     ]
    },
    {
     "name": "stdout",
     "output_type": "stream",
     "text": [
      "There are 2 cars waiting in the queue.\n",
      "\n",
      "Car Washing Shop Management\n",
      "1. Add a car to the queue\n",
      "2. Wash the next car\n",
      "3. Display the number of cars waiting\n",
      "4. Exit\n"
     ]
    },
    {
     "name": "stdin",
     "output_type": "stream",
     "text": [
      "Enter your choice:  2\n"
     ]
    },
    {
     "name": "stdout",
     "output_type": "stream",
     "text": [
      "Car 'Mazda MX5' has been washed.\n",
      "\n",
      "Car Washing Shop Management\n",
      "1. Add a car to the queue\n",
      "2. Wash the next car\n",
      "3. Display the number of cars waiting\n",
      "4. Exit\n"
     ]
    },
    {
     "name": "stdin",
     "output_type": "stream",
     "text": [
      "Enter your choice:  3\n"
     ]
    },
    {
     "name": "stdout",
     "output_type": "stream",
     "text": [
      "There are 1 cars waiting in the queue.\n",
      "\n",
      "Car Washing Shop Management\n",
      "1. Add a car to the queue\n",
      "2. Wash the next car\n",
      "3. Display the number of cars waiting\n",
      "4. Exit\n"
     ]
    },
    {
     "name": "stdin",
     "output_type": "stream",
     "text": [
      "Enter your choice:  2\n"
     ]
    },
    {
     "name": "stdout",
     "output_type": "stream",
     "text": [
      "Car 'Bugatti Chiron' has been washed.\n",
      "\n",
      "Car Washing Shop Management\n",
      "1. Add a car to the queue\n",
      "2. Wash the next car\n",
      "3. Display the number of cars waiting\n",
      "4. Exit\n"
     ]
    },
    {
     "name": "stdin",
     "output_type": "stream",
     "text": [
      "Enter your choice:  4\n"
     ]
    },
    {
     "name": "stdout",
     "output_type": "stream",
     "text": [
      "Thank you for using the car washing shop management program.\n"
     ]
    }
   ],
   "source": [
    "class Queue:\n",
    "    def __init__(self):\n",
    "        self.items = []\n",
    "\n",
    "    def is_empty(self):\n",
    "        return len(self.items) == 0\n",
    "\n",
    "    def enqueue(self, item):\n",
    "        self.items.append(item)\n",
    "\n",
    "    def dequeue(self):\n",
    "        if not self.is_empty():\n",
    "            return self.items.pop(0)\n",
    "        return None\n",
    "\n",
    "    def size(self):\n",
    "        return len(self.items)\n",
    "\n",
    "def main():\n",
    "    car_queue = Queue()\n",
    "\n",
    "    while True:\n",
    "        print(\"\\nCar Washing Shop Management\")\n",
    "        print(\"1. Add a car to the queue\")\n",
    "        print(\"2. Wash the next car\")\n",
    "        print(\"3. Display the number of cars waiting\")\n",
    "        print(\"4. Exit\")\n",
    "\n",
    "        choice = input(\"Enter your choice: \")\n",
    "\n",
    "        if choice == \"1\":\n",
    "            car_details = input(\"Enter car details: \")\n",
    "            car_queue.enqueue(car_details)\n",
    "            print(\"Car added to the queue.\")\n",
    "\n",
    "        elif choice == \"2\":\n",
    "            if not car_queue.is_empty():\n",
    "                washed_car = car_queue.dequeue()\n",
    "                print(f\"Car '{washed_car}' has been washed.\")\n",
    "            else:\n",
    "                print(\"No cars in the queue.\")\n",
    "\n",
    "        elif choice == \"3\":\n",
    "            queue_size = car_queue.size()\n",
    "            print(f\"There are {queue_size} cars waiting in the queue.\")\n",
    "\n",
    "        elif choice == \"4\":\n",
    "            print(\"Thank you for using the car washing shop management program.\")\n",
    "            break\n",
    "\n",
    "        else:\n",
    "            print(\"Invalid choice. Please select a valid option.\")\n",
    "\n",
    "if __name__ == \"__main__\":\n",
    "    main()\n"
   ]
  }
 ],
 "metadata": {
  "kernelspec": {
   "display_name": "Python 3 (ipykernel)",
   "language": "python",
   "name": "python3"
  },
  "language_info": {
   "codemirror_mode": {
    "name": "ipython",
    "version": 3
   },
   "file_extension": ".py",
   "mimetype": "text/x-python",
   "name": "python",
   "nbconvert_exporter": "python",
   "pygments_lexer": "ipython3",
   "version": "3.9.15"
  }
 },
 "nbformat": 4,
 "nbformat_minor": 5
}
