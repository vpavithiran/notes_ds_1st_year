{
 "cells": [
  {
   "cell_type": "markdown",
   "id": "4a13e6a9-71d3-4448-9b1a-8c266c914c25",
   "metadata": {},
   "source": [
    "<center><h2>Programming and Data Structures with Python Lab10.<br> Checking Parenthesis in Expression using Stack</h2>"
   ]
  },
  {
   "cell_type": "markdown",
   "id": "7140479b-27e1-47de-92e6-84464eb441b9",
   "metadata": {},
   "source": [
    "<h2>NAME: PAVITHIRAN.V\n",
    "<br>ROLL.NO:235229122</h2>"
   ]
  },
  {
   "cell_type": "code",
   "execution_count": 2,
   "id": "821f6afd-c2c6-4139-b63e-708aae60e138",
   "metadata": {},
   "outputs": [
    {
     "name": "stdin",
     "output_type": "stream",
     "text": [
      "Enter an expression:  (x+y)/{x-[x*y]}\n"
     ]
    },
    {
     "name": "stdout",
     "output_type": "stream",
     "text": [
      "The parentheses in the expression are balanced.\n"
     ]
    }
   ],
   "source": [
    "class Stack:\n",
    "    def __init__(self):\n",
    "        self.items = []\n",
    "\n",
    "    def is_empty(self):\n",
    "        return len(self.items) == 0\n",
    "\n",
    "    def push(self, item):\n",
    "        self.items.append(item)\n",
    "\n",
    "    def pop(self):\n",
    "        if not self.is_empty():\n",
    "            return self.items.pop()\n",
    "        return None\n",
    "\n",
    "def check_parentheses(expression):\n",
    "    stack = Stack()\n",
    "    opening_brackets = ['[', '(', '{']\n",
    "    closing_brackets = [']', ')', '}']\n",
    "\n",
    "    for char in expression:\n",
    "        if char in opening_brackets:\n",
    "            stack.push(char)\n",
    "        elif char in closing_brackets:\n",
    "            if stack.is_empty():\n",
    "                return False\n",
    "            top = stack.pop()\n",
    "            if opening_brackets.index(top) != closing_brackets.index(char):\n",
    "                return False\n",
    "\n",
    "    return stack.is_empty()\n",
    "\n",
    "user_expression = input(\"Enter an expression: \")\n",
    "result = check_parentheses(user_expression)\n",
    "\n",
    "if result:\n",
    "    print(\"The parentheses in the expression are balanced.\")\n",
    "else:\n",
    "    print(\"The parentheses in the expression are not balanced.\")\n"
   ]
  }
 ],
 "metadata": {
  "kernelspec": {
   "display_name": "Python 3 (ipykernel)",
   "language": "python",
   "name": "python3"
  },
  "language_info": {
   "codemirror_mode": {
    "name": "ipython",
    "version": 3
   },
   "file_extension": ".py",
   "mimetype": "text/x-python",
   "name": "python",
   "nbconvert_exporter": "python",
   "pygments_lexer": "ipython3",
   "version": "3.9.15"
  }
 },
 "nbformat": 4,
 "nbformat_minor": 5
}
