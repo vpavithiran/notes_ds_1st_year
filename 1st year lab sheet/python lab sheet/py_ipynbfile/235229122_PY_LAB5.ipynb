{
 "cells": [
  {
   "cell_type": "markdown",
   "id": "7bbbb86a-ae91-4cb0-af48-66a703f696ff",
   "metadata": {},
   "source": [
    "<center><h2>Programming and Data Structures with Python Lab\n",
    "Lab5.<br> Dictionaries and Regular Expressions</h2>"
   ]
  },
  {
   "cell_type": "markdown",
   "id": "80795571-47a0-4766-ba1e-bf8c15e59ef2",
   "metadata": {},
   "source": [
    "<h2>Name: Pavithiran <br> Roll.no:235229122</h2>"
   ]
  },
  {
   "cell_type": "markdown",
   "id": "d9fffc44",
   "metadata": {},
   "source": [
    "<h3>Question1. Write a program for Fruit Inventory Management.</h3>"
   ]
  },
  {
   "cell_type": "code",
   "execution_count": 2,
   "id": "e328e46b",
   "metadata": {},
   "outputs": [
    {
     "name": "stdout",
     "output_type": "stream",
     "text": [
      "{'apples': 20, 'bananas': 50, 'oranges': 100}\n"
     ]
    }
   ],
   "source": [
    "# 1.\n",
    "\"\"\" Create a dictionary fruits with fruit name as key and quantity available as values.\n",
    "There are 20 apples, 50 bananas, 100 oranges. Then, print outputs for the following\n",
    "queries.\"\"\"\n",
    "fruits = {\"apples\" : 20, \"bananas\" : 50, \"oranges\" : 100}\n",
    "print(fruits)"
   ]
  },
  {
   "cell_type": "code",
   "execution_count": 3,
   "id": "b247cc60",
   "metadata": {},
   "outputs": [
    {
     "name": "stdout",
     "output_type": "stream",
     "text": [
      "apples->20\n",
      "bananas->50\n",
      "oranges->100\n"
     ]
    }
   ],
   "source": [
    "# 2.\n",
    "\"\"\"Show the entire dictionary fruits (Print output as apples -> 20, bananas -> 50, etc)\"\"\"\n",
    "for i in fruits:\n",
    "    print(\"{}->{}\".format(i, fruits.get(i)))"
   ]
  },
  {
   "cell_type": "code",
   "execution_count": 4,
   "id": "2179e478",
   "metadata": {},
   "outputs": [
    {
     "name": "stdout",
     "output_type": "stream",
     "text": [
      "The total number of bananas are 50\n"
     ]
    }
   ],
   "source": [
    "# 3.\n",
    "\"\"\"How many bananas are there?\"\"\"\n",
    "print(\"The total number of bananas are {}\".format(fruits.get('bananas')))"
   ]
  },
  {
   "cell_type": "code",
   "execution_count": 5,
   "id": "787cea77",
   "metadata": {},
   "outputs": [
    {
     "name": "stdout",
     "output_type": "stream",
     "text": [
      "The total number of items in the dictionary are 3\n"
     ]
    }
   ],
   "source": [
    "# 4.\n",
    "\"\"\"How many items in the dictionary?\"\"\"\n",
    "print(\"The total number of items in the dictionary are {}\".format(len(fruits)))"
   ]
  },
  {
   "cell_type": "code",
   "execution_count": 6,
   "id": "bc029f6c",
   "metadata": {},
   "outputs": [
    {
     "name": "stdout",
     "output_type": "stream",
     "text": [
      "There are no grapes in the dictionary\n"
     ]
    }
   ],
   "source": [
    "# 5\n",
    "\"\"\"Does graphs available in the dictionary?\"\"\"\n",
    "if \"grapes\" in fruits:\n",
    "    print(\"There are grapes in the dictionary\")\n",
    "else:\n",
    "    print(\"There are no grapes in the dictionary\")"
   ]
  },
  {
   "cell_type": "code",
   "execution_count": 7,
   "id": "0fb12d5a",
   "metadata": {},
   "outputs": [
    {
     "name": "stdout",
     "output_type": "stream",
     "text": [
      "Pears has been added\n",
      "{'apples': 20, 'bananas': 50, 'oranges': 100, 'pears': 10}\n"
     ]
    }
   ],
   "source": [
    "# 6\n",
    "\"\"\"Does pears exists in the dictionary?. If so, return its quantity, otherwise, add 10\n",
    "pears to dictionary.\"\"\"\n",
    "if \"pears\" in fruits:\n",
    "    print(\"There are {} pears in the dictionary\".format(fruits.get('pears')))\n",
    "else:\n",
    "    fruits[\"pears\"] = 10\n",
    "    print(\"Pears has been added\")\n",
    "print(fruits)"
   ]
  },
  {
   "cell_type": "code",
   "execution_count": 9,
   "id": "e88164db",
   "metadata": {},
   "outputs": [
    {
     "name": "stdout",
     "output_type": "stream",
     "text": [
      "apples\n",
      "bananas\n",
      "oranges\n",
      "pears\n"
     ]
    }
   ],
   "source": [
    "# 7\n",
    "\"\"\" Show all fruit names in ascending order (Iterate using for loop) \"\"\"\n",
    "for i in sorted(fruits):\n",
    "    print(i)"
   ]
  },
  {
   "cell_type": "code",
   "execution_count": 10,
   "id": "f0cfca58",
   "metadata": {},
   "outputs": [
    {
     "name": "stdout",
     "output_type": "stream",
     "text": [
      "pears\n",
      "oranges\n",
      "bananas\n",
      "apples\n"
     ]
    }
   ],
   "source": [
    "# 8\n",
    "\"\"\"Show all fruits in descending order of quantities\"\"\"\n",
    "for i in sorted(fruits, reverse=True):\n",
    "    print(i)"
   ]
  },
  {
   "cell_type": "code",
   "execution_count": 11,
   "id": "7780e337",
   "metadata": {},
   "outputs": [],
   "source": [
    "# 9\n",
    "\"\"\"Remove pears from the dictionary.\"\"\"\n",
    "del fruits[\"pears\"]"
   ]
  },
  {
   "cell_type": "code",
   "execution_count": 12,
   "id": "6bc6e036",
   "metadata": {},
   "outputs": [
    {
     "name": "stdout",
     "output_type": "stream",
     "text": [
      "There are apples 20 in the dictionary\n",
      "There are bananas 50 in the dictionary\n",
      "There are oranges 100 in the dictionary\n"
     ]
    }
   ],
   "source": [
    "# 10\n",
    "\"\"\"Develop a function show() that displays fruit name and quantity (Use .format() for\n",
    "pretty printing)\"\"\"\n",
    "def show():\n",
    "    for i in fruits:\n",
    "        print(\"There are {} {} in the dictionary\".format(i, fruits.get(i)))\n",
    "        \n",
    "show()"
   ]
  },
  {
   "cell_type": "code",
   "execution_count": 13,
   "id": "8c9ce3f0",
   "metadata": {},
   "outputs": [],
   "source": [
    "# 11\n",
    "\"\"\"Develop a function add_fruit(name, quantity) that receives fruit name and quantity\n",
    "as input and increases the quantity of the fruit. Then, display the current inventory\n",
    "by calling show().\"\"\"\n",
    "def add_fruit(name, quantity):\n",
    "    if name in fruits:\n",
    "        fruits.update({name: quantity + fruits.get(name)})\n",
    "        pass\n",
    "    else:\n",
    "        fruits[name] = quantity\n",
    "    show()"
   ]
  },
  {
   "cell_type": "code",
   "execution_count": 14,
   "id": "6c80ba81",
   "metadata": {},
   "outputs": [
    {
     "name": "stdout",
     "output_type": "stream",
     "text": [
      "There are apples 60 in the dictionary\n",
      "There are bananas 50 in the dictionary\n",
      "There are oranges 100 in the dictionary\n"
     ]
    }
   ],
   "source": [
    "# 12\n",
    "\"\"\"Now, add 40 apples to inventory by calling add_fruit(name, quantity)\"\"\"\n",
    "add_fruit(\"apples\", 40)"
   ]
  },
  {
   "cell_type": "code",
   "execution_count": 15,
   "id": "463f60d3",
   "metadata": {},
   "outputs": [
    {
     "name": "stdout",
     "output_type": "stream",
     "text": [
      "There are apples 60 in the dictionary\n",
      "There are bananas 150 in the dictionary\n",
      "There are oranges 100 in the dictionary\n"
     ]
    }
   ],
   "source": [
    "# 13\n",
    "\"\"\"Now, add 100 bananas to inventory, by calling add_fruit(name, quantity)\"\"\"\n",
    "add_fruit(\"bananas\", 100)"
   ]
  },
  {
   "cell_type": "code",
   "execution_count": 16,
   "id": "95668c32",
   "metadata": {},
   "outputs": [
    {
     "name": "stdout",
     "output_type": "stream",
     "text": [
      "There are apples 60 in the dictionary\n",
      "There are bananas 150 in the dictionary\n",
      "There are oranges 100 in the dictionary\n"
     ]
    }
   ],
   "source": [
    "# 14\n",
    "\"\"\"Now, show the current inventory, by calling show()\"\"\"\n",
    "show()"
   ]
  },
  {
   "cell_type": "code",
   "execution_count": 17,
   "id": "07ee74e5",
   "metadata": {},
   "outputs": [],
   "source": [
    "# 15\n",
    "\"\"\"Write the inventory fruits onto a file. (Use Pickle for file writing and reading)\"\"\"\n",
    "import pickle\n",
    "with open('inventory.txt', 'wb') as a:\n",
    "    pickle.dump(fruits, a)"
   ]
  },
  {
   "cell_type": "code",
   "execution_count": 19,
   "id": "257b59d9-d018-46f0-950e-3b38c0c99619",
   "metadata": {},
   "outputs": [
    {
     "name": "stdout",
     "output_type": "stream",
     "text": [
      "{'apples': 60, 'bananas': 150, 'oranges': 100}\n"
     ]
    }
   ],
   "source": [
    "# 16\n",
    "\"\"\"Now, open Pickle file and display the inventory.\"\"\"\n",
    "with open('inventory.txt', 'rb') as a:\n",
    "    print(pickle.load(a))"
   ]
  },
  {
   "cell_type": "markdown",
   "id": "db9d9041-f905-4c59-9223-175454d47b25",
   "metadata": {},
   "source": [
    "-----------------------------------------------------------------------------------------------"
   ]
  },
  {
   "cell_type": "markdown",
   "id": "1696387c-5a30-491d-a5d9-0e002ae0adc9",
   "metadata": {},
   "source": [
    "<h3>Question2. Write a program for Telephone Directory Management</h3>"
   ]
  },
  {
   "cell_type": "code",
   "execution_count": 20,
   "id": "6daec28d-8ee3-4871-8405-3ff34065c1fd",
   "metadata": {},
   "outputs": [],
   "source": [
    "# 1\n",
    "\"\"\"Create an empty dictionary called customers, where name is a key and contacts is a\n",
    "list of contacts such as phoneno and email ID for each customer.\"\"\"\n",
    "customers = dict()"
   ]
  },
  {
   "cell_type": "code",
   "execution_count": 21,
   "id": "3a567512-9ac6-42bb-a11c-a8129962ae31",
   "metadata": {},
   "outputs": [
    {
     "name": "stdin",
     "output_type": "stream",
     "text": [
      "Enter your name(type done to exit):  kumar\n",
      "Enter your phone number  3456787890\n",
      "Enter your mail id:  asdfasd@asd.khd\n",
      "Enter your name(type done to exit):  rajesh\n",
      "Enter your phone number  32456778765\n",
      "Enter your mail id:  ytghvfty@hj.coi\n",
      "Enter your name(type done to exit):  rahul\n",
      "Enter your phone number  89458743767\n",
      "Enter your mail id:  iuybtty@llu.ji\n",
      "Enter your name(type done to exit):  done\n"
     ]
    }
   ],
   "source": [
    "# 2\n",
    "\"\"\"Ask user to enter name and his contacts for N customers. Add them to dictionary\n",
    "customers. Stop reading when user types “done”.\"\"\"\n",
    "while True:\n",
    "    name = input(\"Enter your name(type done to exit): \")\n",
    "    if name == 'done':\n",
    "        break\n",
    "    phoneno = input(\"Enter your phone number \")\n",
    "    email = input(\"Enter your mail id: \")\n",
    "    customers.update({name:[phoneno, email]})"
   ]
  },
  {
   "cell_type": "code",
   "execution_count": 22,
   "id": "aa9d3b1f-0678-481c-ba64-38aaee97ed3d",
   "metadata": {},
   "outputs": [
    {
     "name": "stdout",
     "output_type": "stream",
     "text": [
      "Contacts not exists...\n"
     ]
    }
   ],
   "source": [
    "# 3\n",
    "\"\"\"Show the contacts for customer “rex”. If not exists, print message “Contacts not\n",
    "exists..”\"\"\"\n",
    "if \"rex\" not in customers:\n",
    "    print(\"Contacts not exists...\")"
   ]
  },
  {
   "cell_type": "code",
   "execution_count": 23,
   "id": "db543d9f-5556-4517-9ca6-ab02bdaa03c0",
   "metadata": {},
   "outputs": [
    {
     "name": "stdout",
     "output_type": "stream",
     "text": [
      "{'kumar': ['3456787890', 'asdfasd@asd.khd'], 'rajesh': ['32456778765', 'ytghvfty@hj.coi'], 'rahul': ['89458743767', 'iuybtty@llu.ji'], 'rex': ['9942002764', 'rajkumar@bhc.edu']}\n"
     ]
    }
   ],
   "source": [
    "# 4\n",
    "\"\"\"Add a new customer with name “rex”, phone number 9942002764 and email id\n",
    "rajkumar@bhc.edu\"\"\"\n",
    "customers.update({\"rex\":[\"9942002764\", \"rajkumar@bhc.edu\"]})\n",
    "print(customers)"
   ]
  },
  {
   "cell_type": "code",
   "execution_count": 24,
   "id": "676e597c-1324-46a5-b1b7-f6b250ae3c0d",
   "metadata": {},
   "outputs": [
    {
     "name": "stdout",
     "output_type": "stream",
     "text": [
      "Name of the customer is kumar .His phone number is 3456787890 and his mail id is asdfasd@asd.khd\n",
      "Name of the customer is rajesh .His phone number is 32456778765 and his mail id is ytghvfty@hj.coi\n",
      "Name of the customer is rahul .His phone number is 89458743767 and his mail id is iuybtty@llu.ji\n",
      "Name of the customer is rex .His phone number is 9942002764 and his mail id is rajkumar@bhc.edu\n"
     ]
    }
   ],
   "source": [
    "# 5 \n",
    "\"\"\"Show all customers both name and contacts. (Use items() method, unpack it and\n",
    "print inside for loop)\"\"\"\n",
    "for i, y in customers.items():\n",
    "    print(\"Name of the customer is {} .His phone number is {} and his mail id is {}\".format(i, y[0], y[1]))"
   ]
  },
  {
   "cell_type": "code",
   "execution_count": 25,
   "id": "7c1c0a99-5faf-4126-a96f-9988e66c3a27",
   "metadata": {},
   "outputs": [
    {
     "name": "stdout",
     "output_type": "stream",
     "text": [
      "number: 3456787890.  mail id: asdfasd@asd.khd\n",
      "number: 32456778765.  mail id: ytghvfty@hj.coi\n",
      "number: 89458743767.  mail id: iuybtty@llu.ji\n",
      "number: 9942002764.  mail id: rajkumar@bhc.edu\n"
     ]
    }
   ],
   "source": [
    "# 6\n",
    "\"\"\"Show all customer contacts (Iterate using for loop)\"\"\"\n",
    "for i, y in customers.items():\n",
    "    print(\"number: {}.  mail id: {}\".format(y[0], y[1]))"
   ]
  },
  {
   "cell_type": "code",
   "execution_count": 26,
   "id": "bee295ba-7fb6-4766-8629-e2355dbccd0c",
   "metadata": {},
   "outputs": [
    {
     "name": "stdout",
     "output_type": "stream",
     "text": [
      "kumar\n",
      "rahul\n",
      "rajesh\n",
      "rex\n"
     ]
    }
   ],
   "source": [
    "# 7\n",
    "\"\"\"Show all customer names in alphabetical order\"\"\"\n",
    "for i in sorted(customers.keys()):\n",
    "    print(i)"
   ]
  },
  {
   "cell_type": "code",
   "execution_count": 27,
   "id": "c9354e38-9e98-4b24-be75-b781903aea4b",
   "metadata": {},
   "outputs": [
    {
     "name": "stdout",
     "output_type": "stream",
     "text": [
      "The total number of customer is  4\n"
     ]
    }
   ],
   "source": [
    "# 8\n",
    "\"\"\"How many customers are there in your dictionary?\"\"\"\n",
    "print(\"The total number of customer is \", len(customers))"
   ]
  },
  {
   "cell_type": "code",
   "execution_count": 28,
   "id": "96ff6deb-8db5-42ef-a300-b38b4ff804ba",
   "metadata": {},
   "outputs": [
    {
     "name": "stdout",
     "output_type": "stream",
     "text": [
      "{'kumar': ['3456787890', 'asdfasd@asd.khd'], 'rajesh': ['32456778765', 'ytghvfty@hj.coi'], 'rahul': ['89458743767', 'iuybtty@llu.ji']}\n"
     ]
    }
   ],
   "source": [
    "# 9\n",
    "\"\"\"Remove customer “rex” from dictionary customers\"\"\"\n",
    "del customers['rex']\n",
    "print(customers)"
   ]
  },
  {
   "cell_type": "markdown",
   "id": "49605457-b971-4898-8024-b5d9e0629164",
   "metadata": {},
   "source": [
    "-----------------------------------------------------------------------------------------------"
   ]
  },
  {
   "cell_type": "markdown",
   "id": "c9529520",
   "metadata": {},
   "source": [
    "<h3>Question3. Write a program for Character and word counter.</h3>"
   ]
  },
  {
   "cell_type": "code",
   "execution_count": 62,
   "id": "0ebe4f2c",
   "metadata": {},
   "outputs": [
    {
     "name": "stdout",
     "output_type": "stream",
     "text": [
      "Characters frequency:\n",
      "e: 94\n",
      "r: 75\n",
      "t: 70\n",
      "a: 68\n",
      "i: 61\n",
      "o: 61\n",
      "n: 49\n",
      "s: 47\n",
      "d: 40\n",
      "h: 34\n",
      "l: 34\n",
      "m: 27\n",
      "c: 24\n",
      "u: 22\n",
      "f: 16\n",
      "y: 14\n",
      "w: 14\n",
      "p: 11\n",
      "g: 10\n",
      "b: 8\n",
      "v: 6\n",
      "x: 3\n",
      "\n",
      "Words frequency:\n",
      "the: 13\n",
      "army: 8\n",
      "a: 5\n",
      "british: 4\n",
      "armies: 4\n",
      "an: 4\n",
      "and: 4\n",
      "second: 3\n",
      "were: 3\n",
      "as: 3\n",
      "was: 3\n",
      "of: 3\n",
      "created: 2\n",
      "war: 2\n",
      "that: 2\n",
      "controlled: 2\n",
      "corps: 2\n",
      "in: 2\n",
      "divisions: 2\n",
      "would: 2\n",
      "control: 2\n",
      "to: 2\n",
      "or: 2\n",
      "command: 2\n",
      "allied: 2\n",
      "several: 1\n",
      "field: 1\n",
      "during: 1\n",
      "world: 1\n",
      "there: 1\n",
      "formations: 1\n",
      "multiple: 1\n",
      "which: 1\n",
      "turn: 1\n",
      "numerous: 1\n",
      "also: 1\n",
      "additional: 1\n",
      "artillery: 1\n",
      "engineers: 1\n",
      "logistical: 1\n",
      "units: 1\n",
      "be: 1\n",
      "used: 1\n",
      "support: 1\n",
      "subordinate: 1\n",
      "needed: 1\n",
      "each: 1\n",
      "generally: 1\n",
      "under: 1\n",
      "higher: 1\n",
      "formation: 1\n",
      "such: 1\n",
      "group: 1\n",
      "over: 1\n",
      "course: 1\n",
      "eight: 1\n",
      "formed: 1\n",
      "by: 1\n",
      "attempt: 1\n",
      "form: 1\n",
      "ninth: 1\n",
      "expeditionary: 1\n",
      "force: 1\n",
      "overall: 1\n",
      "made: 1\n",
      "one: 1\n",
      "regional: 1\n",
      "redesignated: 1\n",
      "for: 1\n",
      "short: 1\n",
      "period: 1\n",
      "inter: 1\n",
      "co: 1\n",
      "operation: 1\n",
      "resulted: 1\n",
      "creation: 1\n",
      "first: 1\n",
      "air: 1\n",
      "borne: 1\n",
      "deception: 1\n",
      "efforts: 1\n",
      "saw: 1\n",
      "further: 1\n",
      "four: 1\n",
      "existed: 1\n",
      "within: 1\n",
      "military: 1\n",
      "structure: 1\n",
      "seventeen: 1\n",
      "real: 1\n",
      "fictitious: 1\n",
      "although: 1\n",
      "they: 1\n",
      "did: 1\n",
      "not: 1\n",
      "all: 1\n",
      "exist: 1\n",
      "at: 1\n",
      "same: 1\n",
      "time: 1\n"
     ]
    }
   ],
   "source": [
    "\"\"\"Develop an application that reads a file and prints words in descending order of their\n",
    "frequency.\n",
    " Also print the letters such as ‘a’, , ‘b’, etc, in decreasing order of frequency. Your\n",
    "program should convert all the input to lower case and only count the letters a-z.\n",
    "Your program should not count spaces, digits, punctuation, or anything other than\n",
    "the letters a-z.\"\"\"\n",
    "import re\n",
    "\n",
    "with open('sample.txt', 'r') as file:\n",
    "    text = file.read().lower()\n",
    "\n",
    "words = re.findall(r'\\b[a-z]+\\b', text)\n",
    "char_counts = {}\n",
    "for char in text:\n",
    "    if char.isalpha():\n",
    "        char_counts[char] = char_counts.get(char, 0) + 1\n",
    "\n",
    "word_counts = {}\n",
    "for word in words:\n",
    "    word_counts[word] = word_counts.get(word, 0) + 1\n",
    "\n",
    "sorted_characters = sorted(char_counts.items(), key=lambda item: item[1], reverse=True)\n",
    "sorted_words = sorted(word_counts.items(), key=lambda item: item[1], reverse=True)\n",
    "print(\"Characters frequency:\")\n",
    "for char, freq in sorted_characters:\n",
    "    print(f\"{char}: {freq}\")\n",
    "\n",
    "print(\"\\nWords frequency:\")\n",
    "for word, freq in sorted_words:\n",
    "    print(f\"{word}: {freq}\")\n",
    "\n"
   ]
  },
  {
   "cell_type": "markdown",
   "id": "8f03c797-6231-4d10-8d62-c7d2f13ac80c",
   "metadata": {},
   "source": [
    "<h3>Question4. Using Email Collections file, mbox-short.txt, write a python program for the\n",
    "following queries.</h3>"
   ]
  },
  {
   "cell_type": "code",
   "execution_count": 35,
   "id": "3d4da4e9-3d98-4ba2-b63b-642c37cce032",
   "metadata": {},
   "outputs": [],
   "source": [
    "import re\n",
    "with open(\"mbox-short copy.txt\", 'r') as file:\n",
    "    lines = file.readlines()"
   ]
  },
  {
   "cell_type": "code",
   "execution_count": 36,
   "id": "32806283-fc8d-42a2-97b9-66bf6d679f16",
   "metadata": {},
   "outputs": [
    {
     "name": "stdout",
     "output_type": "stream",
     "text": [
      "Lines that contain 'From':\n",
      "From: sender@example.com\n",
      "From: john@example.com\n",
      "From A12: This line has a number less than 00\n",
      "From B56: This line has a number greater than 00\n",
      "From C00: This line has a number equal to 00\n",
      "From D101: This line has a number greater than 99\n",
      "From X123: 12.5\n",
      "From Y45: 0.987\n",
      "From Z78: -3.14\n",
      "From Q01: 3.14\n",
      "From R99: 0\n",
      "From A00: 2.718\n",
      "From: test@example.com\n",
      "From T09: 1.414\n",
      "From U10: 0.5\n",
      "From V17: 2.718\n",
      "From: user@example.com\n",
      "From W89: 0.1\n",
      "From X90: 0\n",
      "From Y34: 3.14\n",
      "From Z12: -1.414\n"
     ]
    }
   ],
   "source": [
    "# 1\n",
    "\"\"\"Search for lines that contain 'From' and print them\"\"\"\n",
    "print(\"Lines that contain 'From':\")\n",
    "for line in lines:\n",
    "    if 'From' in line:\n",
    "        print(line.rstrip())"
   ]
  },
  {
   "cell_type": "code",
   "execution_count": 37,
   "id": "de5788a8-802a-43e0-a47a-ee24441afbfa",
   "metadata": {},
   "outputs": [
    {
     "name": "stdout",
     "output_type": "stream",
     "text": [
      "Lines that start with 'From':\n",
      "From: sender@example.com\n",
      "From: john@example.com\n",
      "From A12: This line has a number less than 00\n",
      "From B56: This line has a number greater than 00\n",
      "From C00: This line has a number equal to 00\n",
      "From D101: This line has a number greater than 99\n",
      "From X123: 12.5\n",
      "From Y45: 0.987\n",
      "From Z78: -3.14\n",
      "From Q01: 3.14\n",
      "From R99: 0\n",
      "From A00: 2.718\n",
      "From: test@example.com\n",
      "From T09: 1.414\n",
      "From U10: 0.5\n",
      "From V17: 2.718\n",
      "From: user@example.com\n",
      "From W89: 0.1\n",
      "From X90: 0\n",
      "From Y34: 3.14\n",
      "From Z12: -1.414\n"
     ]
    }
   ],
   "source": [
    "# 2\n",
    "\"\"\"Search for lines that start with 'From' and print them\"\"\"\n",
    "print(\"Lines that start with 'From':\")\n",
    "for line in lines:\n",
    "    if line.startswith('From'):\n",
    "        print(line.rstrip())"
   ]
  },
  {
   "cell_type": "code",
   "execution_count": 38,
   "id": "7d55b9b8-5a46-449f-bbe7-cd6da31984c0",
   "metadata": {},
   "outputs": [
    {
     "name": "stdout",
     "output_type": "stream",
     "text": [
      "Lines that match 'F__m:' pattern:\n",
      "From: sender@example.com\n",
      "From: john@example.com\n",
      "From: test@example.com\n",
      "From: user@example.com\n"
     ]
    }
   ],
   "source": [
    "# 3\n",
    "\"\"\"Search for lines that start with 'F', followed by 2 characters, followed by 'm:'\"\"\"\n",
    "print(\"Lines that match 'F__m:' pattern:\")\n",
    "for line in lines:\n",
    "    if re.search(r'F..m:', line):\n",
    "        print(line.rstrip())\n"
   ]
  },
  {
   "cell_type": "code",
   "execution_count": 39,
   "id": "4ae4e401-4b9f-4efd-bfc5-3d7f69fef540",
   "metadata": {},
   "outputs": [
    {
     "name": "stdout",
     "output_type": "stream",
     "text": [
      "Lines starting with 'From' and containing '@':\n",
      "From: sender@example.com\n",
      "From: john@example.com\n",
      "From: test@example.com\n",
      "From: user@example.com\n"
     ]
    }
   ],
   "source": [
    "# 4\n",
    "\"\"\"Search for lines that start with From and have an at sign and print them\"\"\"\n",
    "print(\"Lines starting with 'From' and containing '@':\")\n",
    "for line in lines:\n",
    "    if re.search(r'^From.*@', line):\n",
    "        print(line.rstrip())"
   ]
  },
  {
   "cell_type": "code",
   "execution_count": 40,
   "id": "3ad01ded-ba10-4f81-aae2-2de38ecbef48",
   "metadata": {},
   "outputs": [
    {
     "name": "stdout",
     "output_type": "stream",
     "text": [
      "Lines with at sign between characters:\n",
      "['sender@example.com']\n",
      "['john@example.com']\n",
      "['example@gmail.com']\n",
      "['another@example.com']\n",
      "['test@example.com']\n",
      "['123@example.org']\n",
      "['test@example.com']\n",
      "['user@example.com']\n",
      "['test@example.com']\n",
      "['user@example.com']\n",
      "['contact@example.com']\n",
      "['info@example.com']\n",
      "['xyz@example.com']\n",
      "['abc@example.com']\n",
      "['sample@example.com']\n",
      "['test@example.com']\n",
      "['sample@example.com']\n",
      "['user@example.com']\n",
      "['contact@example.com']\n",
      "['info@example.com']\n",
      "['xyz@example.com']\n",
      "['abc@example.com']\n",
      "['john@example.com']\n",
      "['sender@example.com']\n",
      "['another@example.com']\n",
      "['example@gmail.com']\n",
      "['test@example.org']\n",
      "['123@example.org']\n",
      "['example@example.org']\n",
      "['sample@example.org']\n",
      "['user@example.org']\n",
      "['contact@example.org']\n",
      "['info@example.org']\n",
      "['xyz@example.org']\n",
      "['abc@example.org']\n",
      "['john@example.org']\n",
      "['sender@example.org']\n",
      "['another@example.org']\n",
      "['test@domain.com']\n",
      "['sample@domain.com']\n",
      "['user@domain.com']\n",
      "['contact@domain.com']\n",
      "['info@domain.com']\n",
      "['xyz@domain.com']\n",
      "['abc@domain.com']\n",
      "['john@domain.com']\n",
      "['sender@domain.com']\n",
      "['another@domain.com']\n",
      "['test@example.net']\n",
      "['sample@example.net']\n",
      "['user@example.net']\n",
      "['contact@example.net']\n",
      "['info@example.net']\n",
      "['xyz@example.net']\n",
      "['abc@example.net']\n",
      "['john@example.net']\n",
      "['sender@example.net']\n",
      "['another@example.net']\n",
      "['test@domain.net']\n",
      "['sample@domain.net']\n",
      "['user@domain.net']\n",
      "['contact@domain.net']\n",
      "['info@domain.net']\n",
      "['xyz@domain.net']\n",
      "['abc@domain.net']\n",
      "['john@domain.net']\n",
      "['sender@domain.net']\n",
      "['another@domain.net']\n",
      "['test@example.co.uk']\n",
      "['sample@example.co.uk']\n",
      "['user@example.co.uk']\n",
      "['contact@example.co.uk']\n",
      "['info@example.co.uk']\n",
      "['xyz@example.co.uk']\n",
      "['abc@example.co.uk']\n",
      "['john@example.co.uk']\n",
      "['sender@example.co.uk']\n",
      "['another@example.co.uk']\n",
      "['test@domain.co.uk']\n",
      "['sample@domain.co.uk']\n",
      "['user@domain.co.uk']\n",
      "['contact@domain.co.uk']\n",
      "['info@domain.co.uk']\n",
      "['xyz@domain.co.uk']\n",
      "['abc@domain.co.uk']\n",
      "['john@domain.co.uk']\n",
      "['sender@domain.co.uk']\n",
      "['another@domain.co.uk']\n",
      "['test@example.ca']\n",
      "['sample@example.ca']\n",
      "['user@example.ca']\n",
      "['contact@example.ca']\n",
      "['info@example.ca']\n",
      "['xyz@example.ca']\n",
      "['abc@example.ca']\n",
      "['john@example.ca']\n",
      "['sender@example.ca']\n",
      "['another@example.ca']\n",
      "['test@domain.ca']\n",
      "['sample@domain.ca']\n",
      "['user@domain.ca']\n",
      "['contact@domain.ca']\n",
      "['info@domain.ca']\n",
      "['xyz@domain.ca']\n",
      "['abc@domain.ca']\n",
      "['john@domain.ca']\n",
      "['sender@domain.ca']\n",
      "['another@domain.ca']\n",
      "['test@example.us']\n",
      "['sample@example.us']\n",
      "['user@example.us']\n",
      "['contact@example.us']\n",
      "['info@example.us']\n",
      "['xyz@example.us']\n",
      "['abc@example.us']\n",
      "['john@example.us']\n",
      "['sender@example.us']\n",
      "['another@example.us']\n",
      "['test@domain.us']\n",
      "['sample@domain.us']\n",
      "['user@domain.us']\n",
      "['contact@domain.us']\n",
      "['info@domain.us']\n",
      "['xyz@domain.us']\n",
      "['abc@domain.us']\n",
      "['john@domain.us']\n",
      "['sender@domain.us']\n",
      "['another@domain.us']\n",
      "['test@example.io']\n",
      "['sample@example.io']\n",
      "['user@example.io']\n",
      "['contact@example.io']\n",
      "['info@example.io']\n",
      "['xyz@example.io']\n",
      "['abc@example.io']\n",
      "['john@example.io']\n",
      "['sender@example.io']\n",
      "['another@example.io']\n",
      "['test@domain.io']\n",
      "['sample@domain.io']\n",
      "['user@domain.io']\n",
      "['contact@domain.io']\n",
      "['info@domain.io']\n",
      "['xyz@domain.io']\n",
      "['abc@domain.io']\n",
      "['john@domain.io']\n",
      "['sender@domain.io']\n",
      "['another@domain.io']\n",
      "['test@example.org.uk']\n",
      "['sample@example.org.uk']\n",
      "['user@example.org.uk']\n",
      "['contact@example.org.uk']\n",
      "['info@example.org.uk']\n",
      "['xyz@example.org.uk']\n",
      "['abc@example.org.uk']\n",
      "['john@example.org.uk']\n",
      "['sender@example.org.uk']\n",
      "['another@example.org.uk']\n",
      "['test@domain.org.uk']\n",
      "['sample@domain.org.uk']\n",
      "['user@domain.org.uk']\n",
      "['contact@domain.org.uk']\n",
      "['info@domain.org.uk']\n",
      "['xyz@domain.org.uk']\n",
      "['abc@domain.org.uk']\n",
      "['john@domain.org.uk']\n",
      "['sender@domain.org.uk']\n",
      "['another@domain.org.uk']\n",
      "['test@example.com.au']\n",
      "['sample@example.com.au']\n",
      "['user@example.com.au']\n",
      "['contact@example.com.au']\n",
      "['info@example.com.au']\n",
      "['xyz@example.com.au']\n",
      "['abc@example.com.au']\n",
      "['john@example.com.au']\n",
      "['sender@example.com.au']\n",
      "['another@example.com.au']\n",
      "['test@domain.com.au']\n",
      "['sample@domain.com.au']\n",
      "['user@domain.com.au']\n",
      "['contact@domain.com.au']\n",
      "['info@domain.com.au']\n",
      "['xyz@domain.com.au']\n",
      "['abc@domain.com.au']\n",
      "['john@domain.com.au']\n"
     ]
    }
   ],
   "source": [
    "# 5\n",
    "\"\"\"Search for lines that have an at sign between characters and print them (Use\n",
    "findall())\"\"\"\n",
    "print(\"Lines with at sign between characters:\")\n",
    "for line in lines:\n",
    "    matches = re.findall(r'\\S+@\\S+', line)\n",
    "    if matches:\n",
    "        print(matches)"
   ]
  },
  {
   "cell_type": "code",
   "execution_count": 41,
   "id": "12ae3be7-dfa8-473c-8893-196985020950",
   "metadata": {},
   "outputs": [
    {
     "name": "stdout",
     "output_type": "stream",
     "text": [
      "Lines with at sign between letters or numbers:\n",
      "['sender@example']\n",
      "['john@example']\n",
      "['example@gmail']\n",
      "['another@example']\n",
      "['test@example']\n",
      "['123@example']\n",
      "['test@example']\n",
      "['user@example']\n",
      "['test@example']\n",
      "['user@example']\n",
      "['contact@example']\n",
      "['info@example']\n",
      "['xyz@example']\n",
      "['abc@example']\n",
      "['sample@example']\n",
      "['test@example']\n",
      "['sample@example']\n",
      "['user@example']\n",
      "['contact@example']\n",
      "['info@example']\n",
      "['xyz@example']\n",
      "['abc@example']\n",
      "['john@example']\n",
      "['sender@example']\n",
      "['another@example']\n",
      "['example@gmail']\n",
      "['test@example']\n",
      "['123@example']\n",
      "['example@example']\n",
      "['sample@example']\n",
      "['user@example']\n",
      "['contact@example']\n",
      "['info@example']\n",
      "['xyz@example']\n",
      "['abc@example']\n",
      "['john@example']\n",
      "['sender@example']\n",
      "['another@example']\n",
      "['test@domain']\n",
      "['sample@domain']\n",
      "['user@domain']\n",
      "['contact@domain']\n",
      "['info@domain']\n",
      "['xyz@domain']\n",
      "['abc@domain']\n",
      "['john@domain']\n",
      "['sender@domain']\n",
      "['another@domain']\n",
      "['test@example']\n",
      "['sample@example']\n",
      "['user@example']\n",
      "['contact@example']\n",
      "['info@example']\n",
      "['xyz@example']\n",
      "['abc@example']\n",
      "['john@example']\n",
      "['sender@example']\n",
      "['another@example']\n",
      "['test@domain']\n",
      "['sample@domain']\n",
      "['user@domain']\n",
      "['contact@domain']\n",
      "['info@domain']\n",
      "['xyz@domain']\n",
      "['abc@domain']\n",
      "['john@domain']\n",
      "['sender@domain']\n",
      "['another@domain']\n",
      "['test@example']\n",
      "['sample@example']\n",
      "['user@example']\n",
      "['contact@example']\n",
      "['info@example']\n",
      "['xyz@example']\n",
      "['abc@example']\n",
      "['john@example']\n",
      "['sender@example']\n",
      "['another@example']\n",
      "['test@domain']\n",
      "['sample@domain']\n",
      "['user@domain']\n",
      "['contact@domain']\n",
      "['info@domain']\n",
      "['xyz@domain']\n",
      "['abc@domain']\n",
      "['john@domain']\n",
      "['sender@domain']\n",
      "['another@domain']\n",
      "['test@example']\n",
      "['sample@example']\n",
      "['user@example']\n",
      "['contact@example']\n",
      "['info@example']\n",
      "['xyz@example']\n",
      "['abc@example']\n",
      "['john@example']\n",
      "['sender@example']\n",
      "['another@example']\n",
      "['test@domain']\n",
      "['sample@domain']\n",
      "['user@domain']\n",
      "['contact@domain']\n",
      "['info@domain']\n",
      "['xyz@domain']\n",
      "['abc@domain']\n",
      "['john@domain']\n",
      "['sender@domain']\n",
      "['another@domain']\n",
      "['test@example']\n",
      "['sample@example']\n",
      "['user@example']\n",
      "['contact@example']\n",
      "['info@example']\n",
      "['xyz@example']\n",
      "['abc@example']\n",
      "['john@example']\n",
      "['sender@example']\n",
      "['another@example']\n",
      "['test@domain']\n",
      "['sample@domain']\n",
      "['user@domain']\n",
      "['contact@domain']\n",
      "['info@domain']\n",
      "['xyz@domain']\n",
      "['abc@domain']\n",
      "['john@domain']\n",
      "['sender@domain']\n",
      "['another@domain']\n",
      "['test@example']\n",
      "['sample@example']\n",
      "['user@example']\n",
      "['contact@example']\n",
      "['info@example']\n",
      "['xyz@example']\n",
      "['abc@example']\n",
      "['john@example']\n",
      "['sender@example']\n",
      "['another@example']\n",
      "['test@domain']\n",
      "['sample@domain']\n",
      "['user@domain']\n",
      "['contact@domain']\n",
      "['info@domain']\n",
      "['xyz@domain']\n",
      "['abc@domain']\n",
      "['john@domain']\n",
      "['sender@domain']\n",
      "['another@domain']\n",
      "['test@example']\n",
      "['sample@example']\n",
      "['user@example']\n",
      "['contact@example']\n",
      "['info@example']\n",
      "['xyz@example']\n",
      "['abc@example']\n",
      "['john@example']\n",
      "['sender@example']\n",
      "['another@example']\n",
      "['test@domain']\n",
      "['sample@domain']\n",
      "['user@domain']\n",
      "['contact@domain']\n",
      "['info@domain']\n",
      "['xyz@domain']\n",
      "['abc@domain']\n",
      "['john@domain']\n",
      "['sender@domain']\n",
      "['another@domain']\n",
      "['test@example']\n",
      "['sample@example']\n",
      "['user@example']\n",
      "['contact@example']\n",
      "['info@example']\n",
      "['xyz@example']\n",
      "['abc@example']\n",
      "['john@example']\n",
      "['sender@example']\n",
      "['another@example']\n",
      "['test@domain']\n",
      "['sample@domain']\n",
      "['user@domain']\n",
      "['contact@domain']\n",
      "['info@domain']\n",
      "['xyz@domain']\n",
      "['abc@domain']\n",
      "['john@domain']\n"
     ]
    }
   ],
   "source": [
    "# 6\n",
    "\"\"\"Search for lines that have an at sign between characters. The characters must be a\n",
    "letter or number and print them\"\"\"\n",
    "print(\"Lines with at sign between letters or numbers:\")\n",
    "for line in lines:\n",
    "    matches = re.findall(r'[a-zA-Z0-9]+@[a-zA-Z0-9]+', line)\n",
    "    if matches:\n",
    "        print(matches)"
   ]
  },
  {
   "cell_type": "code",
   "execution_count": 42,
   "id": "a8896d6f-6a72-47b6-8d39-8ae79ed14352",
   "metadata": {},
   "outputs": [
    {
     "name": "stdout",
     "output_type": "stream",
     "text": [
      "Numbers after 'X__:' pattern:\n",
      "12.5\n",
      "0.5\n"
     ]
    }
   ],
   "source": [
    "# 7\n",
    "\"\"\"Search for lines that start with 'X' followed by any non white space characters and ':',\n",
    "followed by a space and any number. The number can include a decimal.\"\"\"\n",
    "print(\"Numbers after 'X__:' pattern:\")\n",
    "for line in lines:\n",
    "    matches = re.findall(r'X\\S+: (\\d+(\\.\\d+)?)', line)\n",
    "    for match in matches:\n",
    "        if float(match[0]) > 0:\n",
    "            print(match[0])"
   ]
  },
  {
   "cell_type": "code",
   "execution_count": 43,
   "id": "2c9b6a0b-1cf6-45dd-9b32-e5fd7d5959ae",
   "metadata": {},
   "outputs": [
    {
     "name": "stdout",
     "output_type": "stream",
     "text": [
      "Numbers after 'X__:' pattern (alternate approach):\n",
      "12.5\n",
      "0.5\n"
     ]
    }
   ],
   "source": [
    "# 8\n",
    "\"\"\"Search for lines that start with 'X' followed by any non whitespace characters and ':'\n",
    "followed by a space and any number. The number can include a decimal. Then print\n",
    "the number if it is greater than zero.\"\"\"\n",
    "print(\"Numbers after 'X__:' pattern (alternate approach):\")\n",
    "for line in lines:\n",
    "    match = re.search(r'X\\S+: (\\d+(\\.\\d+)?)', line)\n",
    "    if match and float(match.group(1)) > 0:\n",
    "        print(match.group(1))"
   ]
  },
  {
   "cell_type": "code",
   "execution_count": 44,
   "id": "fb95fe25-d101-4675-ae98-98a4eb228a86",
   "metadata": {},
   "outputs": [
    {
     "name": "stdout",
     "output_type": "stream",
     "text": [
      "Numbers after 'Details: rev=':\n",
      "1.2345\n",
      "0.345\n",
      "3.14159\n",
      "2.71828\n",
      "2.0\n",
      "0.123\n",
      "1.618\n",
      "1.732\n",
      "0.5\n"
     ]
    }
   ],
   "source": [
    "# 9\n",
    "\"\"\"Search for lines that start with 'Details: rev=', followed by numbers and '.'. Then print\n",
    "the number if it is greater than zero\"\"\"\n",
    "print(\"Numbers after 'Details: rev=':\")\n",
    "for line in lines:\n",
    "    match = re.search(r'Details: rev=([\\d.]+)', line)\n",
    "    if match and float(match.group(1)) > 0:\n",
    "        print(match.group(1))\n"
   ]
  },
  {
   "cell_type": "code",
   "execution_count": 45,
   "id": "33b9fae0-fe8e-439e-bf21-75596b9a208d",
   "metadata": {},
   "outputs": [
    {
     "name": "stdout",
     "output_type": "stream",
     "text": [
      "Numbers after 'From __ __:' pattern:\n",
      "12\n",
      "56\n",
      "45\n",
      "78\n",
      "01\n",
      "99\n",
      "09\n",
      "10\n",
      "17\n",
      "89\n",
      "90\n",
      "34\n",
      "12\n"
     ]
    }
   ],
   "source": [
    "# 10\n",
    "\"\"\"Search for lines that start with From and a character followed by a two digit number\n",
    "between 00 and 99 followed by ':'. Then print the number if it is greater than zero\"\"\"\n",
    "print(\"Numbers after 'From __ __:' pattern:\")\n",
    "for line in lines:\n",
    "    match = re.search(r'From [a-zA-Z]([0-9]{2}):', line)\n",
    "    if match and int(match.group(1)) > 0:\n",
    "        print(match.group(1))\n"
   ]
  },
  {
   "cell_type": "markdown",
   "id": "fcb0da4c-670e-4c0a-9097-f6933d104b11",
   "metadata": {},
   "source": [
    "<h3>Question 5. Baby Names Popularity Analysis</h3>"
   ]
  },
  {
   "cell_type": "markdown",
   "id": "5b4694b7-66b1-46af-98bd-f23776e13eb8",
   "metadata": {},
   "source": [
    "<h4>Reference:<a href> https://developers.google.com/edu/python/exercises/baby-names<a>"
   ]
  },
  {
   "cell_type": "raw",
   "id": "211cea65-139b-429a-8e76-2297f5e88af7",
   "metadata": {},
   "source": [
    "\"\"\"The Social Security administration has this neat data by year of what names are most\n",
    "popular for babies born that year in the USA. The files baby1990.html baby1992.html ...\n",
    "contain raw html pages. Take a look at the html and think about how you might scrape the\n",
    "data out of it.\n",
    "In the babynames.py file, implement the extract_names(filename) function which takes the\n",
    "filename of a baby1990.html file and returns the data from the file as a single list -- the year\n",
    "string at the start of the list followed by the name-rank strings in alphabetical order. ['2006',\n",
    "'Aaliyah 91', 'Abagail 895', 'Aaron 57', ...].\n",
    "\n",
    "\n",
    "Modify main() so it calls your extract_names() function and prints what it returns (main\n",
    "already has the code for the command line argument parsing). If you get stuck working out\n",
    "the regular expressions for the year and each name, solution regular expression patterns are\n",
    "shown at the end of this document. Note that for parsing webpages in general, regular\n",
    "expressions don't do a good job, but these webpages have a simple and consistent format.\n",
    "Rather than treat the boy and girl names separately, we'll just lump them all together. In\n",
    "some years, a name appears more than once in the html, but we'll just use one number per\n",
    "name. Optional: make the algorithm smart about this case and choose whichever number is\n",
    "smaller.\n",
    "Build the program as a series of small milestones, getting each step to run/print something\n",
    "before trying the next step. This is the pattern used by experienced programmers -- build a\n",
    "series of incremental milestones, each with some output to check, rather than building the\n",
    "whole program in one huge step.\n",
    "\n",
    "Printing the data you have at the end of one milestone helps you think about how to re-\n",
    "structure that data for the next milestone. Python is well suited to this style of incremental\n",
    "\n",
    "development. For example, first get it to the point where it extracts and prints the year and\n",
    "calls sys.exit(0). Here are some suggested milestones:\n",
    " Extract all the text from the file and print it\n",
    " Find and extract the year and print it\n",
    " Extract the names and rank numbers and print them\n",
    " Get the names data into a dict and print it\n",
    " Build the [year, 'name rank', ... ] list and print it\n",
    " Fix main() to use the ExtractNames list\n",
    "Earlier we have had functions just print to standard out. It's more re-usable to have the\n",
    "function *return* the extracted data, so then the caller has the choice to print it or do\n",
    "something else with it. (You can still print directly from inside your functions for your little\n",
    "experiments during development.)\n",
    "Have main() call extract_names() for each command line arg and print a text summary. To\n",
    "make the list into a reasonable looking summary text, here's a clever use of join: text =\n",
    "'\\n'.join(mylist) + '\\n'\n",
    "\n",
    "The summary text should look like this for each file:\n",
    "2006\n",
    "Aaliyah 91\n",
    "Aaron 57\n",
    "Abagail 895\n",
    "Abbey 695\n",
    "Abbie 650\"\"\""
   ]
  },
  {
   "cell_type": "code",
   "execution_count": 60,
   "id": "c2865a3c-a7d0-4ee1-b762-8b8b38d1f7ca",
   "metadata": {},
   "outputs": [
    {
     "name": "stdout",
     "output_type": "stream",
     "text": [
      "1992\n",
      "Michael 1\n",
      "Ashley 1\n",
      "Christopher 2\n",
      "Jessica 2\n",
      "Matthew 3\n",
      "Amanda 3\n",
      "Joshua 4\n",
      "Brittany 4\n",
      "Andrew 5\n",
      "Sarah 5\n",
      "Brandon 6\n",
      "Samantha 6\n",
      "Daniel 7\n",
      "Emily 7\n",
      "Tyler 8\n",
      "Stephanie 8\n",
      "James 9\n",
      "Elizabeth 9\n",
      "David 10\n",
      "Megan 10\n",
      "Joseph 11\n",
      "Jennifer 11\n",
      "1990\n",
      "Michael 1\n",
      "Jessica 1\n",
      "Christopher 2\n",
      "Ashley 2\n",
      "Matthew 3\n",
      "Brittany 3\n",
      "Joshua 4\n",
      "Amanda 4\n",
      "Daniel 5\n",
      "Samantha 5\n",
      "David 6\n",
      "Sarah 6\n",
      "Andrew 7\n",
      "Stephanie 7\n",
      "James 8\n",
      "Jennifer 8\n",
      "Justin 9\n",
      "Elizabeth 9\n",
      "Joseph 10\n",
      "Lauren 10\n",
      "Ryan 11\n",
      "Megan 11\n"
     ]
    }
   ],
   "source": [
    "import re\n",
    "\n",
    "def extract_names(filename):\n",
    "    # Read the content of the HTML file\n",
    "    with open(filename, 'r') as file:\n",
    "        html_content = file.read()\n",
    "\n",
    "    # Extract the year from the filename\n",
    "    year_match = re.search(r'baby(\\d{4})\\.html', filename)\n",
    "    if year_match:\n",
    "        year = year_match.group(1)\n",
    "    else:\n",
    "        print(f\"Could not find the year in the filename: {filename}\")\n",
    "        return None\n",
    "\n",
    "    # Extract the name-rank strings using regular expressions\n",
    "    names_rank = re.findall(r'<td>(\\d+)</td><td>(\\w+)</td><td>(\\w+)</td>', html_content)\n",
    "\n",
    "    # Build the final list with year and name-rank strings\n",
    "    baby_names_data = [year]\n",
    "    count = 0\n",
    "    for rank, boy_name, girl_name in names_rank:\n",
    "        baby_names_data.append(f\"{boy_name} {rank}\")\n",
    "        baby_names_data.append(f\"{girl_name} {rank}\")\n",
    "        count+=1\n",
    "        if count > 10:\n",
    "            break\n",
    "\n",
    "    return baby_names_data\n",
    "\n",
    "def main():\n",
    "    filenames = \"baby1992.html baby1990.html\"\n",
    "    filenames = filenames.split()\n",
    "    for filename in filenames:\n",
    "        baby_names_data = extract_names(filename)\n",
    "        if baby_names_data:\n",
    "            print('\\n'.join(baby_names_data))\n",
    "\n",
    "        \n",
    "\n",
    "if __name__ == \"__main__\":\n",
    "    main()\n"
   ]
  }
 ],
 "metadata": {
  "kernelspec": {
   "display_name": "Python 3 (ipykernel)",
   "language": "python",
   "name": "python3"
  },
  "language_info": {
   "codemirror_mode": {
    "name": "ipython",
    "version": 3
   },
   "file_extension": ".py",
   "mimetype": "text/x-python",
   "name": "python",
   "nbconvert_exporter": "python",
   "pygments_lexer": "ipython3",
   "version": "3.9.15"
  }
 },
 "nbformat": 4,
 "nbformat_minor": 5
}
