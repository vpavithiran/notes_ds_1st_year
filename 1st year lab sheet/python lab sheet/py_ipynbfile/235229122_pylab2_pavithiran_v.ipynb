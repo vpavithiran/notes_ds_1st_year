{
 "cells": [
  {
   "cell_type": "markdown",
   "metadata": {},
   "source": [
    "<h1>NAME: PAVITHIRAN. V<BR>ROLL NO:235229122</h1>"
   ]
  },
  {
   "cell_type": "markdown",
   "metadata": {},
   "source": [
    "<h2>Programming and Data Structures with Python Lab2</h2>\n",
    "<h3> Python Functions, Modules and String Processing</h3>"
   ]
  },
  {
   "cell_type": "markdown",
   "metadata": {},
   "source": [
    "<h2>Question 1</h2>\n",
    "<h3>Create a function prime() that receives an integer and returns whether n is\n",
    "prime or not.<br> Print all prime numbers from 1 to 100 by calling prime() function.</h3> <h4>For\n",
    "example,\n",
    "<br>prime(1)\n",
    "<br>prime(2)\n",
    "<br>.......\n",
    "<br>prime(100)\n",
    "</h4>"
   ]
  },
  {
   "cell_type": "code",
   "execution_count": 7,
   "metadata": {},
   "outputs": [
    {
     "name": "stdout",
     "output_type": "stream",
     "text": [
      "1 2 3 5 7 11 13 17 19 23 29 31 37 41 43 47 53 59 61 67 71 73 79 83 89 97 "
     ]
    }
   ],
   "source": [
    "def prime(num):\n",
    "    flag = 0\n",
    "    if num > 1:\n",
    "        for i in range(2, int(num/2) + 1):\n",
    "            if num % i == 0:\n",
    "                return False\n",
    "                flag = -1\n",
    "                break\n",
    "\n",
    "    else:\n",
    "        return True\n",
    "    if flag == 0:\n",
    "        return True\n",
    "        \n",
    "for i in range(1, 101):\n",
    "    if prime(i):\n",
    "        print(i, end = \" \")\n",
    "    "
   ]
  },
  {
   "cell_type": "markdown",
   "metadata": {},
   "source": [
    "--------------------------------------------------------------------------"
   ]
  },
  {
   "cell_type": "markdown",
   "metadata": {},
   "source": [
    "<h2>Question 2</h2> <h3>Develop a simple arithmetic calculator for 4 operations. The program should\n",
    "continue calculation until user types ‘q’ to quit. A sample user interaction can be:\n",
    "<br> Enter operator (q to quit): +\n",
    "<br> Enter value 1: 10\n",
    "<br> Enter value 2: 20\n",
    "<br> Result = 30</h3>\n",
    "<br>\n",
    "<br>\n",
    "<h4>Create 4 functions add(), subtract(), multiply() and divide() that receives two values and\n",
    "returns the result of the operation.<br>\n",
    "Now, perform the following operations by calling the corresponding functions. Validate your\n",
    "outputs.\n",
    "<br>1. 10+20\n",
    "<br>2. 20-5\n",
    "<br>3. 8*5\n",
    "<br>4. 50/3</h4>"
   ]
  },
  {
   "cell_type": "code",
   "execution_count": 2,
   "metadata": {},
   "outputs": [
    {
     "name": "stdout",
     "output_type": "stream",
     "text": [
      "Enter operator (q to quit): +\n",
      "Enter value 1: 4\n",
      "Enter value 2: 2\n",
      "result = 6\n",
      "Enter operator (q to quit): -\n",
      "Enter value 1: 6\n",
      "Enter value 2: 4\n",
      "result = 2\n",
      "Enter operator (q to quit): *\n",
      "Enter value 1: 2\n",
      "Enter value 2: 6\n",
      "result = 12\n",
      "Enter operator (q to quit): /\n",
      "Enter value 1: 4\n",
      "Enter value 2: 2\n",
      "result = 2.0\n",
      "Enter operator (q to quit): q\n"
     ]
    }
   ],
   "source": [
    "def adding(a, b):\n",
    "    return a + b\n",
    "def sub(a, b):\n",
    "    return a - b\n",
    "def mul(a, b):\n",
    "    return a * b\n",
    "def div(a, b):\n",
    "    return a / b\n",
    "while True:\n",
    "    val = input(\"Enter operator (q to quit): \")\n",
    "    if val == \"q\":\n",
    "        break\n",
    "    var1 = int(input(\"Enter value 1: \"))\n",
    "    var2 = int(input(\"Enter value 2: \"))\n",
    "    if val == \"+\":\n",
    "        result = adding(var1, var2)\n",
    "    elif val == \"-\":\n",
    "        result = sub(var1, var2)\n",
    "    elif val == \"*\":\n",
    "        result = mul(var1, var2)\n",
    "    elif val == \"/\":\n",
    "        result = div(var1, var2)\n",
    "    print(\"result = {}\".format(result))"
   ]
  },
  {
   "cell_type": "markdown",
   "metadata": {},
   "source": [
    "-------------------------------------------------------------------------"
   ]
  },
  {
   "cell_type": "markdown",
   "metadata": {},
   "source": [
    "<h2>Question 3<h2> \n",
    "<h3>Create a function factorial() that takes an integer and returns its factorial value.</h3>\n",
    "<h4> You can create as a non-recursive version of factorial.\n",
    "<br> Also, check factorial of negative number does not exist.\n",
    "<br> Factorial of 0 is 1.\n",
    "<br> Save this Python file as factorial_definition.py.\n",
    "<br><br>Now, open another file and you can import factorial_definition.py as follows:\n",
    "<br> import factorial_definition\n",
    "<br> You can call factorial function as factorial_definition.factorial().\n",
    "<br><br>Now, print the following factorial values:\n",
    "<br>1. factorial_definition.factorial(3)\n",
    "<br>2. factorial_definition.factorial(5)\n",
    "<br>3. factorial_definition.factorial(10)</h4>"
   ]
  },
  {
   "cell_type": "code",
   "execution_count": 10,
   "metadata": {},
   "outputs": [],
   "source": [
    "def factorial(n):\n",
    "    if n < 0:\n",
    "        print(\"There is no factorial for the given number.\")\n",
    "    elif n == 0:\n",
    "        return 1\n",
    "    else:\n",
    "        result = 1\n",
    "        for i in range(1, n + 1):\n",
    "            result *= i\n",
    "        return result\n"
   ]
  },
  {
   "cell_type": "code",
   "execution_count": 12,
   "metadata": {},
   "outputs": [
    {
     "name": "stdout",
     "output_type": "stream",
     "text": [
      "6\n",
      "120\n",
      "3628800\n"
     ]
    }
   ],
   "source": [
    "#import factorial_definition\n",
    "\n",
    "print(factorial(3))\n",
    "print(factorial(5))\n",
    "print(factorial(10))\n"
   ]
  },
  {
   "cell_type": "markdown",
   "metadata": {},
   "source": [
    "------------------------------------------------------------------------"
   ]
  },
  {
   "cell_type": "markdown",
   "metadata": {},
   "source": [
    "<h2>Question 4</h2> <h3>Develop a function count_letter(string, search) that returns the number of\n",
    "times search character appears in a string.</h3>\n",
    "<h4>Test cases:\n",
    "<br>1. Str = “hello world”. Search = ‘o’. Calling count_letter(str, search) should return output 2\n",
    "<br>2. Str = “HeLlo wOrld”. Search = ‘o’. Then, calling count_letter(str, search) will return output\n",
    "1\n",
    "<br>Modify count_letter() so that it ignores case sensitivity, so that o and O are same.\n",
    "<br>3. Str = “HeLlo wOrld”. Search = ‘o’. Calling count_letter(str, search) will return output 2</h4>"
   ]
  },
  {
   "cell_type": "code",
   "execution_count": 6,
   "metadata": {},
   "outputs": [
    {
     "name": "stdin",
     "output_type": "stream",
     "text": [
      "Enter the string : hello wOrld\n",
      "Enter the charactor : o\n"
     ]
    },
    {
     "name": "stdout",
     "output_type": "stream",
     "text": [
      "2\n"
     ]
    }
   ],
   "source": [
    "def count_letter(string, search):\n",
    "    count = 0\n",
    "    for i in string:\n",
    "        if i == search:\n",
    "            count += 1\n",
    "    return count\n",
    "str1 = input(\"Enter the string :\")\n",
    "char1 = input(\"Enter the charactor :\")\n",
    "print(count_letter(str1.lower(), char1.lower()))\n"
   ]
  },
  {
   "cell_type": "markdown",
   "metadata": {},
   "source": [
    "------------------------------------------------------------------------"
   ]
  },
  {
   "cell_type": "markdown",
   "metadata": {},
   "source": [
    "<h2>Question 5</h2>\n",
    "<h3>Write a program that counts the number of spaces, digits, vowels and\n",
    "consonants in a string that the user inputs. Print the string, no of spaces, no of digits, no of\n",
    "vowels and no of consonants.</h3>\n",
    "<h4>Test case: Enter a string: Bishop Heber College 17. Then output should be:\n",
    "<br>Given string: Bishop Heber College 17\n",
    "<br>No. of spaces: 3\n",
    "<br>No. of digits: 2\n",
    "<br>No. of vowels: 7\n",
    "<br>No. of consonants: 12</h4>"
   ]
  },
  {
   "cell_type": "code",
   "execution_count": 14,
   "metadata": {},
   "outputs": [
    {
     "name": "stdin",
     "output_type": "stream",
     "text": [
      "Enter the String : aeiou 12345 qwrty\n"
     ]
    },
    {
     "name": "stdout",
     "output_type": "stream",
     "text": [
      "No. of spaces: 2\n",
      "No. of digits: 5\n",
      "No. of vowels: 5\n",
      "No. of consonants: 5\n"
     ]
    }
   ],
   "source": [
    "vowels = ['a', 'e', 'i', 'o', 'u']\n",
    "str1 = input(\"Enter the String :\").lower()\n",
    "space_count = 0\n",
    "digit_count = 0\n",
    "vowels_count = 0\n",
    "consonants_count = 0\n",
    "for i in str1:\n",
    "    if i == \" \":\n",
    "        space_count += 1\n",
    "    elif i.isdigit():\n",
    "        digit_count += 1\n",
    "    else:\n",
    "        if i not in vowels:\n",
    "            consonants_count += 1\n",
    "    if i in vowels:\n",
    "        vowels_count += 1\n",
    "    \n",
    "\n",
    "print(\"No. of spaces: {}\".format(space_count))\n",
    "print(\"No. of digits: {}\".format(digit_count))\n",
    "print(\"No. of vowels: {}\".format(vowels_count))\n",
    "print(\"No. of consonants: {}\".format(consonants_count))"
   ]
  },
  {
   "cell_type": "markdown",
   "metadata": {},
   "source": [
    "-----------------------------------------------------------------------"
   ]
  },
  {
   "cell_type": "markdown",
   "metadata": {},
   "source": [
    "<h2>Question 6<h2/> <h3>Develop a function remove_punctuation(str) that returns the string after\n",
    "removing the following punctuations.</h3>\n"
   ]
  },
  {
   "cell_type": "code",
   "execution_count": 16,
   "metadata": {},
   "outputs": [],
   "source": [
    "# Punctuation List = \"!\\\"#$%&'()*+,-./:;<=>?@[\\]^`{|}~\""
   ]
  },
  {
   "cell_type": "markdown",
   "metadata": {},
   "source": [
    "<b4>Test cases:\n",
    "<br>1. Str = “Bishop’s College !.....”. Calling remove_punctuation(str) should return output as\n",
    "“Bishops College”\n",
    "<br>2. Str = “#bhc trending @cs $placements::>.” Calling remove_punctuation(str) should\n",
    "return output as “bhc trending cs placements”</b4>"
   ]
  },
  {
   "cell_type": "code",
   "execution_count": 1,
   "metadata": {},
   "outputs": [
    {
     "name": "stdin",
     "output_type": "stream",
     "text": [
      "Enter the String : Bishop’s College !.....\n"
     ]
    },
    {
     "name": "stdout",
     "output_type": "stream",
     "text": [
      "Bishop’s College \n"
     ]
    }
   ],
   "source": [
    "def remove_punctuation(str1):\n",
    "    punctuation_list = \"!\\\"#$%&'()*+,-./:;<=>?@[\\]^`{|}~\"\n",
    "    result = \"\"\n",
    "    for char in str1:\n",
    "        if char not in punctuation_list:\n",
    "            result += char\n",
    "    return result\n",
    "\n",
    "str1 = input(\"Enter the String :\")\n",
    "print(remove_punctuation(str1))"
   ]
  },
  {
   "cell_type": "markdown",
   "metadata": {},
   "source": [
    "------------------------------------------------------------------------"
   ]
  },
  {
   "cell_type": "markdown",
   "metadata": {},
   "source": [
    "<h2>Question 7</h2> <h3>Write a program that asks the user for a word. Translate their word into Pig\n",
    "Latin. Pig Latin game takes the first consonant (or set of first consonants) of an English word,\n",
    "moves it to the end of the word and suffixes an ay. If the first letter is a vowel, do not move\n",
    "that vowel, but instead add “way” at the end of the word.<h3>\n",
    "<h4>Test Cases:\n",
    "<br>1. Enter a word: pig\n",
    "<br>Output: ig-pay\n",
    "<br>2. Enter a word: banana\n",
    "<br>Output: anana-bay\n",
    "<br>3. Enter a word: trash\n",
    "<br>Output: ash-tray\n",
    "<br>4. Enter a word: apple\n",
    "<br>Output: apple-way\n",
    "<br>5. Enter a word: orange\n",
    "<br>Output: orange-way\n",
    "\n",
    "<br>Modify your program so that it becomes a function piglatin(word) and returns translated\n",
    "word as output. Call this function 3 times with the same inputs and validate the outputs."
   ]
  },
  {
   "cell_type": "code",
   "execution_count": 9,
   "metadata": {},
   "outputs": [
    {
     "name": "stdin",
     "output_type": "stream",
     "text": [
      "Enter a word:  banana\n"
     ]
    },
    {
     "name": "stdout",
     "output_type": "stream",
     "text": [
      "output: anana-bay\n"
     ]
    }
   ],
   "source": [
    "def piglatin(word):\n",
    "    vowels = ['a', 'e', 'i', 'o', 'u']\n",
    "    if word[0] in vowels:\n",
    "        word2 = word + \"-way\"\n",
    "    else:\n",
    "        word3 = \"\"\n",
    "        i = 0\n",
    "        while i < len(word) and word[i] not in vowels:\n",
    "            word3 += word[i]\n",
    "            i += 1\n",
    "        word2 = word[i:] + \"-\" + word3 + \"ay\"\n",
    "    return word2\n",
    "words = input(\"Enter a word: \")\n",
    "print(\"output: {}\".format(piglatin(words)))"
   ]
  },
  {
   "cell_type": "markdown",
   "metadata": {},
   "source": [
    "-------------------------------------------------------------------------"
   ]
  }
 ],
 "metadata": {
  "kernelspec": {
   "display_name": "Python 3 (ipykernel)",
   "language": "python",
   "name": "python3"
  },
  "language_info": {
   "codemirror_mode": {
    "name": "ipython",
    "version": 3
   },
   "file_extension": ".py",
   "mimetype": "text/x-python",
   "name": "python",
   "nbconvert_exporter": "python",
   "pygments_lexer": "ipython3",
   "version": "3.9.15"
  }
 },
 "nbformat": 4,
 "nbformat_minor": 4
}
