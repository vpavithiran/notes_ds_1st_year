{
 "cells": [
  {
   "cell_type": "markdown",
   "metadata": {},
   "source": [
    "<h1>NAME:PAVITHIRAN V \n",
    "<br>ROLL NO:235229122</h1>\n",
    "<br><h1><center>Task to be done</h1>"
   ]
  },
  {
   "cell_type": "markdown",
   "metadata": {},
   "source": [
    "<h2>1. Print the sum of current and previous number</h2>"
   ]
  },
  {
   "cell_type": "code",
   "execution_count": 15,
   "metadata": {},
   "outputs": [
    {
     "name": "stdout",
     "output_type": "stream",
     "text": [
      "Enter the number :34\n",
      "67\n"
     ]
    }
   ],
   "source": [
    "#getting input from the user\n",
    "num = int(input(\"Enter the number :\"))\n",
    "prenum = num - 1\n",
    "print(num + prenum)"
   ]
  },
  {
   "cell_type": "markdown",
   "metadata": {},
   "source": [
    "-----------------------------------------------------------------------------------"
   ]
  },
  {
   "cell_type": "markdown",
   "metadata": {},
   "source": [
    "<h2>2. Write a program to accept characters till the user enters null and count\n",
    "number of times an alphabet (b, where b can be any alphabet) is entered</h2>"
   ]
  },
  {
   "cell_type": "code",
   "execution_count": 17,
   "metadata": {},
   "outputs": [
    {
     "name": "stdout",
     "output_type": "stream",
     "text": [
      "Enter the character :d\n",
      "Enter the character :c\n",
      "Enter the character :g\n",
      "Enter the character :c\n",
      "Enter the character :d\n",
      "Enter the character :h\n",
      "Enter the character :h\n",
      "Enter the character :e\n",
      "Enter the character :\n",
      "['c', 'h', 'd', 'g', 'e']\n",
      "count of c is 2\n",
      "count of h is 2\n",
      "count of d is 2\n",
      "count of g is 1\n",
      "count of e is 1\n"
     ]
    }
   ],
   "source": [
    "lit = list()\n",
    "\n",
    "while True:\n",
    "    value = input(\"Enter the character :\")\n",
    "    if value == \"\":\n",
    "        break\n",
    "    else:\n",
    "        lit.append(value)\n",
    "\n",
    "list2 = list(set(lit))\n",
    "print(list2)\n",
    "for i in list2:\n",
    "    print(\"count of {} is {}\".format(i, lit.count(i)))\n",
    "    \n",
    "    \n"
   ]
  },
  {
   "cell_type": "markdown",
   "metadata": {},
   "source": [
    "-----------------------------------------------------------------------------------"
   ]
  },
  {
   "cell_type": "markdown",
   "metadata": {},
   "source": [
    "<h2>3. Use a loop to display elements from given list present at odd index\n",
    "positions</h2>"
   ]
  },
  {
   "cell_type": "code",
   "execution_count": 18,
   "metadata": {},
   "outputs": [
    {
     "name": "stdout",
     "output_type": "stream",
     "text": [
      "Enter the character :d\n",
      "Enter the character :c\n",
      "Enter the character :g\n",
      "Enter the character :g\n",
      "Enter the character :e\n",
      "Enter the character :g\n",
      "Enter the character :c\n",
      "Enter the character :\n",
      "Enter the character :done\n",
      "d\n",
      "g\n",
      "e\n",
      "c\n"
     ]
    }
   ],
   "source": [
    "list3 = list()\n",
    "while True:\n",
    "    values = input(\"Enter the character :\")\n",
    "    if values == 'done':\n",
    "        break\n",
    "    list3.append(values)\n",
    "\n",
    "for i in range(0, len(list3), 2):    \n",
    "    print(list3[i])"
   ]
  },
  {
   "cell_type": "markdown",
   "metadata": {},
   "source": [
    "--------------------------------------------------------------------------------"
   ]
  },
  {
   "cell_type": "markdown",
   "metadata": {},
   "source": [
    "<h2>4. Write a program to calculate square and cube of all numbers from 1 to a\n",
    "given number</h2>"
   ]
  },
  {
   "cell_type": "code",
   "execution_count": 24,
   "metadata": {},
   "outputs": [
    {
     "name": "stdout",
     "output_type": "stream",
     "text": [
      "Enter the value :9\n",
      "The square of 1 is 1\n",
      "The cube of 1 is 1\n",
      "\n",
      "The square of 2 is 4\n",
      "The cube of 2 is 8\n",
      "\n",
      "The square of 3 is 9\n",
      "The cube of 3 is 27\n",
      "\n",
      "The square of 4 is 16\n",
      "The cube of 4 is 64\n",
      "\n",
      "The square of 5 is 25\n",
      "The cube of 5 is 125\n",
      "\n",
      "The square of 6 is 36\n",
      "The cube of 6 is 216\n",
      "\n",
      "The square of 7 is 49\n",
      "The cube of 7 is 343\n",
      "\n",
      "The square of 8 is 64\n",
      "The cube of 8 is 512\n",
      "\n",
      "The square of 9 is 81\n",
      "The cube of 9 is 729\n",
      "\n"
     ]
    }
   ],
   "source": [
    "a = int(input(\"Enter the value :\"))\n",
    "for i in range(1, a+1):\n",
    "    print(\"The square of {} is {}\".format(i, i**2))\n",
    "    print(\"The cube of {} is {}\".format(i, i**3))\n",
    "    print()\n",
    "    "
   ]
  },
  {
   "cell_type": "markdown",
   "metadata": {},
   "source": [
    "-----------------------------------------------------------------------------------"
   ]
  },
  {
   "cell_type": "markdown",
   "metadata": {},
   "source": [
    "<h2>5. Write a program to display numbers divisible by both 3 and 9 from a list.</h2>"
   ]
  },
  {
   "cell_type": "code",
   "execution_count": 31,
   "metadata": {},
   "outputs": [
    {
     "name": "stdout",
     "output_type": "stream",
     "text": [
      "Enter the character :3\n",
      "Enter the character :-1\n"
     ]
    }
   ],
   "source": [
    "list4 = list()\n",
    "while True:\n",
    "    values = int(input(\"Enter the character :\"))\n",
    "    if values < 0:\n",
    "        break\n",
    "    list4.append(values)\n",
    "\n",
    "for i in list4:\n",
    "    if i % 3 == 0 and i % 9 == 0:\n",
    "        print(\"{} is divisable 3 and 9\".format(i))"
   ]
  },
  {
   "cell_type": "markdown",
   "metadata": {},
   "source": [
    "----------------------------------------------------------------------------"
   ]
  },
  {
   "cell_type": "markdown",
   "metadata": {},
   "source": [
    "<h2>6. Implement a program that validates a password based on certain\n",
    "conditions. Prompt the user to enter a password and check if it meets the\n",
    "following requirements: at least 8 characters long, contains at least one\n",
    "uppercase letter, one lowercase letter, one digit, and one special character.</h2>"
   ]
  },
  {
   "cell_type": "code",
   "execution_count": 11,
   "metadata": {},
   "outputs": [
    {
     "name": "stdin",
     "output_type": "stream",
     "text": [
      "Enter the password:  Kumar@123\n"
     ]
    },
    {
     "name": "stdout",
     "output_type": "stream",
     "text": [
      "your entered:  Kumar@123  Valid password\n"
     ]
    }
   ],
   "source": [
    "password = input(\"Enter the password: \")\n",
    "flag = 0\n",
    "while True:\n",
    "    if (len(password)<8):\n",
    "        flag = -1\n",
    "        break\n",
    "    elif not re.search(\"[a-z]\", password):\n",
    "        flag = -1\n",
    "        break\n",
    "    elif not re.search(\"[A-Z]\", password):\n",
    "        flag = -1\n",
    "        break\n",
    "    elif not re.search(\"[0-9]\", password):\n",
    "        flag = -1\n",
    "        break\n",
    "    elif not re.search(\"[_$@]\", password):\n",
    "        flag = -1\n",
    "        break\n",
    "    elif re.search(\"\\s\", password):\n",
    "        flag = -1\n",
    "        break\n",
    "    else:\n",
    "        flag = 0\n",
    "        print(\"your entered: \" ,password, \" Valid password\")\n",
    "        break\n",
    "if flag == -1:\n",
    "    print(\"your entered: \", password, \" Not valid password\")\n"
   ]
  },
  {
   "cell_type": "markdown",
   "metadata": {},
   "source": [
    "-------------------------------------------------------------------------"
   ]
  },
  {
   "cell_type": "markdown",
   "metadata": {},
   "source": [
    "<h2>7. Write a program that calculates the factorial of a given number. Prompt\n",
    "the user to enter a number and display its factorial.</h2>"
   ]
  },
  {
   "cell_type": "code",
   "execution_count": 10,
   "metadata": {},
   "outputs": [
    {
     "name": "stdin",
     "output_type": "stream",
     "text": [
      "Enter a number : 3\n"
     ]
    },
    {
     "name": "stdout",
     "output_type": "stream",
     "text": [
      "6\n"
     ]
    }
   ],
   "source": [
    "num = int(input(\"Enter a number :\"))\n",
    "sum = 1\n",
    "for i in range(1, num+1):\n",
    "    sum *= i\n",
    "print(sum)"
   ]
  },
  {
   "cell_type": "markdown",
   "metadata": {},
   "source": [
    "------------------------------------------------------------------------"
   ]
  },
  {
   "cell_type": "markdown",
   "metadata": {},
   "source": [
    "<h2>8. Create a program that checks whether a given number is prime or not.\n",
    "Prompt the user to enter a number and display a message indicating\n",
    "whether the number is prime or not.<h2>"
   ]
  },
  {
   "cell_type": "code",
   "execution_count": 37,
   "metadata": {},
   "outputs": [
    {
     "name": "stdin",
     "output_type": "stream",
     "text": [
      "Enter a number : 10\n"
     ]
    },
    {
     "name": "stdout",
     "output_type": "stream",
     "text": [
      "The given number is not a prime number\n"
     ]
    }
   ],
   "source": [
    "num = int(input(\"Enter a number :\"))\n",
    "flag = 0\n",
    "if num > 1:\n",
    "    for i in range(2, int(num/2) + 1):\n",
    "        if num % i == 0:\n",
    "            print(\"The given number is not a prime number\")\n",
    "            flag = -1\n",
    "            break\n",
    "else:\n",
    "    print(\"The given number is a prime \")\n",
    "if flag == 0:\n",
    "    print(\"the given number is prime number\")"
   ]
  },
  {
   "cell_type": "markdown",
   "metadata": {},
   "source": [
    "-------------------------------------------------------------------------"
   ]
  },
  {
   "cell_type": "markdown",
   "metadata": {},
   "source": [
    "<h2>9. Write a program that generates and prints the Fibonacci series up to a\n",
    "given number. The Fibonacci series is a sequence of numbers where each\n",
    "number is the sum of the two preceding ones (starting from 0 and 1).</h2>"
   ]
  },
  {
   "cell_type": "code",
   "execution_count": 7,
   "metadata": {},
   "outputs": [
    {
     "name": "stdin",
     "output_type": "stream",
     "text": [
      "Enter the number : 9\n"
     ]
    },
    {
     "name": "stdout",
     "output_type": "stream",
     "text": [
      "The fibonacci series up to 9 :  0 1 1 2 3 5 8 "
     ]
    }
   ],
   "source": [
    "num = int(input(\"Enter the number :\"))\n",
    "val = [0, 1]\n",
    "while val[-1] + val[-2]<= num:\n",
    "    value = val[-1] + val[-2]\n",
    "    val.append(value)\n",
    "print(\"The fibonacci series up to\", num, \": \", end = \" \")\n",
    "for i in val:\n",
    "    print(i, end=\" \")"
   ]
  },
  {
   "cell_type": "markdown",
   "metadata": {},
   "source": [
    "--------------------------------------------------------------------------"
   ]
  },
  {
   "cell_type": "markdown",
   "metadata": {},
   "source": [
    "<h2>10.Implement a program that converts temperatures from Celsius to\n",
    "Fahrenheit and vice versa. Prompt the user to enter a temperature and a\n",
    "unit (Celsius or Fahrenheit) and display the converted temperature.</h2>"
   ]
  },
  {
   "cell_type": "code",
   "execution_count": 12,
   "metadata": {},
   "outputs": [
    {
     "name": "stdin",
     "output_type": "stream",
     "text": [
      "Enter the temperatures : 6\n",
      "Entered value is: type fahrenheit(f)/Celsius(c) c\n"
     ]
    },
    {
     "name": "stdout",
     "output_type": "stream",
     "text": [
      "6.0 degree celsius to 42.8\n"
     ]
    }
   ],
   "source": [
    "def fah_to_cel(far):\n",
    "    cel = (far - 32)*5/9\n",
    "    return cel\n",
    "def cel_to_fah(cel):\n",
    "    fah = (cel * 9/5) + 32\n",
    "    return fah\n",
    "temp = float(input(\"Enter the temperatures :\"))\n",
    "unit = input(\"Entered value is: type fahrenheit(f)/Celsius(c)\")\n",
    "if unit == 'f':\n",
    "    print(\"{} degree fahrenheit to {}\".format(temp, fah_to_cel(temp)))\n",
    "elif unit == 'c':\n",
    "    print(\"{} degree celsius to {}\".format(temp, cel_to_fah(temp)))\n",
    "else:\n",
    "    print(\"Invalid unit Entered!\")"
   ]
  },
  {
   "cell_type": "markdown",
   "metadata": {},
   "source": [
    "-------------------------------------------------------------------------"
   ]
  }
 ],
 "metadata": {
  "kernelspec": {
   "display_name": "Python 3 (ipykernel)",
   "language": "python",
   "name": "python3"
  },
  "language_info": {
   "codemirror_mode": {
    "name": "ipython",
    "version": 3
   },
   "file_extension": ".py",
   "mimetype": "text/x-python",
   "name": "python",
   "nbconvert_exporter": "python",
   "pygments_lexer": "ipython3",
   "version": "3.9.15"
  }
 },
 "nbformat": 4,
 "nbformat_minor": 4
}
