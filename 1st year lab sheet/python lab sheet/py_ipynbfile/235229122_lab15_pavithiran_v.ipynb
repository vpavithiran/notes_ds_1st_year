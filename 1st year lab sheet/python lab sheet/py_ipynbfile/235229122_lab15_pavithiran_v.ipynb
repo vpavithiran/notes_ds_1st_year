{
 "cells": [
  {
   "cell_type": "markdown",
   "id": "67266c82-eaf4-40f5-95a1-1b8d4c83ff3c",
   "metadata": {},
   "source": [
    "<center><h2>Programming and Data Structures with Python Lab15.<br> Database Programming Using Tkinder and Sqlite3</h2>"
   ]
  },
  {
   "cell_type": "markdown",
   "id": "d7ad2399-9edc-450b-ac29-bb4442150ebf",
   "metadata": {},
   "source": [
    "<h1>NAME: PAVITHIRAN. V<BR>ROLL NO:235229122</h1>"
   ]
  },
  {
   "cell_type": "code",
   "execution_count": 4,
   "id": "384a37fc-0c6d-412b-ab83-b973562aaa33",
   "metadata": {},
   "outputs": [
    {
     "name": "stdout",
     "output_type": "stream",
     "text": [
      "Name: kumar\n",
      "Email: kumar@123\n",
      "Course: Select a Course\n",
      "Name: Rajesh\n",
      "Email: Rajesh@gmail.com\n",
      "Course: Select a Course\n"
     ]
    }
   ],
   "source": [
    "import tkinter as tk\n",
    "from tkinter import messagebox\n",
    "import sqlite3\n",
    "from tkinter import ttk\n",
    "\n",
    "def submit_form():\n",
    "    name = name_entry.get()\n",
    "    email = email_entry.get()\n",
    "    course = course_combobox.get()\n",
    "\n",
    "    if name and email and course:\n",
    "        # Connect to the SQLite database\n",
    "        conn = sqlite3.connect('data.db')\n",
    "        cursor = conn.cursor()\n",
    "\n",
    "        cursor.execute('CREATE TABLE IF NOT EXISTS registrations (name TEXT, email TEXT, course TEXT)')\n",
    "\n",
    "        cursor.execute('INSERT INTO registrations VALUES (?, ?, ?)', (name, email, course))\n",
    "\n",
    "        conn.commit()\n",
    "        conn.close()\n",
    "\n",
    "        messagebox.showinfo(\"Success\", \"Form submitted successfully.\")\n",
    "\n",
    "        # Print submitted data to the console\n",
    "        print(f\"Name: {name}\\nEmail: {email}\\nCourse: {course}\")\n",
    "\n",
    "        reset_form()\n",
    "    else:\n",
    "        messagebox.showerror(\"Error\", \"Please fill out all the fields.\")\n",
    "\n",
    "def reset_form():\n",
    "    name_entry.delete(0, tk.END)\n",
    "    email_entry.delete(0, tk.END)\n",
    "    course_combobox.set(\"Select a Course\")\n",
    "\n",
    "\n",
    "window = tk.Tk()\n",
    "window.title(\"Registration Form\")\n",
    "window.geometry(\"300x250\")\n",
    "\n",
    "name_label = tk.Label(window, text=\"Name:\")\n",
    "name_label.pack()\n",
    "name_entry = tk.Entry(window)\n",
    "name_entry.pack()\n",
    "\n",
    "email_label = tk.Label(window, text=\"Email:\")\n",
    "email_label.pack()\n",
    "email_entry = tk.Entry(window)\n",
    "email_entry.pack()\n",
    "\n",
    "course_label = tk.Label(window, text=\"Course:\")\n",
    "course_label.pack()\n",
    "course_options = [\"Select a Course\", \"Math\", \"Science\", \"History\", \"Art\"]\n",
    "course_combobox = ttk.Combobox(window, values=course_options)\n",
    "course_combobox.set(\"Select a Course\")\n",
    "course_combobox.pack()\n",
    "\n",
    "submit_button = tk.Button(window, text=\"Submit\", command=submit_form)\n",
    "submit_button.pack()\n",
    "\n",
    "reset_button = tk.Button(window, text=\"Reset\", command=reset_form)\n",
    "reset_button.pack()\n",
    "\n",
    "window.mainloop()"
   ]
  },
  {
   "cell_type": "code",
   "execution_count": null,
   "id": "2aea291f-032a-4e2e-b713-4216d333d9c0",
   "metadata": {},
   "outputs": [],
   "source": []
  }
 ],
 "metadata": {
  "kernelspec": {
   "display_name": "Python 3 (ipykernel)",
   "language": "python",
   "name": "python3"
  },
  "language_info": {
   "codemirror_mode": {
    "name": "ipython",
    "version": 3
   },
   "file_extension": ".py",
   "mimetype": "text/x-python",
   "name": "python",
   "nbconvert_exporter": "python",
   "pygments_lexer": "ipython3",
   "version": "3.9.15"
  }
 },
 "nbformat": 4,
 "nbformat_minor": 5
}
