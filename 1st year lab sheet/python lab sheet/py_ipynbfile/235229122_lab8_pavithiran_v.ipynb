{
 "cells": [
  {
   "cell_type": "markdown",
   "id": "ec479d10-415c-4ae6-9e97-ccc712e8e0a5",
   "metadata": {},
   "source": [
    "<center><h2>Programming and Data Structures with Python Lab8.<br> Managing Contacts Using Files and Sorting Algorithms</h2>"
   ]
  },
  {
   "cell_type": "markdown",
   "id": "f3931fe4-893e-49df-9de7-2b1eb53ec7c3",
   "metadata": {},
   "source": [
    "<h2>NAME: PAVITHIRAN.V\n",
    "<br>ROLL.NO:235229122</h2>"
   ]
  },
  {
   "cell_type": "code",
   "execution_count": 1,
   "id": "da00ea19-fd61-4bb2-8a1c-c9b5d6030852",
   "metadata": {},
   "outputs": [
    {
     "name": "stdout",
     "output_type": "stream",
     "text": [
      "Name: John Doe, Phone: 123-456-7890\n",
      "Name: Jane Smith, Phone: 987-654-3210\n"
     ]
    }
   ],
   "source": [
    "#1 \n",
    "class Contact:\n",
    "    def __init__(self, name, phone):\n",
    "        self.name = name\n",
    "        self.phone = phone\n",
    "\n",
    "    def __str__(self):\n",
    "        return f\"Name: {self.name}, Phone: {self.phone}\"\n",
    "\n",
    "# Example usage\n",
    "contact1 = Contact(\"John Doe\", \"123-456-7890\")\n",
    "contact2 = Contact(\"Jane Smith\", \"987-654-3210\")\n",
    "\n",
    "print(contact1)\n",
    "print(contact2)\n"
   ]
  },
  {
   "cell_type": "code",
   "execution_count": 2,
   "id": "7a1634d8-86dc-4f15-8f97-8995626decc2",
   "metadata": {},
   "outputs": [
    {
     "name": "stdout",
     "output_type": "stream",
     "text": [
      "Name: Jane Smith, Phone:   987-654-3210\n",
      "Name: John Doe, Phone:   123-456-7890\n"
     ]
    }
   ],
   "source": [
    "#2\n",
    "class Contact:\n",
    "    def __init__(self, name, phone):\n",
    "        self.name = name\n",
    "        self.phone = phone\n",
    "\n",
    "    def __str__(self):\n",
    "        return f\"Name: {self.name}, Phone: {self.phone}\"\n",
    "\n",
    "def load_contacts(file_name):\n",
    "    contacts = []\n",
    "    \n",
    "    with open(file_name, 'r') as file:\n",
    "        for line in file:\n",
    "            name, phone = line.strip().split(',')\n",
    "            contact = Contact(name, phone)\n",
    "            contacts.append(contact)\n",
    "    \n",
    "    return contacts\n",
    "\n",
    "# Example usage\n",
    "contact_list = load_contacts(\"contacts.txt\")\n",
    "for contact in contact_list:\n",
    "    print(contact)\n"
   ]
  },
  {
   "cell_type": "code",
   "execution_count": 3,
   "id": "7d417736-ea92-4155-96a1-225d41b1f0ba",
   "metadata": {},
   "outputs": [],
   "source": [
    "#3\n",
    "class Contact:\n",
    "    def __init__(self, name, phone):\n",
    "        self.name = name\n",
    "        self.phone = phone\n",
    "\n",
    "    def __str__(self):\n",
    "        return f\"Name: {self.name}, Phone: {self.phone}\"\n",
    "\n",
    "def save_contacts(file_name, contacts):\n",
    "    with open(file_name, 'w') as file:\n",
    "        for contact in contacts:\n",
    "            file.write(f\"{contact.name}, {contact.phone}\\n\")\n",
    "\n",
    "# Example usage\n",
    "contact_list = [\n",
    "    Contact(\"John Doe\", \"123-456-7890\"),\n",
    "    Contact(\"Jane Smith\", \"987-654-3210\")\n",
    "]\n",
    "\n",
    "save_contacts(\"contacts.txt\", contact_list)\n"
   ]
  },
  {
   "cell_type": "code",
   "execution_count": 4,
   "id": "9e4ec7bf-abed-4a10-a1d4-2adc8134f84e",
   "metadata": {},
   "outputs": [
    {
     "name": "stdout",
     "output_type": "stream",
     "text": [
      "Name: John Doe, Phone: 123-456-7890\n",
      "Name: Jane Smith, Phone: 987-654-3210\n"
     ]
    }
   ],
   "source": [
    "#4\n",
    "class Contact:\n",
    "    def __init__(self, name, phone):\n",
    "        self.name = name\n",
    "        self.phone = phone\n",
    "\n",
    "    def __str__(self):\n",
    "        return f\"Name: {self.name}, Phone: {self.phone}\"\n",
    "\n",
    "def display_contacts(file_name, contacts):\n",
    "    for contact in contacts:\n",
    "        print(contact)\n",
    "\n",
    "# Example usage\n",
    "contact_list = [\n",
    "    Contact(\"John Doe\", \"123-456-7890\"),\n",
    "    Contact(\"Jane Smith\", \"987-654-3210\")\n",
    "]\n",
    "\n",
    "display_contacts(\"contacts.txt\", contact_list)\n"
   ]
  },
  {
   "cell_type": "code",
   "execution_count": 5,
   "id": "1cb5f57a-6b6b-43a1-ab31-ab545806bea9",
   "metadata": {},
   "outputs": [
    {
     "name": "stdout",
     "output_type": "stream",
     "text": [
      "Name: Alice Johnson, Phone: 555-123-4567\n",
      "Name: Jane Smith, Phone: 987-654-3210\n",
      "Name: John Doe, Phone: 123-456-7890\n"
     ]
    }
   ],
   "source": [
    "#5\n",
    "class Contact:\n",
    "    def __init__(self, name, phone):\n",
    "        self.name = name\n",
    "        self.phone = phone\n",
    "\n",
    "    def __str__(self):\n",
    "        return f\"Name: {self.name}, Phone: {self.phone}\"\n",
    "\n",
    "def bubble_sort(contacts):\n",
    "    n = len(contacts)\n",
    "    for i in range(n):\n",
    "        for j in range(0, n - i - 1):\n",
    "            if contacts[j].name > contacts[j + 1].name:\n",
    "                contacts[j], contacts[j + 1] = contacts[j + 1], contacts[j]\n",
    "\n",
    "contact_list = [\n",
    "    Contact(\"John Doe\", \"123-456-7890\"),\n",
    "    Contact(\"Jane Smith\", \"987-654-3210\"),\n",
    "    Contact(\"Alice Johnson\", \"555-123-4567\")\n",
    "]\n",
    "\n",
    "bubble_sort(contact_list)\n",
    "\n",
    "for contact in contact_list:\n",
    "    print(contact)\n"
   ]
  },
  {
   "cell_type": "code",
   "execution_count": 17,
   "id": "872fc597-da7a-4b43-b866-ed47e155988d",
   "metadata": {},
   "outputs": [
    {
     "name": "stdout",
     "output_type": "stream",
     "text": [
      "Name: Alice Johnson, Phone: 555-123-4567\n",
      "Name: Jane Smith, Phone: 987-654-3210\n",
      "Name: John Doe, Phone: 123-456-7890\n"
     ]
    }
   ],
   "source": [
    "#6\n",
    "class Contact:\n",
    "    def __init__(self, name, phone):\n",
    "        self.name = name\n",
    "        self.phone = phone\n",
    "\n",
    "    def __str__(self):\n",
    "        return f\"Name: {self.name}, Phone: {self.phone}\"\n",
    "\n",
    "def selection_sort(contacts):\n",
    "    n = len(contacts)\n",
    "    for i in range(1, n):\n",
    "        current_contact = contacts[i]\n",
    "        j = i - 1\n",
    "        while j >= 0 and contacts[j].name > current_contact.name:\n",
    "            contacts[j + 1] = contacts[j]\n",
    "            j -= 1\n",
    "        contacts[j + 1] = current_contact\n",
    "\n",
    "# Example usage\n",
    "contact_list = [\n",
    "    Contact(\"John Doe\", \"123-456-7890\"),\n",
    "    Contact(\"Jane Smith\", \"987-654-3210\"),\n",
    "    Contact(\"Alice Johnson\", \"555-123-4567\")\n",
    "]\n",
    "\n",
    "selection_sort(contact_list)\n",
    "\n",
    "for contact in contact_list:\n",
    "    print(contact)\n"
   ]
  },
  {
   "cell_type": "code",
   "execution_count": 7,
   "id": "7564c621-e452-4584-b8f7-db2fda8503d0",
   "metadata": {},
   "outputs": [
    {
     "name": "stdout",
     "output_type": "stream",
     "text": [
      "Name: Alice Johnson, Phone: 555-123-4567\n",
      "Name: Jane Smith, Phone: 987-654-3210\n",
      "Name: John Doe, Phone: 123-456-7890\n"
     ]
    }
   ],
   "source": [
    "#7\n",
    "class Contact:\n",
    "    def __init__(self, name, phone):\n",
    "        self.name = name\n",
    "        self.phone = phone\n",
    "\n",
    "    def __str__(self):\n",
    "        return f\"Name: {self.name}, Phone: {self.phone}\"\n",
    "\n",
    "def selection_sort(contacts):\n",
    "    n = len(contacts)\n",
    "    for i in range(n - 1):\n",
    "        min_index = i\n",
    "        for j in range(i + 1, n):\n",
    "            if contacts[j].name < contacts[min_index].name:\n",
    "                min_index = j\n",
    "                \n",
    "        # Swap the elements\n",
    "        contacts[i], contacts[min_index] = contacts[min_index], contacts[i]\n",
    "\n",
    "# Example usage\n",
    "contact_list = [\n",
    "    Contact(\"John Doe\", \"123-456-7890\"),\n",
    "    Contact(\"Jane Smith\", \"987-654-3210\"),\n",
    "    Contact(\"Alice Johnson\", \"555-123-4567\")\n",
    "]\n",
    "\n",
    "selection_sort(contact_list)\n",
    "\n",
    "for contact in contact_list:\n",
    "    print(contact)\n"
   ]
  },
  {
   "cell_type": "code",
   "execution_count": 8,
   "id": "0dbe7872-0eaf-4385-b2bc-7be7d79872e2",
   "metadata": {},
   "outputs": [
    {
     "name": "stdout",
     "output_type": "stream",
     "text": [
      "Name: John Doe, Phone:  123-456-7890\n",
      "Name: Jane Smith, Phone:  987-654-3210\n"
     ]
    }
   ],
   "source": [
    "#8 \n",
    "class Contact:\n",
    "    def __init__(self, name, phone):\n",
    "        self.name = name\n",
    "        self.phone = phone\n",
    "\n",
    "    def __str__(self):\n",
    "        return f\"Name: {self.name}, Phone: {self.phone}\"\n",
    "\n",
    "def load_contacts(file_name):\n",
    "    contacts = []\n",
    "    \n",
    "    with open(file_name, 'r') as file:\n",
    "        for line in file:\n",
    "            name, phone = line.strip().split(',')\n",
    "            contact = Contact(name, phone)\n",
    "            contacts.append(contact)\n",
    "    \n",
    "    return contacts\n",
    "\n",
    "# Load contacts from a file\n",
    "file_name = \"contacts.txt\"  # Replace with the actual file name\n",
    "contact_list = load_contacts(file_name)\n",
    "\n",
    "# Print the loaded contacts\n",
    "for contact in contact_list:\n",
    "    print(contact)\n"
   ]
  },
  {
   "cell_type": "code",
   "execution_count": 9,
   "id": "471720ba-b723-4d92-9d62-a84e0716d3aa",
   "metadata": {},
   "outputs": [
    {
     "name": "stdout",
     "output_type": "stream",
     "text": [
      "Name: John Doe, Phone:  123-456-7890\n",
      "Name: Jane Smith, Phone:  987-654-3210\n"
     ]
    }
   ],
   "source": [
    "#9\n",
    "class Contact:\n",
    "    def __init__(self, name, phone):\n",
    "        self.name = name\n",
    "        self.phone = phone\n",
    "\n",
    "    def __str__(self):\n",
    "        return f\"Name: {self.name}, Phone: {self.phone}\"\n",
    "\n",
    "def display_contacts(file_name):\n",
    "    contacts = []\n",
    "    \n",
    "    with open(file_name, 'r') as file:\n",
    "        for line in file:\n",
    "            name, phone = line.strip().split(',')\n",
    "            contact = Contact(name, phone)\n",
    "            contacts.append(contact)\n",
    "    \n",
    "    for contact in contacts:\n",
    "        print(contact)\n",
    "\n",
    "# Display unsorted contacts from a file\n",
    "file_name = \"contacts.txt\"  # Replace with the actual file name\n",
    "display_contacts(file_name)\n"
   ]
  },
  {
   "cell_type": "code",
   "execution_count": 10,
   "id": "2d9c59f8-bbae-487e-a762-cf540354657d",
   "metadata": {},
   "outputs": [
    {
     "name": "stdout",
     "output_type": "stream",
     "text": [
      "Name: Jane Smith, Phone:  987-654-3210\n",
      "Name: John Doe, Phone:  123-456-7890\n"
     ]
    }
   ],
   "source": [
    "#10\n",
    "class Contact:\n",
    "    def __init__(self, name, phone):\n",
    "        self.name = name\n",
    "        self.phone = phone\n",
    "\n",
    "    def __str__(self):\n",
    "        return f\"Name: {self.name}, Phone: {self.phone}\"\n",
    "\n",
    "def bubble_sort(contacts):\n",
    "    n = len(contacts)\n",
    "    for i in range(n):\n",
    "        for j in range(0, n - i - 1):\n",
    "            if contacts[j].name > contacts[j + 1].name:\n",
    "                contacts[j], contacts[j + 1] = contacts[j + 1], contacts[j]\n",
    "\n",
    "def load_contacts(file_name):\n",
    "    contacts = []\n",
    "    \n",
    "    with open(file_name, 'r') as file:\n",
    "        for line in file:\n",
    "            name, phone = line.strip().split(',')\n",
    "            contact = Contact(name, phone)\n",
    "            contacts.append(contact)\n",
    "    \n",
    "    return contacts\n",
    "\n",
    "def display_contacts(contacts):\n",
    "    for contact in contacts:\n",
    "        print(contact)\n",
    "\n",
    "# Load contacts from a file\n",
    "file_name = \"contacts.txt\"  # Replace with the actual file name\n",
    "contact_list = load_contacts(file_name)\n",
    "\n",
    "# Sort contacts using bubble sort\n",
    "bubble_sort(contact_list)\n",
    "\n",
    "# Display sorted contacts\n",
    "display_contacts(contact_list)\n",
    "\n"
   ]
  },
  {
   "cell_type": "code",
   "execution_count": 11,
   "id": "c0f4e40c-4816-49fb-81d4-ffe9174db68e",
   "metadata": {},
   "outputs": [
    {
     "name": "stdout",
     "output_type": "stream",
     "text": [
      "Name: Jane Smith, Phone:  987-654-3210\n",
      "Name: John Doe, Phone:  123-456-7890\n"
     ]
    }
   ],
   "source": [
    "#11\n",
    "class Contact:\n",
    "    def __init__(self, name, phone):\n",
    "        self.name = name\n",
    "        self.phone = phone\n",
    "\n",
    "    def __str__(self):\n",
    "        return f\"Name: {self.name}, Phone: {self.phone}\"\n",
    "\n",
    "def bubble_sort(contacts):\n",
    "    n = len(contacts)\n",
    "    for i in range(n):\n",
    "        for j in range(0, n - i - 1):\n",
    "            if contacts[j].name > contacts[j + 1].name:\n",
    "                contacts[j], contacts[j + 1] = contacts[j + 1], contacts[j]\n",
    "\n",
    "def load_contacts(file_name):\n",
    "    contacts = []\n",
    "    \n",
    "    with open(file_name, 'r') as file:\n",
    "        for line in file:\n",
    "            name, phone = line.strip().split(',')\n",
    "            contact = Contact(name, phone)\n",
    "            contacts.append(contact)\n",
    "    \n",
    "    return contacts\n",
    "\n",
    "def display_contacts(contacts):\n",
    "    for contact in contacts:\n",
    "        print(contact)\n",
    "\n",
    "# Load contacts from a file\n",
    "file_name = \"contacts.txt\"  # Replace with the actual file name\n",
    "contact_list = load_contacts(file_name)\n",
    "\n",
    "# Sort contacts using bubble sort\n",
    "bubble_sort(contact_list)\n",
    "\n",
    "# Display sorted contacts\n",
    "display_contacts(contact_list)\n"
   ]
  },
  {
   "cell_type": "code",
   "execution_count": 12,
   "id": "5a7ee8e9-fcda-47a2-b347-00aebcb74ed5",
   "metadata": {},
   "outputs": [
    {
     "name": "stdout",
     "output_type": "stream",
     "text": [
      "Name: Jane Smith, Phone:  987-654-3210\n",
      "Name: John Doe, Phone:  123-456-7890\n"
     ]
    }
   ],
   "source": [
    "#12\n",
    "class Contact:\n",
    "    def __init__(self, name, phone):\n",
    "        self.name = name\n",
    "        self.phone = phone\n",
    "\n",
    "    def __str__(self):\n",
    "        return f\"Name: {self.name}, Phone: {self.phone}\"\n",
    "\n",
    "def insertion_sort(contacts):\n",
    "    n = len(contacts)\n",
    "    for i in range(1, n):\n",
    "        current_contact = contacts[i]\n",
    "        j = i - 1\n",
    "        while j >= 0 and contacts[j].name > current_contact.name:\n",
    "            contacts[j + 1] = contacts[j]\n",
    "            j -= 1\n",
    "        contacts[j + 1] = current_contact\n",
    "\n",
    "def load_contacts(file_name):\n",
    "    contacts = []\n",
    "    \n",
    "    with open(file_name, 'r') as file:\n",
    "        for line in file:\n",
    "            name, phone = line.strip().split(',')\n",
    "            contact = Contact(name, phone)\n",
    "            contacts.append(contact)\n",
    "    \n",
    "    return contacts\n",
    "\n",
    "def display_contacts(contacts):\n",
    "    for contact in contacts:\n",
    "        print(contact)\n",
    "\n",
    "# Load contacts from a file\n",
    "file_name = \"contacts.txt\"  # Replace with the actual file name\n",
    "contact_list = load_contacts(file_name)\n",
    "\n",
    "# Sort contacts using insertion sort\n",
    "insertion_sort(contact_list)\n",
    "\n",
    "# Display sorted contacts\n",
    "display_contacts(contact_list)\n"
   ]
  },
  {
   "cell_type": "code",
   "execution_count": 13,
   "id": "e0b74a64-48d9-4bb0-9080-ba6c4ee306cb",
   "metadata": {},
   "outputs": [
    {
     "name": "stdout",
     "output_type": "stream",
     "text": [
      "Name: Jane Smith, Phone:  987-654-3210\n",
      "Name: John Doe, Phone:  123-456-7890\n"
     ]
    }
   ],
   "source": [
    "#13\n",
    "class Contact:\n",
    "    def __init__(self, name, phone):\n",
    "        self.name = name\n",
    "        self.phone = phone\n",
    "\n",
    "    def __str__(self):\n",
    "        return f\"Name: {self.name}, Phone: {self.phone}\"\n",
    "\n",
    "def insertion_sort(contacts):\n",
    "    n = len(contacts)\n",
    "    for i in range(1, n):\n",
    "        current_contact = contacts[i]\n",
    "        j = i - 1\n",
    "        while j >= 0 and contacts[j].name > current_contact.name:\n",
    "            contacts[j + 1] = contacts[j]\n",
    "            j -= 1\n",
    "        contacts[j + 1] = current_contact\n",
    "\n",
    "def load_contacts(file_name):\n",
    "    contacts = []\n",
    "    \n",
    "    with open(file_name, 'r') as file:\n",
    "        for line in file:\n",
    "            name, phone = line.strip().split(',')\n",
    "            contact = Contact(name, phone)\n",
    "            contacts.append(contact)\n",
    "    \n",
    "    return contacts\n",
    "\n",
    "def display_contacts(contacts):\n",
    "    for contact in contacts:\n",
    "        print(contact)\n",
    "\n",
    "# Load contacts from a file\n",
    "file_name = \"contacts.txt\"  # Replace with the actual file name\n",
    "contact_list = load_contacts(file_name)\n",
    "\n",
    "# Sort contacts using insertion sort\n",
    "insertion_sort(contact_list)\n",
    "\n",
    "# Display sorted contacts\n",
    "display_contacts(contact_list)\n"
   ]
  },
  {
   "cell_type": "code",
   "execution_count": 14,
   "id": "8a31f78e-9d78-490e-8454-ea08b697c41d",
   "metadata": {},
   "outputs": [
    {
     "name": "stdout",
     "output_type": "stream",
     "text": [
      "Name: Jane Smith, Phone:  987-654-3210\n",
      "Name: John Doe, Phone:  123-456-7890\n"
     ]
    }
   ],
   "source": [
    "#14\n",
    "class Contact:\n",
    "    def __init__(self, name, phone):\n",
    "        self.name = name\n",
    "        self.phone = phone\n",
    "\n",
    "    def __str__(self):\n",
    "        return f\"Name: {self.name}, Phone: {self.phone}\"\n",
    "\n",
    "def selection_sort(contacts):\n",
    "    n = len(contacts)\n",
    "    for i in range(n - 1):\n",
    "        min_index = i\n",
    "        for j in range(i + 1, n):\n",
    "            if contacts[j].name < contacts[min_index].name:\n",
    "                min_index = j\n",
    "        contacts[i], contacts[min_index] = contacts[min_index], contacts[i]\n",
    "\n",
    "def load_contacts(file_name):\n",
    "    contacts = []\n",
    "    \n",
    "    with open(file_name, 'r') as file:\n",
    "        for line in file:\n",
    "            name, phone = line.strip().split(',')\n",
    "            contact = Contact(name, phone)\n",
    "            contacts.append(contact)\n",
    "    \n",
    "    return contacts\n",
    "\n",
    "def display_contacts(contacts):\n",
    "    for contact in contacts:\n",
    "        print(contact)\n",
    "\n",
    "# Load contacts from a file\n",
    "file_name = \"contacts.txt\"  # Replace with the actual file name\n",
    "contact_list = load_contacts(file_name)\n",
    "\n",
    "# Sort contacts using selection sort\n",
    "selection_sort(contact_list)\n",
    "\n",
    "# Display sorted contacts\n",
    "display_contacts(contact_list)\n"
   ]
  },
  {
   "cell_type": "code",
   "execution_count": 15,
   "id": "fc3ecab1-f4a3-4511-96c7-164bb8e982fb",
   "metadata": {},
   "outputs": [
    {
     "name": "stdout",
     "output_type": "stream",
     "text": [
      "Name: Jane Smith, Phone:  987-654-3210\n",
      "Name: John Doe, Phone:  123-456-7890\n"
     ]
    }
   ],
   "source": [
    "#15\n",
    "class Contact:\n",
    "    def __init__(self, name, phone):\n",
    "        self.name = name\n",
    "        self.phone = phone\n",
    "\n",
    "    def __str__(self):\n",
    "        return f\"Name: {self.name}, Phone: {self.phone}\"\n",
    "\n",
    "def selection_sort(contacts):\n",
    "    n = len(contacts)\n",
    "    for i in range(n - 1):\n",
    "        min_index = i\n",
    "        for j in range(i + 1, n):\n",
    "            if contacts[j].name < contacts[min_index].name:\n",
    "                min_index = j\n",
    "        contacts[i], contacts[min_index] = contacts[min_index], contacts[i]\n",
    "\n",
    "def load_contacts(file_name):\n",
    "    contacts = []\n",
    "    \n",
    "    with open(file_name, 'r') as file:\n",
    "        for line in file:\n",
    "            name, phone = line.strip().split(',')\n",
    "            contact = Contact(name, phone)\n",
    "            contacts.append(contact)\n",
    "    \n",
    "    return contacts\n",
    "\n",
    "def display_contacts(contacts):\n",
    "    for contact in contacts:\n",
    "        print(contact)\n",
    "\n",
    "# Load contacts from a file\n",
    "file_name = \"contacts.txt\"  # Replace with the actual file name\n",
    "contact_list = load_contacts(file_name)\n",
    "\n",
    "# Sort contacts using selection sort\n",
    "selection_sort(contact_list)\n",
    "\n",
    "# Display sorted contacts\n",
    "display_contacts(contact_list)\n",
    "\n"
   ]
  },
  {
   "cell_type": "code",
   "execution_count": 16,
   "id": "2cfaca7f-dfcd-4e73-b32f-7ec6d94b9671",
   "metadata": {},
   "outputs": [
    {
     "name": "stdout",
     "output_type": "stream",
     "text": [
      "Name: Jane Smith, Phone:  987-654-3210\n",
      "Name: John Doe, Phone:  123-456-7890\n"
     ]
    }
   ],
   "source": [
    "#16\n",
    "class Contact:\n",
    "    def __init__(self, name, phone):\n",
    "        self.name = name\n",
    "        self.phone = phone\n",
    "\n",
    "    def __str__(self):\n",
    "        return f\"Name: {self.name}, Phone: {self.phone}\"\n",
    "\n",
    "def selection_sort(contacts):\n",
    "    n = len(contacts)\n",
    "    for i in range(n - 1):\n",
    "        min_index = i\n",
    "        for j in range(i + 1, n):\n",
    "            if contacts[j].name < contacts[min_index].name:\n",
    "                min_index = j\n",
    "        contacts[i], contacts[min_index] = contacts[min_index], contacts[i]\n",
    "\n",
    "def load_contacts(file_name):\n",
    "    contacts = []\n",
    "    \n",
    "    with open(file_name, 'r') as file:\n",
    "        for line in file:\n",
    "            name, phone = line.strip().split(',')\n",
    "            contact = Contact(name, phone)\n",
    "            contacts.append(contact)\n",
    "    \n",
    "    return contacts\n",
    "\n",
    "def save_contacts(file_name, contacts):\n",
    "    with open(file_name, 'w') as file:\n",
    "        for contact in contacts:\n",
    "            file.write(f\"{contact.name}, {contact.phone}\\n\")\n",
    "\n",
    "def display_contacts(contacts):\n",
    "    for contact in contacts:\n",
    "        print(contact)\n",
    "\n",
    "# Load contacts from a file\n",
    "file_name = \"contacts.txt\"  # Replace with the actual file name\n",
    "contact_list = load_contacts(file_name)\n",
    "\n",
    "# Sort contacts using selection sort\n",
    "selection_sort(contact_list)\n",
    "\n",
    "# Save sorted contacts back to the file\n",
    "save_contacts(file_name, contact_list)\n",
    "\n",
    "# Display sorted contacts\n",
    "display_contacts(contact_list)\n"
   ]
  }
 ],
 "metadata": {
  "kernelspec": {
   "display_name": "Python 3 (ipykernel)",
   "language": "python",
   "name": "python3"
  },
  "language_info": {
   "codemirror_mode": {
    "name": "ipython",
    "version": 3
   },
   "file_extension": ".py",
   "mimetype": "text/x-python",
   "name": "python",
   "nbconvert_exporter": "python",
   "pygments_lexer": "ipython3",
   "version": "3.9.15"
  }
 },
 "nbformat": 4,
 "nbformat_minor": 5
}
