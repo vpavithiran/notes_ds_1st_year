{
 "cells": [
  {
   "cell_type": "markdown",
   "metadata": {},
   "source": [
    "# NAME: PAVITHIRAN V         <BR>ROLL NO: 235229122\n",
    "<h3>Programming and Data Structures with Python Lab\n",
    "Lab1. <br>Python Basics, Conditions and Loops</h3>"
   ]
  },
  {
   "cell_type": "markdown",
   "metadata": {},
   "source": [
    "<H2>Question 1</H2>\n",
    "<h4>Write a program in Python to input length and breadth of a rectangle and print the\n",
    "area and perimeter of it.</h4>\n",
    "    <h5> Test you code with atleast 2 test cases</h5>"
   ]
  },
  {
   "cell_type": "code",
   "execution_count": 1,
   "metadata": {},
   "outputs": [
    {
     "name": "stdin",
     "output_type": "stream",
     "text": [
      "Enter the length of the rectangle: 23\n",
      "Enter the width of the rectangle: 34\n"
     ]
    },
    {
     "name": "stdout",
     "output_type": "stream",
     "text": [
      "The Area of the rectangle is 782.\n",
      "The permimeter of the rectangle is 114.\n"
     ]
    }
   ],
   "source": [
    "# getting the values from the users\n",
    "l = int(input(\"Enter the length of the rectangle:\"))\n",
    "w = int(input(\"Enter the width of the rectangle:\"))\n",
    "#displaying the calculated values\n",
    "print(\"The Area of the rectangle is {}.\".format(l*w))\n",
    "print(\"The permimeter of the rectangle is {}.\".format(2*(l+w)))"
   ]
  },
  {
   "cell_type": "markdown",
   "metadata": {},
   "source": [
    "-------------------------------------------------------------------"
   ]
  },
  {
   "cell_type": "markdown",
   "metadata": {},
   "source": [
    "<h2>Question 2</h2>\n",
    "<h4>Write a program, which accepts annual basic salary of an employee and calculates \n",
    "and displays the Income tax as per the following rules. </h4>\n",
    "<br> If Basic is less than Rs. 1,50,000/-, then Tax = 0. \n",
    "<br> If Basic is from Rs.1,50,000/- to Rs. 3,00,000/-, then tax is 20%. \n",
    "<br> If Basic is greater than Rs.3,00,000/-, then tax is 30%. \n",
    "<br> Print name, annual income and tax.\n",
    "<br> Write test cases to validate all conditions"
   ]
  },
  {
   "cell_type": "code",
   "execution_count": 14,
   "metadata": {},
   "outputs": [
    {
     "name": "stdin",
     "output_type": "stream",
     "text": [
      "Enter your name : kumar\n",
      "Enter your salary : 200000\n"
     ]
    },
    {
     "name": "stdout",
     "output_type": "stream",
     "text": [
      "Name : kumar\n",
      "Annual Income :200000\n",
      "Tax :40000.0\n"
     ]
    }
   ],
   "source": [
    "#function to calculate tax\n",
    "def cal_tax(sal):\n",
    "    if sal < 150000:\n",
    "        tax = 0\n",
    "    elif sal >= 150000 and sal <= 300000:\n",
    "        tax = sal * 0.2\n",
    "    else:\n",
    "        tax = sal * 0.3\n",
    "    return tax\n",
    "\n",
    "#getting the values\n",
    "name = input(\"Enter your name :\")\n",
    "sal = int(input(\"Enter your salary :\"))\n",
    "\n",
    "#printing the name, annual income and tax\n",
    "print(\"Name : {}\".format(name))\n",
    "print(\"Annual Income :{}\".format(sal))\n",
    "print(\"Tax :{}\".format(cal_tax(sal)))"
   ]
  },
  {
   "cell_type": "markdown",
   "metadata": {},
   "source": [
    "____________________________________________________________"
   ]
  },
  {
   "cell_type": "markdown",
   "metadata": {},
   "source": [
    "<h2>Question 3</h2>\n",
    "<h4>Write a program to accept quantity and rate for three (3) items. Compute the total \n",
    "sales amount. Also compute and print the discount as follows: </h4>\n",
    "\n",
    "<br> Amount > Rs. 2000/- : 20% discount\n",
    "<br> Amount between Rs. 1500/- to Rs.1999/- :15% discount\n",
    "<br> Amount between Rs. 1000/- to Rs.1499/- 8 % discount\n",
    "<br> Compute final amount to be paid. \n",
    "<br> Print name, rate and quantity of 3 items. Then print total sales amount, total discount \n",
    "and final amount to be paid to shop.\n",
    "<br> Write 3 test cases to validate all conditions"
   ]
  },
  {
   "cell_type": "code",
   "execution_count": 3,
   "metadata": {},
   "outputs": [
    {
     "name": "stdin",
     "output_type": "stream",
     "text": [
      "Enter the name of the item : note\n",
      "Enter the rate of the item : 1500\n",
      "Enter the quantity of the item 8\n"
     ]
    },
    {
     "name": "stdout",
     "output_type": "stream",
     "text": [
      "ITEM NAME :note\n",
      "RATE :1500\n",
      "QUANTITY :8\n",
      "TOTAL SALES AMOUNT :12000\n",
      "TOTAL DISCOUNT :2400.0\n",
      "FINAL AMOUNT :9600.0\n"
     ]
    }
   ],
   "source": [
    "#function for calculating the dicount\n",
    "def dis_cal(amo):\n",
    "    if amo > 2000:\n",
    "        dis = amo * 0.2\n",
    "    elif amo >= 1500 and amo <= 1999:\n",
    "        dis = amo * 0.15\n",
    "    elif amo >= 1000 and amo <= 1400:\n",
    "        dis = amo * 0.08\n",
    "    return dis\n",
    "\n",
    "# getting the values from the user\n",
    "i_name = input(\"Enter the name of the item :\")\n",
    "rate = int(input(\"Enter the rate of the item :\"))\n",
    "quan = int(input(\"Enter the quantity of the item\"))\n",
    "total_sale_amount = rate * quan\n",
    "total_discount = dis_cal(total_sale_amount)\n",
    "\n",
    "#printing\n",
    "print(\"ITEM NAME :{}\".format(i_name))\n",
    "print(\"RATE :{}\".format(rate))\n",
    "print(\"QUANTITY :{}\".format(quan))\n",
    "print(\"TOTAL SALES AMOUNT :{}\".format(total_sale_amount))\n",
    "print(\"TOTAL DISCOUNT :{}\".format(total_discount))\n",
    "print(\"FINAL AMOUNT :{}\".format(total_sale_amount - total_discount))\n",
    "    \n",
    "        \n",
    "    "
   ]
  },
  {
   "cell_type": "markdown",
   "metadata": {},
   "source": [
    "______________________________________________________________"
   ]
  },
  {
   "cell_type": "markdown",
   "metadata": {},
   "source": [
    "<h2>Question 4</h2>\n",
    "<h4>Evaluate the expressions using Pen and Paper first and then print the value.</h4>\n",
    "<br> X1=(11+31+23+8+7+5)/((1-(1/2)-(1/20)))\n",
    "<br> X2=(((10*8)+8-((7//5)%(5**4)))&3)|(2<<1)"
   ]
  },
  {
   "cell_type": "code",
   "execution_count": 27,
   "metadata": {},
   "outputs": [
    {
     "name": "stdout",
     "output_type": "stream",
     "text": [
      "188.88888888888889\n"
     ]
    },
    {
     "data": {
      "text/plain": [
       "7"
      ]
     },
     "execution_count": 27,
     "metadata": {},
     "output_type": "execute_result"
    }
   ],
   "source": [
    "#X1=(11+31+23+8+7+5)/((1-(1/2)-(1/20)))\n",
    "x1 = (11 + 31 + 23 + 8 + 7 + 5) / ((1 - ( 1 / 2 ) - ( 1 / 20)))\n",
    "print(x1)\n",
    "#X2=(((10*8)+8-((7//5)%(5**4)))&3)|(2<<1)\n",
    "X2=(((10*8)+8-((7//5)%(5**4)))&3)|(2<<1)\n",
    "X2\n"
   ]
  },
  {
   "cell_type": "markdown",
   "metadata": {},
   "source": [
    "---------------------------------------------------------------"
   ]
  },
  {
   "cell_type": "markdown",
   "metadata": {},
   "source": [
    "<h2>Question 5</h2>\n",
    "<h4>Write a program to accept name, marks for three subjects and find the total marks \n",
    "secured, average and also display the class obtained. </h4>\n",
    "<br> Class I – above 80%\n",
    "<br> Class II – 60% to 80%\n",
    "<br> Pass class – 40% to 59% and \n",
    "<br> Fail otherwise\n",
    "<br>Print a message as “Congratulations << your name>>, you secured a total of <<total marks>>, \n",
    "and Your class is <<class>>”\n",
    "<br>Test you code with atleast 2 test cases"
   ]
  },
  {
   "cell_type": "code",
   "execution_count": 34,
   "metadata": {},
   "outputs": [
    {
     "name": "stdin",
     "output_type": "stream",
     "text": [
      "Enter your name : pavi\n",
      "Enter subject 1 mark : 80\n",
      "Enter subject 2 mark : 89\n",
      "Enter subject 3 mark : 90\n"
     ]
    },
    {
     "name": "stdout",
     "output_type": "stream",
     "text": [
      "Congratulations pavi, you secured a total of 259, and Your class is CLASS I\n"
     ]
    }
   ],
   "source": [
    "#Finding the class\n",
    "def cal_class(avg_mark):\n",
    "    if avg_mark > 80:\n",
    "        return \"CLASS I\"\n",
    "    elif avg_mark >= 60 and avg_mark <= 80:\n",
    "        return \"CLASS II\"\n",
    "    elif avg_mark >= 40 and avg_mark <= 59:\n",
    "        return \"PASS CLASS\"\n",
    "    else:\n",
    "        return \"FAIL\"\n",
    "# getting the value\n",
    "name = input(\"Enter your name :\")\n",
    "mark1 = int((input(\"Enter subject 1 mark :\")))\n",
    "mark2 = int((input(\"Enter subject 2 mark :\")))\n",
    "mark3 = int((input(\"Enter subject 3 mark :\")))\n",
    "total_mark = mark1 + mark2 + mark3\n",
    "avg_mark = total_mark/3\n",
    "\n",
    "print(\"Congratulations {}, you secured a total of {}, and Your class is {}\".format(name, total_mark, cal_class(avg_mark)))"
   ]
  },
  {
   "cell_type": "markdown",
   "metadata": {},
   "source": [
    "---------------------------------------------------------------"
   ]
  },
  {
   "cell_type": "markdown",
   "metadata": {},
   "source": [
    "<h2>Question 6</h2>\n",
    "<h4>Read a number from keyboard. Print whether it is odd number, even number, \n",
    "positive number, negative number or zero. Also, print if its ASCII value represents a lower case \n",
    "or upper case letter or digit.</h4>\n",
    "Write 8 test cases to validate odd, even, positive, negative, zero, lower case, upper case and \n",
    "digit input types"
   ]
  },
  {
   "cell_type": "code",
   "execution_count": 55,
   "metadata": {},
   "outputs": [
    {
     "name": "stdin",
     "output_type": "stream",
     "text": [
      "Enter a number : 95\n"
     ]
    },
    {
     "name": "stdout",
     "output_type": "stream",
     "text": [
      "The Number 95 is Odd and Positive Number.\n",
      "The num 95 represents "
     ]
    }
   ],
   "source": [
    "def is_even(num):\n",
    "    return num % 2 == 0\n",
    "        \n",
    "def is_odd(num):\n",
    "    return num % 2 != 0\n",
    "\n",
    "def is_positive(num):\n",
    "    return num > 0\n",
    "\n",
    "def is_negative(num):\n",
    "    return num < 0\n",
    "\n",
    "def is_zero(num):\n",
    "    return num == 0\n",
    "\n",
    "num = int(input(\"Enter a number :\"))\n",
    "print(\"The Number {} is\".format(num), end= \" \")\n",
    "if is_zero(num):\n",
    "    print(\"neither positive nor negative.\", end= \" \")\n",
    "elif is_odd(num):\n",
    "    print(\"Odd\", end= \" \")\n",
    "elif is_even(num):\n",
    "    print(\"Even\", end= \" \")\n",
    "\n",
    "if is_positive(num):\n",
    "    print(\"and Positive Number.\")\n",
    "elif is_negative(num):\n",
    "    print(\"and Negative Number.\")\n",
    "    \n",
    "\n",
    "print(\"The num {} represents\".format(num), end=\" \")\n",
    "if num >= 45 and num <= 57:\n",
    "    print(\"a digit\")\n",
    "elif num >= 65 and num <= 90:\n",
    "    print(\"uppercase\")\n",
    "elif num >= 97 and num <= 122:\n",
    "    print(\"lowercase\")"
   ]
  },
  {
   "cell_type": "markdown",
   "metadata": {},
   "source": [
    "---------------------------------------------------------------------------------------------------------------------------------------------------------------"
   ]
  },
  {
   "cell_type": "markdown",
   "metadata": {},
   "source": [
    "<h2>Question7</h2>\n",
    "<h4>Version Control using Git and GitHub\n",
    "Read and apply version control features in your code:</h4> \n",
    "<a>https://ocw.mit.edu/ans7870/6/6.005/s16/classes/05-version-control/</a>"
   ]
  },
  {
   "cell_type": "markdown",
   "metadata": {},
   "source": [
    "--------------------------------------------------------------"
   ]
  },
  {
   "cell_type": "markdown",
   "metadata": {},
   "source": [
    "<h2>Question 8<h2>\n",
    "<h4>Write a program that accepts numbers continuously as long as the number is\n",
    "positive and prints the sum of the numbers read (Use while loop). <br>A sample user interaction \n",
    "will be:</h4>\n",
    "<br>Enter a number: 2\n",
    "<br>Enter a number: 1\n",
    "<br>Enter a number: 4\n",
    "<br>Enter a number: 6\n",
    "<br>Enter a number: -10\n",
    "<br>Sum = 13"
   ]
  },
  {
   "cell_type": "code",
   "execution_count": 61,
   "metadata": {},
   "outputs": [
    {
     "name": "stdin",
     "output_type": "stream",
     "text": [
      "Enter a number : 45\n",
      "Enter a number : 34\n",
      "Enter a number : 67\n",
      "Enter a number : 22\n",
      "Enter a number : 4\n",
      "Enter a number : 7\n",
      "Enter a number : -11\n"
     ]
    },
    {
     "name": "stdout",
     "output_type": "stream",
     "text": [
      "Sum = 179\n"
     ]
    }
   ],
   "source": [
    "total_num = 0\n",
    "while True:\n",
    "    num = int(input(\"Enter a number :\"))\n",
    "    if num < 0:\n",
    "        break\n",
    "    else:\n",
    "        total_num += num\n",
    "print(\"Sum =\", total_num)"
   ]
  },
  {
   "cell_type": "markdown",
   "metadata": {},
   "source": [
    "---------------------------------------------------------------"
   ]
  },
  {
   "cell_type": "markdown",
   "metadata": {},
   "source": [
    "<h2>Question 9</h2>\n",
    "<h4>Write a program to take the values of two integers m and n from the user. \n",
    "<br>Calculate the sum of even number between m and n (including both m and n). \n",
    "<br>Please note that value of m must be less than value of n. If m > n. then you must print a \n",
    "message “Value of m should be less than n” and ask for next input values. \n",
    "<br>Print the values of m, n and sum. (Use while loop).\n",
    "<br>The program should continue until user types ‘q’ to quit the program.</h4>\n",
    "\n",
    "Sample user interaction:\n",
    "<br>Enter m: 1\n",
    "<br>Enter n: 10\n",
    "<br>Sum of even numbers: 20\n",
    "<br>Do you want to quit (Type q)? : \n",
    "<br><br>Enter m: 2\n",
    "<br>Enter n: 10\n",
    "<br>Sum of even numbers: 20\n",
    "<br>Do you want to quit (Type q)? :\n",
    "<br><br>Enter m: 20\n",
    "<br>Enter n: 10\n",
    "<br>Value of m should be less than n \n",
    "<br>Do you want to quit (Type q)? : q"
   ]
  },
  {
   "cell_type": "code",
   "execution_count": 66,
   "metadata": {},
   "outputs": [
    {
     "name": "stdout",
     "output_type": "stream",
     "text": [
      "Sample user interaction:\n"
     ]
    },
    {
     "name": "stdin",
     "output_type": "stream",
     "text": [
      "Enter m:  1\n",
      "Enter n:  10\n"
     ]
    },
    {
     "name": "stdout",
     "output_type": "stream",
     "text": [
      "Sum of even numbers : 20\n"
     ]
    },
    {
     "name": "stdin",
     "output_type": "stream",
     "text": [
      "Do you want to quit (Type q)? : \n"
     ]
    },
    {
     "name": "stdout",
     "output_type": "stream",
     "text": [
      "\n"
     ]
    },
    {
     "name": "stdin",
     "output_type": "stream",
     "text": [
      "Enter m:  2\n",
      "Enter n:  10\n"
     ]
    },
    {
     "name": "stdout",
     "output_type": "stream",
     "text": [
      "Sum of even numbers : 20\n"
     ]
    },
    {
     "name": "stdin",
     "output_type": "stream",
     "text": [
      "Do you want to quit (Type q)? : \n"
     ]
    },
    {
     "name": "stdout",
     "output_type": "stream",
     "text": [
      "\n"
     ]
    },
    {
     "name": "stdin",
     "output_type": "stream",
     "text": [
      "Enter m:  20\n",
      "Enter n:  10\n"
     ]
    },
    {
     "name": "stdout",
     "output_type": "stream",
     "text": [
      "Value of m should be less than n\n"
     ]
    },
    {
     "name": "stdin",
     "output_type": "stream",
     "text": [
      "Do you want to quit (Type q)? : q\n"
     ]
    }
   ],
   "source": [
    "print(\"Sample user interaction:\")\n",
    "while True:\n",
    "    sum = 0\n",
    "    m = int(input(\"Enter m: \"))\n",
    "    n = int(input(\"Enter n: \"))\n",
    "    if n < m:\n",
    "        print(\"Value of m should be less than n\")\n",
    "    else:\n",
    "        for i in range(m, n):\n",
    "            if i % 2 == 0:\n",
    "                sum += i\n",
    "        print(\"Sum of even numbers :\",sum)\n",
    "    quit = input(\"Do you want to quit (Type q)? :\")\n",
    "    if quit == 'q':\n",
    "        break\n",
    "    print()\n",
    "                \n",
    "    "
   ]
  },
  {
   "cell_type": "markdown",
   "metadata": {},
   "source": [
    "______________________________________________________________"
   ]
  },
  {
   "cell_type": "markdown",
   "metadata": {},
   "source": [
    "<h2>Question 10</h2>\n",
    "<h4>Write a program to accept n and display its multiplication table. Value of n must \n",
    "be provided by the user.</h4> (Example: n * 1, n * 2,....,n*10) (Use for loop)"
   ]
  },
  {
   "cell_type": "code",
   "execution_count": 71,
   "metadata": {},
   "outputs": [
    {
     "name": "stdin",
     "output_type": "stream",
     "text": [
      "Enter the number:  5\n"
     ]
    },
    {
     "name": "stdout",
     "output_type": "stream",
     "text": [
      "5 X 1 = 5\n",
      "5 X 2 = 10\n",
      "5 X 3 = 15\n",
      "5 X 4 = 20\n",
      "5 X 5 = 25\n",
      "5 X 6 = 30\n",
      "5 X 7 = 35\n",
      "5 X 8 = 40\n",
      "5 X 9 = 45\n",
      "5 X 10 = 50\n"
     ]
    }
   ],
   "source": [
    "num = int(input(\"Enter the number: \"))\n",
    "for i in range(1, 11):\n",
    "    print(\"{} X {} = {}\".format(num, i , num * i))"
   ]
  },
  {
   "cell_type": "markdown",
   "metadata": {},
   "source": [
    "--------------------------------------------------------------"
   ]
  },
  {
   "cell_type": "markdown",
   "metadata": {},
   "source": [
    "<h2>Question 11</h2> \n",
    "<h4>Write a program that receives an integer and prints the sum of its digits. For \n",
    "example, an input 125 will print output 1+2+5=8.</h4>\n",
    "<br> Try out with the following test cases\n",
    "<br> 125\n",
    "<br> 12\n",
    "<br> 2\n",
    "<br> -15"
   ]
  },
  {
   "cell_type": "code",
   "execution_count": 83,
   "metadata": {},
   "outputs": [
    {
     "name": "stdin",
     "output_type": "stream",
     "text": [
      "Enter the number : 123456789\n"
     ]
    },
    {
     "name": "stdout",
     "output_type": "stream",
     "text": [
      "45\n"
     ]
    }
   ],
   "source": [
    "num = input(\"Enter the number :\")\n",
    "sum = 0\n",
    "for i in num:\n",
    "    sum += int(i)\n",
    "print(sum)"
   ]
  },
  {
   "cell_type": "markdown",
   "metadata": {},
   "source": [
    "---------------------------------------------------------------"
   ]
  },
  {
   "cell_type": "markdown",
   "metadata": {},
   "source": [
    "<h2>Question 12<h2> \n",
    "<h4>Develop an application in Python that repeatedly reads numbers until the user \n",
    "enters done. Once done is entered, print out the total, count, and average of the numbers. If \n",
    "the user enters anything other than a number, detect their mistake using try and except and \n",
    "print an error message and skip to the next number.<h4>"
   ]
  },
  {
   "cell_type": "code",
   "execution_count": 89,
   "metadata": {},
   "outputs": [
    {
     "name": "stdin",
     "output_type": "stream",
     "text": [
      "Enter a number:  5\n",
      "Enter a number:  5\n",
      "Enter a number:  done\n"
     ]
    },
    {
     "name": "stdout",
     "output_type": "stream",
     "text": [
      "Total :10.0\n",
      "Count :2\n",
      "Average :5.0\n"
     ]
    }
   ],
   "source": [
    "total = 0\n",
    "count = 0\n",
    "while True:\n",
    "    num = input(\"Enter a number: \")\n",
    "    if num == \"done\":\n",
    "        break\n",
    "    else:\n",
    "        try:\n",
    "            num = float(num)\n",
    "        except ValueError:\n",
    "            print(\"Invalid input. Enter a number\")\n",
    "            continue\n",
    "    total += num\n",
    "    count +=1\n",
    "\n",
    "avg = total/count\n",
    "print(\"Total :{}\".format(total))\n",
    "print(\"Count :{}\".format(count))\n",
    "print(\"Average :{}\".format(avg))"
   ]
  }
 ],
 "metadata": {
  "kernelspec": {
   "display_name": "Python 3 (ipykernel)",
   "language": "python",
   "name": "python3"
  },
  "language_info": {
   "codemirror_mode": {
    "name": "ipython",
    "version": 3
   },
   "file_extension": ".py",
   "mimetype": "text/x-python",
   "name": "python",
   "nbconvert_exporter": "python",
   "pygments_lexer": "ipython3",
   "version": "3.9.15"
  }
 },
 "nbformat": 4,
 "nbformat_minor": 4
}
