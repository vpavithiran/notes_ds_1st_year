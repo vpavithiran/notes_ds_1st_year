{
 "cells": [
  {
   "cell_type": "markdown",
   "id": "2a53cca5-af7f-4158-a2fa-8830079d4d67",
   "metadata": {},
   "source": [
    "<center><h2>Programming and Data Structures with Python Lab13.<br> Retrieving Data from Web Parsing</h2>"
   ]
  },
  {
   "cell_type": "markdown",
   "id": "dc325b58-3d80-42e8-88fa-344fec8800b2",
   "metadata": {},
   "source": [
    "<h1>NAME: PAVITHIRAN. V<BR>ROLL NO:235229122</h1>"
   ]
  },
  {
   "cell_type": "code",
   "execution_count": 1,
   "id": "40d520f5-5968-4e88-b889-96e585a3eb61",
   "metadata": {},
   "outputs": [
    {
     "name": "stdout",
     "output_type": "stream",
     "text": [
      "googlesearch: 1\n",
      "images: 1\n",
      "maps: 1\n",
      "play: 1\n",
      "youtube: 1\n",
      "news: 1\n",
      "gmail: 1\n",
      "drive: 1\n",
      "more: 1\n",
      "web: 1\n",
      "history: 1\n",
      "settings: 1\n",
      "sign: 1\n",
      "in: 3\n",
      "advanced: 1\n",
      "searchgoogle: 1\n",
      "offered: 1\n",
      "ह: 1\n",
      "न: 1\n",
      "द: 1\n",
      "ব: 1\n",
      "ল: 1\n",
      "త: 1\n",
      "ల: 1\n",
      "గ: 1\n",
      "मर: 1\n",
      "ठ: 1\n",
      "தம: 1\n",
      "ழ: 1\n",
      "ગ: 1\n",
      "જર: 1\n",
      "ત: 1\n",
      "ಕನ: 1\n",
      "ನಡ: 1\n",
      "മലയ: 1\n",
      "ള: 1\n",
      "ਪ: 1\n",
      "ਜ: 1\n",
      "ਬ: 1\n",
      "advertisingbusiness: 1\n",
      "solutionsabout: 1\n",
      "googlegoogle: 1\n",
      "co: 1\n",
      "2023: 1\n",
      "privacy: 1\n",
      "terms: 1\n"
     ]
    }
   ],
   "source": [
    "#q1\n",
    "from bs4 import BeautifulSoup\n",
    "from collections import Counter\n",
    "import re\n",
    "import urllib.request\n",
    "url = 'https://www.google.com'\n",
    "try:\n",
    "    response = urllib.request.urlopen(url)\n",
    "    html = response.read()\n",
    "    soup = BeautifulSoup(html, 'html.parser')\n",
    "    text = soup.get_text()\n",
    "    words = re.findall(r'\\w+', text.lower())  # Using regex to split text into words\n",
    "    word_count = Counter(words)\n",
    "    for word, frequency in word_count.items():\n",
    "        print(f'{word}: {frequency}')\n",
    "\n",
    "except Exception as e:\n",
    "    print(f'Error: {e}')\n"
   ]
  },
  {
   "cell_type": "code",
   "execution_count": 3,
   "id": "9ca851ef-69df-42ba-9af9-fec75306eba7",
   "metadata": {},
   "outputs": [
    {
     "name": "stdout",
     "output_type": "stream",
     "text": [
      "#bodyContent\n",
      "/wiki/Main_Page\n",
      "/wiki/Wikipedia:Contents\n",
      "/wiki/Portal:Current_events\n",
      "/wiki/Special:Random\n",
      "/wiki/Wikipedia:About\n",
      "//en.wikipedia.org/wiki/Wikipedia:Contact_us\n",
      "https://donate.wikimedia.org/wiki/Special:FundraiserRedirector?utm_source=donate&utm_medium=sidebar&utm_campaign=C13_en.wikipedia.org&uselang=en\n",
      "/wiki/Help:Contents\n",
      "/wiki/Help:Introduction\n",
      "/wiki/Wikipedia:Community_portal\n"
     ]
    }
   ],
   "source": [
    "#q2\n",
    "import urllib.request\n",
    "from bs4 import BeautifulSoup\n",
    "\n",
    "# Replace 'url_here' with the URL of the webpage you want to scrape\n",
    "url = 'https://en.wikipedia.org/wiki/Main_Page'\n",
    "\n",
    "try:\n",
    "    # Send an HTTP GET request to the URL using urllib\n",
    "    with urllib.request.urlopen(url) as response:\n",
    "        # Check if the request was successful (HTTP status code 200)\n",
    "        if response.code == 200:\n",
    "            # Parse the HTML content of the page using BeautifulSoup\n",
    "            soup = BeautifulSoup(response.read(), 'html.parser')\n",
    "\n",
    "            # Find all anchor (a) tags with href attributes\n",
    "            links = soup.find_all('a', href=True)\n",
    "\n",
    "            # Display the href attributes of the hyperlinks\n",
    "            count = 0\n",
    "            for link in links:\n",
    "                if count > 10:\n",
    "                    break\n",
    "                print(link['href'])\n",
    "                count+=1\n",
    "                    \n",
    "        else:\n",
    "            print('Failed to retrieve the web page. Status code:', response.code)\n",
    "except urllib.error.URLError as e:\n",
    "    print('Failed to retrieve the web page:', e)\n"
   ]
  },
  {
   "cell_type": "code",
   "execution_count": 3,
   "id": "36ad64af-ebeb-474f-8c1e-ffd130ff70f3",
   "metadata": {},
   "outputs": [
    {
     "name": "stdout",
     "output_type": "stream",
     "text": [
      "Number of Students: 3\n",
      "\n",
      "Student Information:\n",
      "ID: 235229111, Name: rex, Mark1: 87, Mark2: 57, Mark3: 74\n",
      "ID: 235229112, Name: peter, Mark1: 68, Mark2: 98, Mark3: 55\n",
      "ID: 235229113, Name: anna, Mark1: 85, Mark2: 67, Mark3: 92\n"
     ]
    }
   ],
   "source": [
    "from bs4 import BeautifulSoup\n",
    "\n",
    "# Read the HTML file content\n",
    "with open(\"student_marks.html\", \"r\") as html_file:\n",
    "    html_content = html_file.read()\n",
    "\n",
    "# Parse the HTML content\n",
    "soup = BeautifulSoup(html_content, 'html.parser')\n",
    "\n",
    "# Extract the number of students\n",
    "num_students = int(soup.find('p').text.split(': ')[1])\n",
    "\n",
    "# Extract student information (IDs, Names, and Marks)\n",
    "student_data = []\n",
    "table_rows = soup.find_all('tr')[1:]  # Skip the header row\n",
    "\n",
    "for row in table_rows:\n",
    "    columns = row.find_all('td')\n",
    "    student_id = columns[0].text\n",
    "    student_name = columns[1].text\n",
    "    mark1 = int(columns[2].text)\n",
    "    mark2 = int(columns[3].text)\n",
    "    mark3 = int(columns[4].text)\n",
    "    student_data.append((student_id, student_name, mark1, mark2, mark3))\n",
    "\n",
    "# Print the number of students\n",
    "print(\"Number of Students:\", num_students)\n",
    "\n",
    "# Print student information\n",
    "print(\"\\nStudent Information:\")\n",
    "for student in student_data:\n",
    "    student_id, student_name, mark1, mark2, mark3 = student\n",
    "    print(f\"ID: {student_id}, Name: {student_name}, Mark1: {mark1}, Mark2: {mark2}, Mark3: {mark3}\")\n"
   ]
  },
  {
   "cell_type": "code",
   "execution_count": 2,
   "id": "d28db041-dceb-4738-b95f-64935d47b955",
   "metadata": {},
   "outputs": [
    {
     "name": "stdout",
     "output_type": "stream",
     "text": [
      "Number of students: 2\n",
      "ID: ds01\n",
      "Name: Kumar\n",
      "semester1 Marks: 91, 93\n",
      "\n",
      "ID: ds02\n",
      "Name: Rex\n",
      "semester1 Marks: 95, 97\n",
      "\n"
     ]
    }
   ],
   "source": [
    "import json\n",
    "\n",
    "# Define the student data as a list of dictionaries\n",
    "students_data = [\n",
    "    {\n",
    "        \"ID\": \"ds01\",\n",
    "        \"Name\": \"Kumar\",\n",
    "        \"Semester\": {\n",
    "            \"semester1\": [91, 93]\n",
    "        }\n",
    "    },\n",
    "    {\n",
    "        \"ID\": \"ds02\",\n",
    "        \"Name\": \"Rex\",\n",
    "        \"Semester\": {\n",
    "            \"semester1\": [95, 97]\n",
    "        }\n",
    "    }\n",
    "]\n",
    "\n",
    "# Write the student data to a JSON file\n",
    "with open('student_marks.json', 'w') as json_file:\n",
    "    json.dump(students_data, json_file, indent=4)\n",
    "\n",
    "# Print the number of students and their information\n",
    "print(f\"Number of students: {len(students_data)}\")\n",
    "for student in students_data:\n",
    "    print(f\"ID: {student['ID']}\")\n",
    "    print(f\"Name: {student['Name']}\")\n",
    "    for semester, marks in student['Semester'].items():\n",
    "        print(f\"{semester} Marks: {marks[0]}, {marks[1]}\")\n",
    "    print()\n"
   ]
  },
  {
   "cell_type": "code",
   "execution_count": 35,
   "id": "8629ebac-9288-4889-af7f-933eed46a332",
   "metadata": {},
   "outputs": [
    {
     "name": "stdout",
     "output_type": "stream",
     "text": [
      "Temperature is 33°C\n",
      "Time:  Sunday 6:46 pm\n",
      "Sky Description:  Partly Cloudy\n",
      "Day 1: Sep 24, 92 / 78 °F · Isolated tstorms. Overcast. 103 °F · 7 mph ; Sep 25, 96 / 78 °F · Isolated tstorms. Overcast. 105 °F · 7 mph ; Sep 26, 96 / 78 °F · Scattered ...\n",
      "Day 2: Sep 24, 92 / 78 °F · Isolated tstorms. Overcast. 103 °F · 7 mph ; Sep 25, 96 / 78 °F · Isolated tstorms. Overcast. 105 °F · 7 mph ; Sep 26, 96 / 78 °F · Scattered ...\n",
      "Day 3: 2 Week Extended Forecast in Trichy, Tamil Nadu, India ; Sep 24, 94 / 78 °F · Isolated tstorms. Mostly cloudy. 105 °F · 9 mph ; Sep 25, 95 / 78 °F · Isolated tstorms.\n",
      "Day 4: 2 Week Extended Forecast in Trichy, Tamil Nadu, India ; Sep 24, 94 / 78 °F · Isolated tstorms. Mostly cloudy. 105 °F · 9 mph ; Sep 25, 95 / 78 °F · Isolated tstorms.\n",
      "Day 5: Current Weather. 10:35 PM. 84°F · RealFeel® 92° ; TONIGHT'S WEATHER FORECAST. 9/23. 78°Lo. RealFeel® 85° ; TOMORROW'S WEATHER FORECAST. 9/24. 97°/ 78°. RealFeel® ...Hourly · Daily · Current Weather · Radar\n",
      "Day 6: Current Weather. 10:35 PM. 84°F · RealFeel® 92° ; TONIGHT'S WEATHER FORECAST. 9/23. 78°Lo. RealFeel® 85° ; TOMORROW'S WEATHER FORECAST. 9/24. 97°/ 78°. RealFeel® ...\n",
      "Day 7: Hourly · Daily · Current Weather · Radar\n"
     ]
    }
   ],
   "source": [
    "import requests\n",
    "from bs4 import BeautifulSoup\n",
    "\n",
    "city = \"tiruchirapalli\"\n",
    "url = f\"https://www.google.com/search?q=7+day+weather+forecast+{city}\"\n",
    "html = requests.get(url).content\n",
    "soup = BeautifulSoup(html, 'html.parser')\n",
    "temp = soup.find('div', attrs={'class': 'BNeawe iBp4i AP7Wnd'}).text\n",
    "weather_info = soup.find('div', attrs={'class': 'BNeawe tAd8D AP7Wnd'}).text.split('\\n')\n",
    "time = weather_info[0]\n",
    "sky = weather_info[1]\n",
    "forecast_divs = soup.findAll('div', attrs={'class': 'BNeawe s3v9rd AP7Wnd'})\n",
    "print(\"Temperature is\", temp)\n",
    "print(\"Time: \", time)\n",
    "print(\"Sky Description: \", sky)\n",
    "for i, forecast_div in enumerate(forecast_divs[:7]):\n",
    "    forecast_data = forecast_div.text\n",
    "    print(f\"Day {i + 1}: {forecast_data}\")\n"
   ]
  },
  {
   "cell_type": "code",
   "execution_count": 3,
   "id": "675dbddd-c060-42e3-b0d0-7f432cc5f996",
   "metadata": {},
   "outputs": [
    {
     "name": "stdout",
     "output_type": "stream",
     "text": [
      "[*********************100%***********************]  1 of 1 completed\n"
     ]
    },
    {
     "data": {
      "image/png": "[encoded data removed]",
      "text/plain": [
       "<Figure size 640x480 with 1 Axes>"
      ]
     },
     "metadata": {},
     "output_type": "display_data"
    }
   ],
   "source": [
    "import yfinance as yf\n",
    "import matplotlib.pyplot as plt\n",
    "import pandas as pd\n",
    "\n",
    "# Get the stock data\n",
    "ticker = \"INFY\"\n",
    "start_date = \"2023-01-01\"\n",
    "end_date = \"2023-09-24\"\n",
    "df = yf.download(ticker, start_date, end_date)\n",
    "\n",
    "# Plot the closing prices\n",
    "plt.plot(df[\"Adj Close\"])\n",
    "\n",
    "# Set the title and labels\n",
    "plt.title(\"Closing Prices for {} ({}-{})\".format(ticker, start_date, end_date))\n",
    "plt.xlabel(\"Date\")\n",
    "plt.ylabel(\"Closing Price\")\n",
    "\n",
    "# Show the plot\n",
    "plt.show()\n"
   ]
  }
 ],
 "metadata": {
  "kernelspec": {
   "display_name": "Python 3 (ipykernel)",
   "language": "python",
   "name": "python3"
  },
  "language_info": {
   "codemirror_mode": {
    "name": "ipython",
    "version": 3
   },
   "file_extension": ".py",
   "mimetype": "text/x-python",
   "name": "python",
   "nbconvert_exporter": "python",
   "pygments_lexer": "ipython3",
   "version": "3.9.15"
  }
 },
 "nbformat": 4,
 "nbformat_minor": 5
}
