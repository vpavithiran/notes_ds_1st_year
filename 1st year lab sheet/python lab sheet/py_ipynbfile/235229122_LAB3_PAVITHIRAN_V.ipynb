{
 "cells": [
  {
   "cell_type": "markdown",
   "metadata": {},
   "source": [
    "<h1>NAME: PAVITHIRAN. V<BR>ROLL NO:235229122</h1>"
   ]
  },
  {
   "cell_type": "markdown",
   "metadata": {},
   "source": [
    "<h3>Programming and Data Structures with Python Lab3. \n",
    "<br>List Processing in Python</h3>"
   ]
  },
  {
   "cell_type": "markdown",
   "metadata": {},
   "source": [
    "<h2>Question 1</h2> <h3>Write a function find_average(student) that takes student tuple as input and\n",
    "print student rollno, name, marks and average marks as output.</h3>\n",
    "<h4>Test Cases:\n",
    "<br>1. stud1 = (1, “rex”, 60, 85, 70)\n",
    "<br>find_average(stud1)\n",
    "<br><br>Modify the above function find_average(student) so that it processes a tuple of tuples.\n",
    "<br>2. stud2 = (2, “rex”, (80, 75, 90))\n",
    "<br>find_average(stud2)</h4>"
   ]
  },
  {
   "cell_type": "code",
   "execution_count": 8,
   "metadata": {},
   "outputs": [],
   "source": [
    "def find_average(stud):\n",
    "    if len(stud) == 5:\n",
    "        mark1 = stud[2]\n",
    "        mark2 = stud[3]\n",
    "        mark3 = stud[4]\n",
    "    else:\n",
    "        mark1 = stud[2][0]\n",
    "        mark2 = stud[2][1]\n",
    "        mark3 = stud[2][2]\n",
    "    print(\"Roll no: {}\".format(stud[0]))\n",
    "    print(\"Name : {}\".format(stud[1]))\n",
    "    print(\"marks 1: {}\".format(mark1))\n",
    "    print(\"marks 2: {}\".format(mark2))\n",
    "    print(\"marks 3: {}\".format(mark3))\n",
    "    print(\"Average marks: {}\".format((mark1 + mark2 + mark3)/3))"
   ]
  },
  {
   "cell_type": "code",
   "execution_count": 9,
   "metadata": {},
   "outputs": [
    {
     "name": "stdout",
     "output_type": "stream",
     "text": [
      "Roll no: 1\n",
      "Name : rex\n",
      "marks 1: 60\n",
      "marks 2: 85\n",
      "marks 3: 70\n",
      "Average marks: 71.66666666666667\n"
     ]
    }
   ],
   "source": [
    "stud1 = (1, \"rex\", 60, 85, 70)\n",
    "find_average(stud1)"
   ]
  },
  {
   "cell_type": "code",
   "execution_count": 10,
   "metadata": {},
   "outputs": [
    {
     "name": "stdout",
     "output_type": "stream",
     "text": [
      "Roll no: 2\n",
      "Name : rex\n",
      "marks 1: 80\n",
      "marks 2: 75\n",
      "marks 3: 90\n",
      "Average marks: 81.66666666666667\n"
     ]
    }
   ],
   "source": [
    "stud2 = (2, \"rex\", (80, 75, 90))\n",
    "find_average(stud2)"
   ]
  },
  {
   "cell_type": "markdown",
   "metadata": {},
   "source": [
    "----------------------------------------------------------------------------------------------------------------------------------------------------------------"
   ]
  },
  {
   "cell_type": "markdown",
   "metadata": {},
   "source": [
    "<h2>Question 2</h2> <h3>Write a weight management program that prompts the user to enter in 7 days\n",
    "of their body weight values as float numbers. Store them in list.\n",
    "Then print first day weight, last day weight, 4th day weight, highest weight, lowest weight\n",
    "and average weight.\n",
    "<br>Finally, print if average weight < lowest weight, then print “Your weight management is\n",
    "excellent”. Otherwise print “Your weight management is not good. Please take care of your\n",
    "diet”.</h3>"
   ]
  },
  {
   "cell_type": "code",
   "execution_count": 11,
   "metadata": {},
   "outputs": [
    {
     "name": "stdout",
     "output_type": "stream",
     "text": [
      "Day 1:Enter your weight :90\n",
      "Day 2:Enter your weight :89\n",
      "Day 3:Enter your weight :89\n",
      "Day 4:Enter your weight :87\n",
      "Day 5:Enter your weight :88\n",
      "Day 6:Enter your weight :87\n",
      "Day 7:Enter your weight :88\n",
      "First day weight: 90.0\n",
      "Last day weight: 88.0\n",
      "4th day weight: 87.0\n",
      "Highest weight: 90.0\n",
      "Lowest weight: 87.0\n",
      "Your weight management is not good.Please take care of you diet\n"
     ]
    }
   ],
   "source": [
    "w = list()\n",
    "for i in range(1, 8):\n",
    "    val = float(input(\"Day {}:Enter your weight :\".format(i)))\n",
    "    w.append(val)\n",
    "print(\"First day weight: {}\".format(w[0]))\n",
    "print(\"Last day weight: {}\".format(w[-1]))\n",
    "print(\"4th day weight: {}\".format(w[3]))\n",
    "print(\"Highest weight: {}\".format(max(w)))\n",
    "print(\"Lowest weight: {}\".format(min(w)))\n",
    "avg_w = sum(w)/7\n",
    "if avg_w < min(w):\n",
    "    print(\"Your weight management is excellent\")\n",
    "else:\n",
    "    print(\"Your weight management is not good.Please take care of you diet\")"
   ]
  },
  {
   "cell_type": "markdown",
   "metadata": {},
   "source": [
    "----------------------------------------------------------------------------------------------------------------------------------------------------------------"
   ]
  },
  {
   "cell_type": "markdown",
   "metadata": {},
   "source": [
    "<h2>Question 3</h2> <h3>Write a function lastN(lst, n) that takes a list of integers and n and returns n\n",
    "largest numbers.</h3>\n",
    "<h4>How many numbers you want to enter?: 6\n",
    "<br>Enter a number: 12\n",
    "<br>Enter a number: 32\n",
    "<br>Enter a number: 10\n",
    "<br>Enter a number: 9\n",
    "<br>Enter a number: 52\n",
    "<br>Enter a number: 45\n",
    "<br>How many largest numbers you want to find?: 3\n",
    "<br>Largest numbers are: 52, 45, 32</h4>"
   ]
  },
  {
   "cell_type": "code",
   "execution_count": 14,
   "metadata": {},
   "outputs": [
    {
     "name": "stdout",
     "output_type": "stream",
     "text": [
      "How many numbers you want to enter?:6\n",
      "Enter the number: 12\n",
      "Enter the number: 32\n",
      "Enter the number: 10\n",
      "Enter the number: 9\n",
      "Enter the number: 52\n",
      "Enter the number: 45\n",
      "How many largest numbers you want to find?3\n",
      "Largest numbers are : 52, 45, 32\n"
     ]
    }
   ],
   "source": [
    "def lastN(n):\n",
    "    list1 = list()\n",
    "    for i in range(1, n+1):\n",
    "        val = int(input(\"Enter the number: \"))\n",
    "        list1.append(val)\n",
    "    val2 = int(input(\"How many largest numbers you want to find?\"))\n",
    "    print(\"Largest numbers are :\", end=\" \")\n",
    "    for y in range(val2):\n",
    "        temp = max(list1)\n",
    "        if y == val2-1:\n",
    "            print(temp)\n",
    "        else:\n",
    "            print(temp, end=\", \")\n",
    "        list1.remove(temp)\n",
    "\n",
    "n = int(input(\"How many numbers you want to enter?:\"))\n",
    "lastN = lastN(n)"
   ]
  },
  {
   "cell_type": "markdown",
   "metadata": {},
   "source": [
    "-----------------------------------------------------------------------------------------------------------------------------------------------------------------"
   ]
  },
  {
   "cell_type": "markdown",
   "metadata": {},
   "source": [
    "<h2>Question 4</h2> <h3>Given a list of strings, return a list with the strings in sorted order, except group\n",
    "all the strings that begin with 'x' first. Hint: this can be done by making 2 lists and sorting\n",
    "each of them before combining them.</h3>\n",
    "<h4>Test Cases:\n",
    "<br>1. Input: ['mix', 'xyz', 'apple', 'xanadu', 'aardvark']\n",
    "<br>Output: ['xanadu', 'xyz', 'aardvark', 'apple', 'mix']\n",
    "<br>2. Input: [‘ccc’,’bbb’,’aaa’,’xcc’,’xaa’]\n",
    "<br>Output: [‘xaa’,’xcc’,’aaa’,’bbb’,’ccc’]\n",
    "<br>3. Input: [‘bbb’,’ccc’,’axx’,’xzz’,’xaa’]\n",
    "<br>Output: [‘xaa’,’xzz’,’axx’,’bbb’,’ccc’]</h4>"
   ]
  },
  {
   "cell_type": "code",
   "execution_count": 35,
   "metadata": {},
   "outputs": [],
   "source": [
    "xlist = list()\n",
    "def sorting(s):\n",
    "    for i in s:\n",
    "        if i[0]=='x':\n",
    "            xlist.append(i)\n",
    "            s.remove(i)\n",
    "    print(sorted(xlist)+sorted(s)) \n",
    "    del xlist[:]"
   ]
  },
  {
   "cell_type": "code",
   "execution_count": 36,
   "metadata": {},
   "outputs": [
    {
     "name": "stdout",
     "output_type": "stream",
     "text": [
      "['xanadu', 'xyz', 'aardvark', 'apple', 'min']\n"
     ]
    }
   ],
   "source": [
    "val = ['min', 'xyz', 'apple', 'xanadu', 'aardvark']\n",
    "sorting(val)"
   ]
  },
  {
   "cell_type": "markdown",
   "metadata": {},
   "source": [
    "-----------------------------------------------------------------------------------------------------------------------------------------------------------------"
   ]
  },
  {
   "cell_type": "markdown",
   "metadata": {},
   "source": [
    "<h2>Question 5<h2> <h3>Develop a function sort_last(). Given a list of non-empty tuples, return a list\n",
    "sorted in increasing order by the last element in each tuple. Hint: use a custom key=\n",
    "function to extract the last element form each tuple.</h3>\n",
    "<h4>Test Cases:\n",
    "<br>1. Input: [(1, 7), (1, 3), (3, 4, 5), (2, 2)]\n",
    "<br>Output: [(2, 2), (1, 3), (3, 4, 5), (1, 7)]\n",
    "<br>2. Input: [(1,3),(3,2),(2,1)]\n",
    "<br>Output: [(2,1),(3,2),(1,3)]\n",
    "<br>3. Input: [(2,3),(1,2),(3,1)]\n",
    "<br>Output: [(3,1),(1,2),(2,3)]</h4>"
   ]
  },
  {
   "cell_type": "code",
   "execution_count": 2,
   "metadata": {},
   "outputs": [
    {
     "name": "stdout",
     "output_type": "stream",
     "text": [
      "[(2, 2), (1, 3), (3, 4, 5), (1, 7)]\n",
      "[(2, 1), (3, 2), (1, 3)]\n",
      "[(3, 1), (1, 2), (2, 3)]\n"
     ]
    }
   ],
   "source": [
    "def sort_last(tupled_list):\n",
    "    return sorted(tupled_list, key=lambda x: x[-1])\n",
    "\n",
    "# Test cases\n",
    "print(sort_last([(1, 7), (1, 3), (3, 4, 5), (2, 2)]))\n",
    "print(sort_last([(1, 3), (3, 2), (2, 1)]))\n",
    "print(sort_last([(2, 3), (1, 2), (3, 1)]))\n"
   ]
  },
  {
   "cell_type": "markdown",
   "metadata": {},
   "source": [
    "------------------------------------------------------------------------------------------------------------------------------------------------------------------"
   ]
  },
  {
   "cell_type": "markdown",
   "metadata": {},
   "source": [
    "<h2>Question6<h2> \n",
    "<h3>Other String Functions\n",
    "<br>a) Define a function first() that receives a tuple and returns its first element\n",
    "<br>b) Define a function sort_first() that receives a list of tuples and returns the sorted\n",
    "<br>c) Print lists in sorted order\n",
    "<br>d) Define a function middle() that receives a a tuple and returns its middle element\n",
    "<br>e) Define a functino sort_middle() that receives a list of tuples and returns it sorted\n",
    "using the key middle\n",
    "<br>f) Print the list [(1,2,3), (2,1,4), (10,7,15), (20,4,50), (30, 6, 40)] in sorted order. Output\n",
    "should be: [(2, 1, 4), (1, 2, 3), (20, 4, 50), (30, 6, 40), (10, 7, 15)]</h3>"
   ]
  },
  {
   "cell_type": "code",
   "execution_count": 9,
   "metadata": {},
   "outputs": [],
   "source": [
    "# function to return the first element\n",
    "def first(tuple1):\n",
    "    return tuple1[0]\n",
    "\n",
    "# function to return the sorted list of tuple based on \n",
    " #first element in tuple\n",
    "def sort_first(lis_tup):\n",
    "    return sorted(lis_tup, key = first)\n",
    "\n",
    "# function to return the list in a sorted order\n",
    "def sorted_order(lis):\n",
    "    sorted_list = sort_first(lis)\n",
    "    return sorted_list \n",
    "\n",
    "# function to return the middle value from the tuple\n",
    "def middle(tuple1):\n",
    "    return tuple1[len(tuple1)//2]\n",
    "\n",
    "# function to \n",
    "def sort_middle(lis_tup):\n",
    "    return sorted(lis_tup, key = middle)"
   ]
  },
  {
   "cell_type": "code",
   "execution_count": 10,
   "metadata": {},
   "outputs": [
    {
     "data": {
      "text/plain": [
       "[(2, 1, 4), (1, 2, 3), (20, 4, 50), (30, 6, 40), (10, 7, 15)]"
      ]
     },
     "execution_count": 10,
     "metadata": {},
     "output_type": "execute_result"
    }
   ],
   "source": [
    "# Test case\n",
    "tupled_list = [(1,2,3), (2,1,4), (10,7,15), (20,4,50), (30, 6, 40)]    \n",
    "sort_middle(tupled_list)"
   ]
  },
  {
   "cell_type": "markdown",
   "metadata": {},
   "source": [
    "-------------------------------------------------------------------------"
   ]
  },
  {
   "cell_type": "markdown",
   "metadata": {},
   "source": [
    "<h2>Question 7<h2> <h3>Develop a function remove_adjacent(). Given a list of numbers, return a list\n",
    "where all adjacent same elements have been reduced to a single element. You may create a\n",
    "new list or modify the passed in list.</h3>\n",
    "<h4>Test Cases:\n",
    "<br>1. Input: [1, 2, 2, 3] and output: [1, 2, 3]\n",
    "<br>2. Input: [2, 2, 3, 3, 3] and output: [2, 3]\n",
    "<br>3. Input: [ ]. Output: [ ].\n",
    "<br>4. Input: [2,5,5,6,6,7]\n",
    "<br>Output: [2,5,6,7]\n",
    "<br>5. Input: [6,7,7,8,9,9]\n",
    "<br>Output: [6,7,8,9]</h4>"
   ]
  },
  {
   "cell_type": "code",
   "execution_count": 19,
   "metadata": {},
   "outputs": [],
   "source": [
    "def remove_adjacent(lis):\n",
    "    return sorted(list(set(lis)))"
   ]
  },
  {
   "cell_type": "code",
   "execution_count": 20,
   "metadata": {},
   "outputs": [
    {
     "name": "stdout",
     "output_type": "stream",
     "text": [
      "[1, 2, 3]\n",
      "[2, 3]\n",
      "[]\n",
      "[2, 5, 6, 7]\n",
      "[6, 7, 8, 9]\n"
     ]
    }
   ],
   "source": [
    "print(remove_adjacent([1, 2, 2, 3]))\n",
    "print(remove_adjacent([2, 2, 3, 3, 3]))\n",
    "print(remove_adjacent([]))\n",
    "print(remove_adjacent([2,5,5,6,6,7]))\n",
    "print(remove_adjacent([6,7,7,8,9,9]))"
   ]
  },
  {
   "cell_type": "markdown",
   "metadata": {},
   "source": [
    "----------------------------------------------------------------------"
   ]
  },
  {
   "cell_type": "markdown",
   "metadata": {},
   "source": [
    "<h2>Question 8</h2> <h3>Write a function verbing(). Given a string, if its length is at least 3, add 'ing' to its\n",
    "end. Unless it already ends in 'ing', in which case add 'ly' instead. If the string length is less\n",
    "than 3, leave it unchanged. Return the resulting string. So ‘hail’ yields: hailing; ‘swimming’\n",
    "yields: swimmingly; ‘do’ yields: do.</h3>"
   ]
  },
  {
   "cell_type": "code",
   "execution_count": 39,
   "metadata": {},
   "outputs": [],
   "source": [
    "def verbing(word):\n",
    "    if len(word) <= 3:\n",
    "        return word\n",
    "    elif word[-1:-4:-1] == \"gni\":\n",
    "        word = word + \"ly\"\n",
    "        return word\n",
    "    else:\n",
    "        return word + \"ing\""
   ]
  },
  {
   "cell_type": "code",
   "execution_count": 40,
   "metadata": {},
   "outputs": [
    {
     "name": "stdout",
     "output_type": "stream",
     "text": [
      "swimmingly\n",
      "hailing\n",
      "do\n"
     ]
    }
   ],
   "source": [
    "# test case\n",
    "print(verbing(\"swimming\"))\n",
    "print(verbing(\"hail\"))\n",
    "print(verbing(\"do\"))"
   ]
  },
  {
   "cell_type": "markdown",
   "metadata": {},
   "source": [
    "-----------------------------------------------------------------------"
   ]
  },
  {
   "cell_type": "markdown",
   "metadata": {},
   "source": [
    "<h2>Question 9</h2> <h3>Develop a function not_bad(). Given a string, find the first appearance of the\n",
    "substring 'not' and 'bad'. If the 'bad' follows the 'not', replace the whole 'not'...'bad'\n",
    "substring with 'good'.\n",
    "<br>Return the resulting string. So 'This dinner is not that bad!' yields: This dinner is good!</h3>"
   ]
  },
  {
   "cell_type": "code",
   "execution_count": 43,
   "metadata": {},
   "outputs": [
    {
     "name": "stdout",
     "output_type": "stream",
     "text": [
      "This dinner is good!\n"
     ]
    }
   ],
   "source": [
    "def not_bad(s):\n",
    "    not_index = s.find('not')\n",
    "    bad_index = s.find('bad')\n",
    "\n",
    "    if not_index != -1 and bad_index != -1 and not_index < bad_index:\n",
    "        return s.replace(s[not_index:bad_index + 3], 'good')\n",
    "    return s\n",
    "\n",
    "# Test case\n",
    "print(not_bad('This dinner is not that bad!'))  "
   ]
  },
  {
   "cell_type": "markdown",
   "metadata": {},
   "source": [
    "---------------------------------------------------------------------------"
   ]
  }
 ],
 "metadata": {
  "kernelspec": {
   "display_name": "Python 3 (ipykernel)",
   "language": "python",
   "name": "python3"
  },
  "language_info": {
   "codemirror_mode": {
    "name": "ipython",
    "version": 3
   },
   "file_extension": ".py",
   "mimetype": "text/x-python",
   "name": "python",
   "nbconvert_exporter": "python",
   "pygments_lexer": "ipython3",
   "version": "3.9.15"
  }
 },
 "nbformat": 4,
 "nbformat_minor": 4
}
