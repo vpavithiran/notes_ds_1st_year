{
 "cells": [
  {
   "cell_type": "markdown",
   "id": "aee87761-1c30-43c1-8f42-23128602e74b",
   "metadata": {
    "tags": []
   },
   "source": [
    "<center><h2>Programming and Data Structures with Python Lab9.<br> Implementing Music play list with files and linked_list</h2>"
   ]
  },
  {
   "cell_type": "markdown",
   "id": "80f8aa89-71ad-4782-90c2-678bffe7e5ac",
   "metadata": {},
   "source": [
    "<h2>NAME: PAVITHIRAN.V\n",
    "<br>ROLL.NO:235229122</h2>"
   ]
  },
  {
   "cell_type": "code",
   "execution_count": 6,
   "id": "de8f7c05-0a7b-4972-b8b9-2a6ab9613a0f",
   "metadata": {},
   "outputs": [
    {
     "name": "stdin",
     "output_type": "stream",
     "text": [
      "Enter the song title (or 'done' to finish):  stay\n",
      "Enter the artist:  Justin Bieber\n",
      "Enter the song title (or 'done' to finish):  We Don't Talk Anymore\n",
      "Enter the artist:  charlie puth\n",
      "Enter the song title (or 'done' to finish):  Love Story\n",
      "Enter the artist:  Taylor Swift\n",
      "Enter the song title (or 'done' to finish):  done\n"
     ]
    },
    {
     "name": "stdout",
     "output_type": "stream",
     "text": [
      "Current Playlist:\n",
      "stay - Justin Bieber\n",
      "We Don't Talk Anymore - charlie puth\n",
      "Love Story - Taylor Swift\n"
     ]
    },
    {
     "name": "stdin",
     "output_type": "stream",
     "text": [
      "Enter a file name to save the playlist:  playlist\n"
     ]
    },
    {
     "name": "stdout",
     "output_type": "stream",
     "text": [
      "New Playlist:\n",
      "stay - Justin Bieber\n",
      "We Don't Talk Anymore - charlie puth\n",
      "Love Story - Taylor Swift\n"
     ]
    }
   ],
   "source": [
    "class Song:\n",
    "    def __init__(self, title, artist):\n",
    "        self.title = title\n",
    "        self.artist = artist\n",
    "        self.next_song = None\n",
    "        \n",
    "    def __str__(self):\n",
    "        return f\"{self.title} - {self.artist}\"\n",
    "\n",
    "class Playlist:\n",
    "    def __init__(self):\n",
    "        self.head = None\n",
    "        \n",
    "    def add_song(self, title, artist):\n",
    "        new_song = Song(title, artist)\n",
    "        if not self.head:\n",
    "            self.head = new_song\n",
    "        else:\n",
    "            current_song = self.head\n",
    "            while current_song.next_song:\n",
    "                current_song = current_song.next_song\n",
    "            current_song.next_song = new_song\n",
    "            \n",
    "    def display_playlist(self):\n",
    "        if not self.head:\n",
    "            print(\"Playlist is empty.\")\n",
    "        else:\n",
    "            current_song = self.head\n",
    "            while current_song:\n",
    "                print(current_song)\n",
    "                current_song = current_song.next_song\n",
    "                \n",
    "    def save_playlist(self, file_name):\n",
    "        if not self.head:\n",
    "            print(\"Playlist is empty. Nothing to save.\")\n",
    "            return\n",
    "        with open(file_name, \"w\") as file:\n",
    "            current_song = self.head\n",
    "            while current_song:\n",
    "                file.write(f\"{current_song.title}\\n{current_song.artist}\\n\")\n",
    "                current_song = current_song.next_song\n",
    "                \n",
    "    @classmethod\n",
    "    def load_playlist(cls, file_name):\n",
    "        new_playlist = cls()\n",
    "        with open(file_name, \"r\") as file:\n",
    "            lines = file.readlines()\n",
    "            for i in range(0, len(lines), 2):\n",
    "                title = lines[i].strip()\n",
    "                artist = lines[i + 1].strip()\n",
    "                new_playlist.add_song(title, artist)\n",
    "        return new_playlist\n",
    "\n",
    "# Step 7\n",
    "playlist = Playlist()\n",
    "\n",
    "# Step 8\n",
    "while True:\n",
    "    title = input(\"Enter the song title (or 'done' to finish): \")\n",
    "    if title.lower() == \"done\":\n",
    "        break\n",
    "    artist = input(\"Enter the artist: \")\n",
    "    playlist.add_song(title, artist)\n",
    "\n",
    "# Step 9\n",
    "print(\"Current Playlist:\")\n",
    "playlist.display_playlist()\n",
    "\n",
    "# Step 10\n",
    "file_name = input(\"Enter a file name to save the playlist: \")\n",
    "playlist.save_playlist(f\"playlist.txt\")\n",
    "\n",
    "# Step 11\n",
    "new_playlist = Playlist.load_playlist(\"playlist.txt\")\n",
    "\n",
    "# Step 12\n",
    "print(\"New Playlist:\")\n",
    "new_playlist.display_playlist()\n"
   ]
  }
 ],
 "metadata": {
  "kernelspec": {
   "display_name": "Python 3 (ipykernel)",
   "language": "python",
   "name": "python3"
  },
  "language_info": {
   "codemirror_mode": {
    "name": "ipython",
    "version": 3
   },
   "file_extension": ".py",
   "mimetype": "text/x-python",
   "name": "python",
   "nbconvert_exporter": "python",
   "pygments_lexer": "ipython3",
   "version": "3.9.15"
  }
 },
 "nbformat": 4,
 "nbformat_minor": 5
}
