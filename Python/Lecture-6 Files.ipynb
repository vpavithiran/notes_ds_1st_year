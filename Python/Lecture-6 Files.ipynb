{
 "cells": [
  {
   "cell_type": "markdown",
   "metadata": {},
   "source": [
    "# Lecture-6 Files"
   ]
  },
  {
   "cell_type": "markdown",
   "metadata": {},
   "source": [
    "### Writing to a file"
   ]
  },
  {
   "cell_type": "code",
   "execution_count": 1,
   "metadata": {},
   "outputs": [],
   "source": [
    "with open(\"test.txt\", \"w\") as myfile:\n",
    "    myfile.write(\"My first file written from Python\\n\")\n",
    "    myfile.write(\"Hello, world!\\n\")"
   ]
  },
  {
   "cell_type": "code",
   "execution_count": null,
   "metadata": {},
   "outputs": [],
   "source": [
    "# Read few lines (say N) of text using input() and write them to file"
   ]
  },
  {
   "cell_type": "markdown",
   "metadata": {},
   "source": [
    "### Read the whole file"
   ]
  },
  {
   "cell_type": "code",
   "execution_count": 2,
   "metadata": {},
   "outputs": [
    {
     "name": "stdout",
     "output_type": "stream",
     "text": [
      "My first file written from Python\n",
      "Hello, world!\n",
      "\n"
     ]
    }
   ],
   "source": [
    "with open(\"test.txt\") as f:\n",
    "    content = f.read()\n",
    "print(content)"
   ]
  },
  {
   "cell_type": "markdown",
   "metadata": {},
   "source": [
    "### Walk Through: Develop a function that displays a file"
   ]
  },
  {
   "cell_type": "code",
   "execution_count": 3,
   "metadata": {},
   "outputs": [
    {
     "name": "stdout",
     "output_type": "stream",
     "text": [
      "My first file written from Python\n",
      "Hello, world!\n",
      "\n"
     ]
    }
   ],
   "source": [
    "def show(infile):\n",
    "    with open(infile) as f:\n",
    "        content = f.read()\n",
    "    print(content)\n",
    "\n",
    "# call it\n",
    "show('test.txt')"
   ]
  },
  {
   "cell_type": "markdown",
   "metadata": {},
   "source": [
    "### Read a file line by line"
   ]
  },
  {
   "cell_type": "code",
   "execution_count": 4,
   "metadata": {},
   "outputs": [
    {
     "name": "stdout",
     "output_type": "stream",
     "text": [
      "My first file written from Python\n",
      "Hello, world!\n"
     ]
    }
   ],
   "source": [
    "with open(\"test.txt\", \"r\") as my_new_handle:\n",
    "    for line in my_new_handle:\n",
    "        print(line, end=\"\")"
   ]
  },
  {
   "cell_type": "markdown",
   "metadata": {},
   "source": [
    "### Walk Through: Can you count the number of lines in a file?"
   ]
  },
  {
   "cell_type": "code",
   "execution_count": 5,
   "metadata": {},
   "outputs": [
    {
     "name": "stdout",
     "output_type": "stream",
     "text": [
      "My first file written from Python\n",
      "Hello, world!\n",
      "This file contains  2  lines\n"
     ]
    }
   ],
   "source": [
    "count = 0\n",
    "\n",
    "with open(\"test.txt\", \"r\") as my_new_handle:\n",
    "    for line in my_new_handle:\n",
    "        count += 1\n",
    "        print(line, end=\"\")\n",
    "\n",
    "print('This file contains ', count, ' lines')"
   ]
  },
  {
   "cell_type": "markdown",
   "metadata": {},
   "source": [
    "### Convert each line to uppercase"
   ]
  },
  {
   "cell_type": "code",
   "execution_count": 6,
   "metadata": {},
   "outputs": [
    {
     "name": "stdout",
     "output_type": "stream",
     "text": [
      "MY FIRST FILE WRITTEN FROM PYTHON\n",
      "HELLO, WORLD!\n"
     ]
    }
   ],
   "source": [
    "with open(\"test.txt\", \"r\") as my_new_handle:\n",
    "    for line in my_new_handle:\n",
    "        line1 = line.upper()\n",
    "        print(line1, end=\"\")\n",
    "\n",
    "# NOTE: Remember we did not change the original file"
   ]
  },
  {
   "cell_type": "markdown",
   "metadata": {},
   "source": [
    "### Read all lines of a file and convert to uppercase"
   ]
  },
  {
   "cell_type": "code",
   "execution_count": 7,
   "metadata": {},
   "outputs": [
    {
     "name": "stdout",
     "output_type": "stream",
     "text": [
      "MY FIRST FILE WRITTEN FROM PYTHON\n",
      "HELLO, WORLD!\n",
      "\n"
     ]
    }
   ],
   "source": [
    "with open(\"test.txt\", \"r\") as input_file:\n",
    "    all_lines = input_file.readlines()\n",
    "\n",
    "# sort all lines\n",
    "all_lines = [line.upper() for line in all_lines]\n",
    "\n",
    "# write them back to file\n",
    "with open(\"sortedtest.txt\", \"w\") as output_file:\n",
    "    for line in all_lines:\n",
    "        output_file.write(line)\n",
    "        \n",
    "#close it\n",
    "output_file.close()\n",
    "\n",
    "# Now show it\n",
    "show(\"sortedtest.txt\")"
   ]
  },
  {
   "cell_type": "markdown",
   "metadata": {},
   "source": [
    "### Appending additional text to a file"
   ]
  },
  {
   "cell_type": "code",
   "execution_count": 8,
   "metadata": {},
   "outputs": [
    {
     "name": "stdout",
     "output_type": "stream",
     "text": [
      "MY FIRST FILE WRITTEN FROM PYTHON\n",
      "HELLO, WORLD!\n",
      "This is the appended line to an existing file\n",
      "\n"
     ]
    }
   ],
   "source": [
    "with open(\"sortedtest.txt\", \"a\") as myfile:\n",
    "    myfile.write(\"This is the appended line to an existing file\\n\")\n",
    "    myfile.close()\n",
    "\n",
    "#now show it\n",
    "show(\"sortedtest.txt\")"
   ]
  },
  {
   "cell_type": "markdown",
   "metadata": {},
   "source": [
    "### Read and write the same file"
   ]
  },
  {
   "cell_type": "code",
   "execution_count": 9,
   "metadata": {},
   "outputs": [
    {
     "name": "stdout",
     "output_type": "stream",
     "text": [
      "MY FIRST FILE WRITTEN FROM PYTHON\n",
      "HELLO, WORLD!\n",
      "This is the appended line to an existing file\n",
      "\n",
      "MY FIRST FILE WRITTEN FROM PYTHON\n",
      "HELLO, WORLD!\n",
      "This is the appended line to an existing file\n",
      "This line is writtern to the same file that is opened for reading\n",
      "\n"
     ]
    }
   ],
   "source": [
    "with open(\"sortedtest.txt\", \"r+\") as myfile:\n",
    "    \n",
    "    contents = myfile.read()\n",
    "    print(contents)\n",
    "    \n",
    "    myfile.write(\"This line is writtern to the same file that is opened for reading\\n\")\n",
    "    myfile.close()\n",
    "\n",
    "#now show it\n",
    "show(\"sortedtest.txt\")"
   ]
  },
  {
   "cell_type": "markdown",
   "metadata": {},
   "source": [
    "### Walk Through"
   ]
  },
  {
   "cell_type": "markdown",
   "metadata": {},
   "source": [
    " #### Develop a function that copies the contents of a source file to target file excluding comment lines that starts with '#'"
   ]
  },
  {
   "cell_type": "code",
   "execution_count": 10,
   "metadata": {},
   "outputs": [
    {
     "name": "stdout",
     "output_type": "stream",
     "text": [
      "#This is a sample file\n",
      "Python is a fantastic language\n",
      "Never forget to learn\n",
      "\n"
     ]
    }
   ],
   "source": [
    "# Let us first write few lines to a file\n",
    "with open(\"sourcefile.txt\", \"w\") as myfile:\n",
    "    myfile.write(\"#This is a sample file\\n\")\n",
    "    myfile.write(\"Python is a fantastic language\\n\")\n",
    "    myfile.write(\"Never forget to learn\\n\")\n",
    "\n",
    "#show it\n",
    "show(\"sourcefile.txt\")"
   ]
  },
  {
   "cell_type": "code",
   "execution_count": 11,
   "metadata": {},
   "outputs": [
    {
     "name": "stdout",
     "output_type": "stream",
     "text": [
      "Python is a fantastic language\n",
      "Never forget to learn\n",
      "\n"
     ]
    }
   ],
   "source": [
    "# function filtercopy to copy a file \n",
    "def filtercopy(oldfile, newfile):\n",
    "    with open(oldfile, \"r\") as infile, open(newfile, \"w\") as outfile:\n",
    "        for line in infile:\n",
    "            if not line.startswith('#'):\n",
    "                outfile.write(line)\n",
    "\n",
    "# call function\n",
    "filtercopy('sourcefile.txt', 'targetfile.txt')\n",
    "\n",
    "# show targetfile\n",
    "with open(\"targetfile.txt\") as f:\n",
    "    content = f.read()\n",
    "print(content)"
   ]
  },
  {
   "cell_type": "markdown",
   "metadata": {},
   "source": [
    "## Read data from web"
   ]
  },
  {
   "cell_type": "code",
   "execution_count": 32,
   "metadata": {},
   "outputs": [],
   "source": [
    "import urllib.request\n",
    "with urllib.request.urlopen('http://www.bhc.edu.in') as response:\n",
    "   htmldata =  response.read()\n",
    "\n",
    "#print(htmldata)"
   ]
  },
  {
   "cell_type": "markdown",
   "metadata": {},
   "source": [
    "## Walk Through: Email Files Processing"
   ]
  },
  {
   "cell_type": "markdown",
   "metadata": {},
   "source": [
    "### Print first 50 lines from the file"
   ]
  },
  {
   "cell_type": "code",
   "execution_count": 14,
   "metadata": {},
   "outputs": [
    {
     "name": "stdout",
     "output_type": "stream",
     "text": [
      "['From stephen.marquard@uct.ac.za Sat Jan  5 09:14:16 2008\\n', 'Return-Path: <postmaster@collab.sakaiproject.org>\\n', 'Received: from murder (mail.umich.edu [141.211.14.90])\\n', '\\t by frankenstein.mail.umich.edu (Cyrus v2.3.8) with LMTPA;\\n', '\\t Sat, 05 Jan 2008 09:14:16 -0500\\n', 'X-Sieve: CMU Sieve 2.3\\n', 'Received: from murder ([unix socket])\\n', '\\t by mail.umich.edu (Cyrus v2.2.12) with LMTPA;\\n', '\\t Sat, 05 Jan 2008 09:14:16 -0500\\n', 'Received: from holes.mr.itd.umich.edu (holes.mr.itd.umich.edu [141.211.14.79])\\n', '\\tby flawless.mail.umich.edu () with ESMTP id m05EEFR1013674;\\n', '\\tSat, 5 Jan 2008 09:14:15 -0500\\n', 'Received: FROM paploo.uhi.ac.uk (app1.prod.collab.uhi.ac.uk [194.35.219.184])\\n', '\\tBY holes.mr.itd.umich.edu ID 477F90B0.2DB2F.12494 ; \\n', '\\t 5 Jan 2008 09:14:10 -0500\\n', 'Received: from paploo.uhi.ac.uk (localhost [127.0.0.1])\\n', '\\tby paploo.uhi.ac.uk (Postfix) with ESMTP id 5F919BC2F2;\\n', '\\tSat,  5 Jan 2008 14:10:05 +0000 (GMT)\\n', 'Message-ID: <200801051412.m05ECIaH010327@nakamura.uits.iupui.edu>\\n', 'Mime-Version: 1.0\\n', 'Content-Transfer-Encoding: 7bit\\n', 'Received: from prod.collab.uhi.ac.uk ([194.35.219.182])\\n', '          by paploo.uhi.ac.uk (JAMES SMTP Server 2.1.3) with SMTP ID 899\\n', '          for <source@collab.sakaiproject.org>;\\n', '          Sat, 5 Jan 2008 14:09:50 +0000 (GMT)\\n', 'Received: from nakamura.uits.iupui.edu (nakamura.uits.iupui.edu [134.68.220.122])\\n', '\\tby shmi.uhi.ac.uk (Postfix) with ESMTP id A215243002\\n', '\\tfor <source@collab.sakaiproject.org>; Sat,  5 Jan 2008 14:13:33 +0000 (GMT)\\n', 'Received: from nakamura.uits.iupui.edu (localhost [127.0.0.1])\\n', '\\tby nakamura.uits.iupui.edu (8.12.11.20060308/8.12.11) with ESMTP id m05ECJVp010329\\n', '\\tfor <source@collab.sakaiproject.org>; Sat, 5 Jan 2008 09:12:19 -0500\\n', 'Received: (from apache@localhost)\\n', '\\tby nakamura.uits.iupui.edu (8.12.11.20060308/8.12.11/Submit) id m05ECIaH010327\\n', '\\tfor source@collab.sakaiproject.org; Sat, 5 Jan 2008 09:12:18 -0500\\n', 'Date: Sat, 5 Jan 2008 09:12:18 -0500\\n', 'X-Authentication-Warning: nakamura.uits.iupui.edu: apache set sender to stephen.marquard@uct.ac.za using -f\\n', 'To: source@collab.sakaiproject.org\\n', 'From: stephen.marquard@uct.ac.za\\n', 'Subject: [sakai] svn commit: r39772 - content/branches/sakai_2-5-x/content-impl/impl/src/java/org/sakaiproject/content/impl\\n', 'X-Content-Type-Outer-Envelope: text/plain; charset=UTF-8\\n', 'X-Content-Type-Message-Body: text/plain; charset=UTF-8\\n', 'Content-Type: text/plain; charset=UTF-8\\n', 'X-DSPAM-Result: Innocent\\n', 'X-DSPAM-Processed: Sat Jan  5 09:14:16 2008\\n', 'X-DSPAM-Confidence: 0.8475\\n', 'X-DSPAM-Probability: 0.0000\\n', '\\n', 'Details: http://source.sakaiproject.org/viewsvn/?view=rev&rev=39772\\n', '\\n', 'Author: stephen.marquard@uct.ac.za\\n']\n"
     ]
    }
   ],
   "source": [
    "with open('mbox-short.txt') as fhand:\n",
    "    data = fhand.readlines()\n",
    "print(data[:50])"
   ]
  },
  {
   "cell_type": "markdown",
   "metadata": {},
   "source": [
    "### Count the number of emails in a file"
   ]
  },
  {
   "cell_type": "code",
   "execution_count": 3,
   "metadata": {},
   "outputs": [
    {
     "name": "stdout",
     "output_type": "stream",
     "text": [
      "From: stephen.marquard@uct.ac.za\n",
      "\n",
      "From: louis@media.berkeley.edu\n",
      "\n",
      "From: zqian@umich.edu\n",
      "\n",
      "From: rjlowe@iupui.edu\n",
      "\n",
      "From: zqian@umich.edu\n",
      "\n",
      "From: rjlowe@iupui.edu\n",
      "\n",
      "From: cwen@iupui.edu\n",
      "\n",
      "From: cwen@iupui.edu\n",
      "\n",
      "From: gsilver@umich.edu\n",
      "\n",
      "From: gsilver@umich.edu\n",
      "\n",
      "From: zqian@umich.edu\n",
      "\n",
      "From: gsilver@umich.edu\n",
      "\n",
      "From: wagnermr@iupui.edu\n",
      "\n",
      "From: zqian@umich.edu\n",
      "\n",
      "From: antranig@caret.cam.ac.uk\n",
      "\n",
      "From: gopal.ramasammycook@gmail.com\n",
      "\n",
      "From: david.horwitz@uct.ac.za\n",
      "\n",
      "From: david.horwitz@uct.ac.za\n",
      "\n",
      "From: david.horwitz@uct.ac.za\n",
      "\n",
      "From: david.horwitz@uct.ac.za\n",
      "\n",
      "From: stephen.marquard@uct.ac.za\n",
      "\n",
      "From: louis@media.berkeley.edu\n",
      "\n",
      "From: louis@media.berkeley.edu\n",
      "\n",
      "From: ray@media.berkeley.edu\n",
      "\n",
      "From: cwen@iupui.edu\n",
      "\n",
      "From: cwen@iupui.edu\n",
      "\n",
      "From: cwen@iupui.edu\n",
      "\n",
      "Number of emails:  27\n"
     ]
    }
   ],
   "source": [
    "#Print all lines that start with \"From:\" \n",
    "fhand = open('mbox-short.txt')\n",
    "count = 0\n",
    "for line in fhand:\n",
    "    if line.startswith('From:'):\n",
    "        print(line)\n",
    "        count += 1\n",
    "print(\"Number of emails: \", count)"
   ]
  },
  {
   "cell_type": "markdown",
   "metadata": {},
   "source": [
    "### Display all email IDs of a particular domain, say 'umich.edu'"
   ]
  },
  {
   "cell_type": "markdown",
   "metadata": {},
   "source": [
    "#### Solution: Use find() method, for example,find('umich.edu') returns the position of the argument if found otherwise -1"
   ]
  },
  {
   "cell_type": "code",
   "execution_count": 4,
   "metadata": {},
   "outputs": [
    {
     "name": "stdout",
     "output_type": "stream",
     "text": [
      "From stephen.marquard@uct.ac.za Sat Jan  5 09:14:16 2008\n",
      "X-Authentication-Warning: nakamura.uits.iupui.edu: apache set sender to stephen.marquard@uct.ac.za using -f\n",
      "From: stephen.marquard@uct.ac.za\n",
      "Author: stephen.marquard@uct.ac.za\n",
      "From david.horwitz@uct.ac.za Fri Jan  4 07:02:32 2008\n",
      "X-Authentication-Warning: nakamura.uits.iupui.edu: apache set sender to david.horwitz@uct.ac.za using -f\n",
      "From: david.horwitz@uct.ac.za\n",
      "Author: david.horwitz@uct.ac.za\n",
      "r39753 | david.horwitz@uct.ac.za | 2008-01-04 13:05:51 +0200 (Fri, 04 Jan 2008) | 1 line\n",
      "From david.horwitz@uct.ac.za Fri Jan  4 06:08:27 2008\n",
      "X-Authentication-Warning: nakamura.uits.iupui.edu: apache set sender to david.horwitz@uct.ac.za using -f\n",
      "From: david.horwitz@uct.ac.za\n",
      "Author: david.horwitz@uct.ac.za\n",
      "From david.horwitz@uct.ac.za Fri Jan  4 04:49:08 2008\n",
      "X-Authentication-Warning: nakamura.uits.iupui.edu: apache set sender to david.horwitz@uct.ac.za using -f\n",
      "From: david.horwitz@uct.ac.za\n",
      "Author: david.horwitz@uct.ac.za\n",
      "From david.horwitz@uct.ac.za Fri Jan  4 04:33:44 2008\n",
      "X-Authentication-Warning: nakamura.uits.iupui.edu: apache set sender to david.horwitz@uct.ac.za using -f\n",
      "From: david.horwitz@uct.ac.za\n",
      "Author: david.horwitz@uct.ac.za\n",
      "From stephen.marquard@uct.ac.za Fri Jan  4 04:07:34 2008\n",
      "X-Authentication-Warning: nakamura.uits.iupui.edu: apache set sender to stephen.marquard@uct.ac.za using -f\n",
      "From: stephen.marquard@uct.ac.za\n",
      "Author: stephen.marquard@uct.ac.za\n"
     ]
    }
   ],
   "source": [
    "fhand = open('mbox-short.txt')\n",
    "for line in fhand:\n",
    "    line = line.rstrip()\n",
    "    if line.find('@uct.ac.za') == -1: \n",
    "        continue\n",
    "    print(line)"
   ]
  },
  {
   "cell_type": "markdown",
   "metadata": {},
   "source": [
    "### Exercises"
   ]
  },
  {
   "cell_type": "markdown",
   "metadata": {},
   "source": [
    "#### Basic exercises"
   ]
  },
  {
   "cell_type": "markdown",
   "metadata": {},
   "source": [
    "Prompt the user for a username and a password.Store the username and password into a file named “security.txt”.Store each value on its own line. <br>\n",
    "\n",
    "Write a program that opens your “security.txt” file and reads in the username and password store in the file. Store these values into a series of variables. Prompt the user for a username and password. If they match the values stored in the file, allow them to continue.  Otherwise present an error message."
   ]
  },
  {
   "cell_type": "markdown",
   "metadata": {},
   "source": [
    "#### Writing and reading numeric data"
   ]
  },
  {
   "cell_type": "markdown",
   "metadata": {},
   "source": [
    "Write() only writes strings, not numeric data. So write(55) will generate runtime error. So, you need to convert to string and write, as write(str(55))"
   ]
  },
  {
   "cell_type": "markdown",
   "metadata": {},
   "source": [
    "Write a program that opens up a file named “testscores.txt”.  This file contains the following information in the following format: <br>\n",
    "student name<br>\n",
    "score1<br>\n",
    "score2<br>\n",
    "score3<br>\n",
    "Read in the values and print out the average score for the student specified in the file along with the student’s name."
   ]
  },
  {
   "cell_type": "markdown",
   "metadata": {},
   "source": [
    "#### Students performance analysis"
   ]
  },
  {
   "cell_type": "markdown",
   "metadata": {},
   "source": [
    "Create a text file, 'marks.txt', with 10 marks as floating point numbers. Open the file, read marks from it and compute and print the highest mark"
   ]
  },
  {
   "cell_type": "markdown",
   "metadata": {},
   "source": [
    "Modify the above program so that it prints the top-3 highest marks (Note: you may need to use list concept)"
   ]
  },
  {
   "cell_type": "markdown",
   "metadata": {},
   "source": [
    "Modify the above program so that it prints the lowest-3 marks"
   ]
  },
  {
   "cell_type": "markdown",
   "metadata": {},
   "source": [
    "#### Average price computation"
   ]
  },
  {
   "cell_type": "markdown",
   "metadata": {},
   "source": [
    "Programming Challenge <br>\n",
    "Continually prompt a user for a series of price values<br>\n",
    "Store these values in a text file called “prices.txt”<br>\n",
    "When the user enters a price value of 0 or less you can assume they want to end the program.<br>\n",
    "If the user runs the program more than once you should not overwrite the previous text file – simply append the new price values to the end of the file<br>\n",
    "Hint: open the file using the ‘a’ flag\n",
    "<br>\n",
    "<br>\n",
    "Open your ‘prices.txt’ file for reading<br>\n",
    "Read in all values and calculate the average price based on the values that are contained in the file"
   ]
  },
  {
   "cell_type": "markdown",
   "metadata": {},
   "source": [
    "#### Match Making Program"
   ]
  },
  {
   "cell_type": "markdown",
   "metadata": {},
   "source": [
    "Write a “matchmaking” program that asks the user to enter in their name, favorite color and favorite food. <br>\n",
    "Store the result in a text file <br>\n",
    "\n",
    "Interface with your matchmaking text file and ask a second user for a favorite color and favorite food. <br>\n",
    "Compare the results – if they get 0/2 questions correct, they are not a match!  ½, they might be a match.  2/2, they are definitely a match"
   ]
  },
  {
   "cell_type": "markdown",
   "metadata": {},
   "source": [
    "#### Email processing"
   ]
  },
  {
   "cell_type": "markdown",
   "metadata": {},
   "source": [
    "#### 1. Display only email IDs containing 'From:'"
   ]
  },
  {
   "cell_type": "markdown",
   "metadata": {},
   "source": [
    "#### 2. Count all subject lines of emails"
   ]
  },
  {
   "cell_type": "markdown",
   "metadata": {},
   "source": [
    "#### 3. Write a program to read through a file and print the contents of the file (line by line) all in upper case."
   ]
  },
  {
   "cell_type": "markdown",
   "metadata": {},
   "source": [
    "#### 4. Write a program to prompt for a file name, and then read through the file and look for lines of the form: 'X-DSPAM-Confidence: 0.8475'. Add all spam confidence scores and print the average value such as the following:"
   ]
  },
  {
   "cell_type": "markdown",
   "metadata": {},
   "source": [
    "##### Enter the file name: mbox-short.txt\n",
    "##### Average spam confidence: 0.750718518519"
   ]
  },
  {
   "cell_type": "code",
   "execution_count": null,
   "metadata": {},
   "outputs": [],
   "source": []
  },
  {
   "cell_type": "markdown",
   "metadata": {},
   "source": [
    "### Solutions"
   ]
  },
  {
   "cell_type": "code",
   "execution_count": 2,
   "metadata": {},
   "outputs": [
    {
     "name": "stdout",
     "output_type": "stream",
     "text": [
      "tephen.marquard@uct.ac.za\n",
      "\n",
      "ouis@media.berkeley.edu\n",
      "\n",
      "qian@umich.edu\n",
      "\n",
      "jlowe@iupui.edu\n",
      "\n",
      "qian@umich.edu\n",
      "\n",
      "jlowe@iupui.edu\n",
      "\n",
      "wen@iupui.edu\n",
      "\n",
      "wen@iupui.edu\n",
      "\n",
      "silver@umich.edu\n",
      "\n",
      "silver@umich.edu\n",
      "\n",
      "qian@umich.edu\n",
      "\n",
      "silver@umich.edu\n",
      "\n",
      "agnermr@iupui.edu\n",
      "\n",
      "qian@umich.edu\n",
      "\n",
      "ntranig@caret.cam.ac.uk\n",
      "\n",
      "opal.ramasammycook@gmail.com\n",
      "\n",
      "avid.horwitz@uct.ac.za\n",
      "\n",
      "avid.horwitz@uct.ac.za\n",
      "\n",
      "avid.horwitz@uct.ac.za\n",
      "\n",
      "avid.horwitz@uct.ac.za\n",
      "\n",
      "tephen.marquard@uct.ac.za\n",
      "\n",
      "ouis@media.berkeley.edu\n",
      "\n",
      "ouis@media.berkeley.edu\n",
      "\n",
      "ay@media.berkeley.edu\n",
      "\n",
      "wen@iupui.edu\n",
      "\n",
      "wen@iupui.edu\n",
      "\n",
      "wen@iupui.edu\n",
      "\n",
      "Number of emails:  27\n"
     ]
    }
   ],
   "source": [
    "#Print all lines of 'From' without the term 'From'\n",
    "fhand = open('mbox-short.txt')\n",
    "count = 0\n",
    "for line in fhand:\n",
    "    if line.startswith('From:'):\n",
    "        print(line[7:])\n",
    "        count += 1\n",
    "print(\"Number of emails: \", count)\n",
    "fhand.close()"
   ]
  },
  {
   "cell_type": "code",
   "execution_count": 4,
   "metadata": {},
   "outputs": [
    {
     "name": "stdout",
     "output_type": "stream",
     "text": [
      "Subject: [sakai] svn commit: r39772 - content/branches/sakai_2-5-x/content-impl/impl/src/java/org/sakaiproject/content/impl\n",
      "\n",
      "Subject: [sakai] svn commit: r39771 - in bspace/site-manage/sakai_2-4-x/site-manage-tool/tool/src: bundle java/org/sakaiproject/site/tool\n",
      "\n",
      "Subject: [sakai] svn commit: r39770 - site-manage/branches/sakai_2-5-x/site-manage-tool/tool/src/webapp/vm/sitesetup\n",
      "\n",
      "Subject: [sakai] svn commit: r39769 - in gradebook/trunk/app/ui/src: java/org/sakaiproject/tool/gradebook/ui/helpers/beans java/org/sakaiproject/tool/gradebook/ui/helpers/producers webapp/WEB-INF webapp/WEB-INF/bundle\n",
      "\n",
      "Subject: [sakai] svn commit: r39766 - site-manage/branches/sakai_2-4-x/site-manage-tool/tool/src/java/org/sakaiproject/site/tool\n",
      "\n",
      "Subject: [sakai] svn commit: r39765 - in gradebook/trunk/app: business/src/java/org/sakaiproject/tool/gradebook/business business/src/java/org/sakaiproject/tool/gradebook/business/impl ui ui/src/java/org/sakaiproject/tool/gradebook/ui/helpers/beans ui/src/java/org/sakaiproject/tool/gradebook/ui/helpers/entity ui/src/java/org/sakaiproject/tool/gradebook/ui/helpers/params ui/src/java/org/sakaiproject/tool/gradebook/ui/helpers/producers ui/src/webapp/WEB-INF ui/src/webapp/WEB-INF/bundle ui/src/webapp/content/templates\n",
      "\n",
      "Subject: [sakai] svn commit: r39764 - in msgcntr/trunk/messageforums-app/src/java/org/sakaiproject/tool/messageforums: . ui\n",
      "\n",
      "Subject: [sakai] svn commit: r39763 - in msgcntr/trunk: messageforums-api/src/bundle/org/sakaiproject/api/app/messagecenter/bundle messageforums-app/src/java/org/sakaiproject/tool/messageforums\n",
      "\n",
      "Subject: [sakai] svn commit: r39762 - web/trunk/web-tool/tool/src/bundle\n",
      "\n",
      "Subject: [sakai] svn commit: r39761 - site/trunk/site-tool/tool/src/bundle\n",
      "\n",
      "Subject: [sakai] svn commit: r39760 - in site-manage/trunk/site-manage-tool/tool/src: java/org/sakaiproject/site/tool webapp/vm/sitesetup\n",
      "\n",
      "Subject: [sakai] svn commit: r39759 - mailarchive/trunk/mailarchive-tool/tool/src/bundle\n",
      "\n",
      "Subject: [sakai] svn commit: r39758 - in gradebook/trunk: app/business/src/java/org/sakaiproject/tool/gradebook/business/impl service/api/src/java/org/sakaiproject/service/gradebook/shared service/impl/src/java/org/sakaiproject/component/gradebook\n",
      "\n",
      "Subject: [sakai] svn commit: r39757 - in assignment/trunk: assignment-impl/impl/src/java/org/sakaiproject/assignment/impl assignment-tool/tool/src/webapp/vm/assignment\n",
      "\n",
      "Subject: [sakai] svn commit: r39756 - in component/branches/SAK-12166/component-api/component/src/java/org/sakaiproject/component: impl impl/spring/support impl/spring/support/dynamic impl/support util\n",
      "\n",
      "Subject: [sakai] svn commit: r39755 - in sam/branches/SAK-12065: samigo-api/src/java/org/sakaiproject/tool/assessment/shared/api/grading samigo-app/src/java/org/sakaiproject/tool/assessment/ui/bean/evaluation samigo-app/src/java/org/sakaiproject/tool/assessment/ui/listener/evaluation samigo-services/src/java/org/sakaiproject/tool/assessment/facade samigo-services/src/java/org/sakaiproject/tool/assessment/integration/helper/ifc samigo-services/src/java/org/sakaiproject/tool/assessment/integration/helper/integrated samigo-services/src/java/org/sakaiproject/tool/assessment/integration/helper/standalone samigo-services/src/java/org/sakaiproject/tool/assessment/shared/impl/grading\n",
      "\n",
      "Subject: [sakai] svn commit: r39754 - in polls/branches/sakai_2-5-x: . tool tool/src/java/org/sakaiproject/poll/tool tool/src/java/org/sakaiproject/poll/tool/evolvers tool/src/webapp/WEB-INF\n",
      "\n",
      "Subject: [sakai] svn commit: r39753 - in polls/trunk: . tool tool/src/java/org/sakaiproject/poll/tool tool/src/java/org/sakaiproject/poll/tool/evolvers tool/src/webapp/WEB-INF\n",
      "\n",
      "Subject: [sakai] svn commit: r39752 - in podcasts/branches/sakai_2-5-x/podcasts-app/src/webapp: css podcasts\n",
      "\n",
      "Subject: [sakai] svn commit: r39751 - in podcasts/branches/sakai_2-5-x/podcasts-app/src/webapp: css images podcasts\n",
      "\n",
      "Subject: [sakai] svn commit: r39750 - event/branches/SAK-6216/event-util/util/src/java/org/sakaiproject/util\n",
      "\n",
      "Subject: [sakai] svn commit: r39749 - in bspace/site-manage/sakai_2-4-x/site-manage-tool/tool/src: bundle webapp/vm/sitesetup\n",
      "\n",
      "Subject: [sakai] svn commit: r39746 - in bspace/site-manage/sakai_2-4-x/site-manage-tool/tool/src: bundle webapp/vm/sitesetup\n",
      "\n",
      "Subject: [sakai] svn commit: r39745 - providers/trunk/cm/cm-authz-provider/src/java/org/sakaiproject/coursemanagement/impl/provider\n",
      "\n",
      "Subject: [sakai] svn commit: r39744 - oncourse/branches/oncourse_OPC_122007\n",
      "\n",
      "Subject: [sakai] svn commit: r39743 - gradebook/branches/oncourse_2-4-2/app/ui/src/java/org/sakaiproject/tool/gradebook/ui\n",
      "\n",
      "Subject: [sakai] svn commit: r39742 - gradebook/branches/oncourse_2-4-2/app/ui/src/java/org/sakaiproject/tool/gradebook/ui\n",
      "\n",
      "Number of emails:  27\n"
     ]
    }
   ],
   "source": [
    "#Print all subject lines\n",
    "fhand = open('mbox-short.txt')\n",
    "count = 0\n",
    "for line in fhand:\n",
    "    if line.startswith('Subject:'):\n",
    "        print(line)\n",
    "        count += 1\n",
    "print(\"Number of emails: \", count)\n",
    "fhand.close()   "
   ]
  },
  {
   "cell_type": "code",
   "execution_count": null,
   "metadata": {},
   "outputs": [],
   "source": []
  }
 ],
 "metadata": {
  "kernelspec": {
   "display_name": "Python 3",
   "language": "python",
   "name": "python3"
  },
  "language_info": {
   "codemirror_mode": {
    "name": "ipython",
    "version": 3
   },
   "file_extension": ".py",
   "mimetype": "text/x-python",
   "name": "python",
   "nbconvert_exporter": "python",
   "pygments_lexer": "ipython3",
   "version": "3.8.3"
  }
 },
 "nbformat": 4,
 "nbformat_minor": 2
}
