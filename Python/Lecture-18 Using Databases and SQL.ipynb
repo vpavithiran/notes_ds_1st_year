{
 "cells": [
  {
   "cell_type": "markdown",
   "metadata": {},
   "source": [
    "# Using Databases and SQL"
   ]
  },
  {
   "cell_type": "markdown",
   "metadata": {},
   "source": [
    "### Create a database and table"
   ]
  },
  {
   "cell_type": "code",
   "execution_count": 1,
   "metadata": {},
   "outputs": [
    {
     "data": {
      "text/plain": [
       "<sqlite3.Cursor at 0x182734ba6c0>"
      ]
     },
     "execution_count": 1,
     "metadata": {},
     "output_type": "execute_result"
    }
   ],
   "source": [
    "import sqlite3\n",
    "\n",
    "conn = sqlite3.connect('music.sqlite')\n",
    "cur = conn.cursor()\n",
    "\n",
    "cur.execute('DROP TABLE IF EXISTS Tracks')\n",
    "cur.execute('CREATE TABLE Tracks (title TEXT, plays INTEGER)')"
   ]
  },
  {
   "cell_type": "markdown",
   "metadata": {},
   "source": [
    "### Insert two rows of values"
   ]
  },
  {
   "cell_type": "code",
   "execution_count": 2,
   "metadata": {},
   "outputs": [],
   "source": [
    "cur.execute('INSERT INTO Tracks (title, plays) VALUES (?, ?)', \n",
    "    ('Thunderstruck', 20))\n",
    "cur.execute('INSERT INTO Tracks (title, plays) VALUES (?, ?)', \n",
    "    ('My Way', 15))\n",
    "conn.commit()"
   ]
  },
  {
   "cell_type": "markdown",
   "metadata": {},
   "source": [
    "### Show the tows"
   ]
  },
  {
   "cell_type": "code",
   "execution_count": 3,
   "metadata": {},
   "outputs": [
    {
     "name": "stdout",
     "output_type": "stream",
     "text": [
      "Tracks:\n",
      "('Thunderstruck', 20)\n",
      "('My Way', 15)\n"
     ]
    }
   ],
   "source": [
    "print('Tracks:')\n",
    "cur.execute('SELECT title, plays FROM Tracks')\n",
    "for row in cur:\n",
    "     print(row)\n"
   ]
  },
  {
   "cell_type": "markdown",
   "metadata": {},
   "source": [
    "### Delete all rows where plays < 18"
   ]
  },
  {
   "cell_type": "code",
   "execution_count": 4,
   "metadata": {},
   "outputs": [
    {
     "name": "stdout",
     "output_type": "stream",
     "text": [
      "('Thunderstruck', 20)\n"
     ]
    }
   ],
   "source": [
    "cur.execute('DELETE FROM Tracks WHERE plays < 18')\n",
    "conn.commit()\n",
    "\n",
    "cur.execute('SELECT * FROM Tracks')\n",
    "for row in cur:\n",
    "    print(row)\n",
    "\n",
    "cur.close()"
   ]
  },
  {
   "cell_type": "markdown",
   "metadata": {},
   "source": [
    "### Crawl friends of Twitter user and store them in DB"
   ]
  },
  {
   "cell_type": "code",
   "execution_count": 1,
   "metadata": {},
   "outputs": [
    {
     "name": "stdout",
     "output_type": "stream",
     "text": [
      "Enter a Twitter account, or quit: drsris\n",
      "Retrieving https://api.twitter.com/1.1/friends/list.json?oauth_consumer_key=ObG0rFIZON5mHUcXHbwhBIB5A&oauth_timestamp=1567238858&oauth_nonce=32784092&oauth_version=1.0&screen_name=drsris&count=5&oauth_token=836931359880835072-srBegAOc9dC3oWWoJFKrvlBzng8Trk6&oauth_signature_method=HMAC-SHA1&oauth_signature=ilpV8SGc5XmszoZxnpKvtdW8Dy4%3D\n",
      "Remaining 5\n",
      "suneet4037\n",
      "MatthieuLefe\n",
      "gaurav_singal\n",
      "shreyanse081\n",
      "LeadingindiaAI\n",
      "New accounts= 0  revisited= 5\n",
      "Enter a Twitter account, or quit: \n",
      "Retrieving https://api.twitter.com/1.1/friends/list.json?oauth_consumer_key=ObG0rFIZON5mHUcXHbwhBIB5A&oauth_timestamp=1567238872&oauth_nonce=21807744&oauth_version=1.0&screen_name=LeadingindiaAI&count=5&oauth_token=836931359880835072-srBegAOc9dC3oWWoJFKrvlBzng8Trk6&oauth_signature_method=HMAC-SHA1&oauth_signature=7OAd6tBxM2cXjewC8G%2Bn6fqgrMQ%3D\n",
      "Remaining 4\n",
      "drsris\n",
      "CSE_Bennett\n",
      "deep108\n",
      "DeepMindAI\n",
      "IBMWatson\n",
      "New accounts= 4  revisited= 1\n",
      "Enter a Twitter account, or quit: \n",
      "Retrieving https://api.twitter.com/1.1/friends/list.json?oauth_consumer_key=ObG0rFIZON5mHUcXHbwhBIB5A&oauth_timestamp=1567238882&oauth_nonce=97047512&oauth_version=1.0&screen_name=nitin_gadkari&count=5&oauth_token=836931359880835072-srBegAOc9dC3oWWoJFKrvlBzng8Trk6&oauth_signature_method=HMAC-SHA1&oauth_signature=YFmPZnSRlOBqdJ4owR%2BHJped5jY%3D\n",
      "Remaining 3\n",
      "KPGBJP\n",
      "Rao_InderjitS\n",
      "minmsme\n",
      "AniruddhaRSS\n",
      "ArunKumRSS\n",
      "New accounts= 5  revisited= 0\n",
      "Enter a Twitter account, or quit: \n",
      "Retrieving https://api.twitter.com/1.1/friends/list.json?oauth_consumer_key=ObG0rFIZON5mHUcXHbwhBIB5A&oauth_timestamp=1567238886&oauth_nonce=98348922&oauth_version=1.0&screen_name=MotaharReza&count=5&oauth_token=836931359880835072-srBegAOc9dC3oWWoJFKrvlBzng8Trk6&oauth_signature_method=HMAC-SHA1&oauth_signature=uIECDI1SIx2C16yjQQIDGKaLzAY%3D\n",
      "Remaining 2\n",
      "hershybru\n",
      "markb46\n",
      "7polly7\n",
      "GraemeSmith49\n",
      "Krishna98589213\n",
      "New accounts= 5  revisited= 0\n",
      "Enter a Twitter account, or quit: \n",
      "Retrieving https://api.twitter.com/1.1/friends/list.json?oauth_consumer_key=ObG0rFIZON5mHUcXHbwhBIB5A&oauth_timestamp=1567238889&oauth_nonce=33160360&oauth_version=1.0&screen_name=rajnathsingh&count=5&oauth_token=836931359880835072-srBegAOc9dC3oWWoJFKrvlBzng8Trk6&oauth_signature_method=HMAC-SHA1&oauth_signature=V6T95laP6TReN9Ws3sFGYsMkE3U%3D\n",
      "Remaining 1\n",
      "rajeev_mp\n",
      "AvdheshanandG\n",
      "KSBSectt\n",
      "ombirlakota\n",
      "SecPompeo\n",
      "New accounts= 5  revisited= 0\n",
      "Enter a Twitter account, or quit: quit\n"
     ]
    }
   ],
   "source": [
    "from urllib.request import urlopen\n",
    "import urllib.error\n",
    "import twurl\n",
    "import json\n",
    "import sqlite3\n",
    "import ssl\n",
    "\n",
    "TWITTER_URL = 'https://api.twitter.com/1.1/friends/list.json'\n",
    "\n",
    "conn = sqlite3.connect('spider.sqlite')\n",
    "cur = conn.cursor()\n",
    "\n",
    "cur.execute('''\n",
    "            CREATE TABLE IF NOT EXISTS Twitter\n",
    "            (name TEXT, retrieved INTEGER, friends INTEGER)''')\n",
    "\n",
    "# Ignore SSL certificate errors\n",
    "ctx = ssl.create_default_context()\n",
    "ctx.check_hostname = False\n",
    "ctx.verify_mode = ssl.CERT_NONE\n",
    "\n",
    "while True:\n",
    "    acct = input('Enter a Twitter account, or quit: ')\n",
    "    if (acct == 'quit'): break\n",
    "    if (len(acct) < 1):\n",
    "        cur.execute('SELECT name FROM Twitter WHERE retrieved = 0 LIMIT 1')\n",
    "        try:\n",
    "            acct = cur.fetchone()[0]\n",
    "        except:\n",
    "            print('No unretrieved Twitter accounts found')\n",
    "            continue\n",
    "\n",
    "    url = twurl.augment(TWITTER_URL, {'screen_name': acct, 'count': '5'})\n",
    "    print('Retrieving', url)\n",
    "    connection = urlopen(url, context=ctx)\n",
    "    data = connection.read().decode()\n",
    "    headers = dict(connection.getheaders())\n",
    "\n",
    "    print('Remaining', headers['x-rate-limit-remaining'])\n",
    "    js = json.loads(data)\n",
    "    # Debugging\n",
    "    # print json.dumps(js, indent=4)\n",
    "\n",
    "    cur.execute('UPDATE Twitter SET retrieved=1 WHERE name = ?', (acct, ))\n",
    "\n",
    "    countnew = 0\n",
    "    countold = 0\n",
    "    for u in js['users']:\n",
    "        friend = u['screen_name']\n",
    "        print(friend)\n",
    "        cur.execute('SELECT friends FROM Twitter WHERE name = ? LIMIT 1',\n",
    "                    (friend, ))\n",
    "        try:\n",
    "            count = cur.fetchone()[0]\n",
    "            cur.execute('UPDATE Twitter SET friends = ? WHERE name = ?',\n",
    "                        (count+1, friend))\n",
    "            countold = countold + 1\n",
    "        except:\n",
    "            cur.execute('''INSERT INTO Twitter (name, retrieved, friends)\n",
    "                        VALUES (?, 0, 1)''', (friend, ))\n",
    "            countnew = countnew + 1\n",
    "    print('New accounts=', countnew, ' revisited=', countold)\n",
    "    conn.commit()\n",
    "\n",
    "cur.close()"
   ]
  },
  {
   "cell_type": "code",
   "execution_count": null,
   "metadata": {},
   "outputs": [],
   "source": []
  }
 ],
 "metadata": {
  "kernelspec": {
   "display_name": "Python 3",
   "language": "python",
   "name": "python3"
  },
  "language_info": {
   "codemirror_mode": {
    "name": "ipython",
    "version": 3
   },
   "file_extension": ".py",
   "mimetype": "text/x-python",
   "name": "python",
   "nbconvert_exporter": "python",
   "pygments_lexer": "ipython3",
   "version": "3.7.3"
  }
 },
 "nbformat": 4,
 "nbformat_minor": 2
}
