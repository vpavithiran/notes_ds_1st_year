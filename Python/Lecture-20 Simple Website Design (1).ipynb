{
 "cells": [
  {
   "cell_type": "markdown",
   "metadata": {},
   "source": [
    "# Lecture-20 Simple Website Design using Flask"
   ]
  },
  {
   "cell_type": "code",
   "execution_count": null,
   "metadata": {},
   "outputs": [],
   "source": [
    "#app.py\n",
    "from flask import Flask\n",
    "from flask import render_template\n",
    "\n",
    "app = Flask(__name__)\n",
    "\n",
    "@app.route(\"/\")\n",
    "@app.route('/hello')\n",
    "\n",
    "def main():\n",
    "\treturn 'Hello world'\n",
    "    #return render_template(\"first_app.html\")\n",
    "\n",
    "@app.route('/hello/<username>')  # URL with a variable\n",
    "def hello_username(username):    # The function shall take the URL variable as parameter\n",
    "    return 'Hello, {}'.format(username)\n",
    "\n",
    "\n",
    "@app.route('/hello/<int:userid>')  # Variable with type filter. Accept only int\n",
    "def hello_userid(userid):          # The function shall take the URL variable as parameter\n",
    "    return 'Hello, your ID is: {:d}'.format(userid)\n",
    "\n",
    "\n",
    "if __name__ == \"__main__\":\n",
    "    app.run()\n"
   ]
  },
  {
   "cell_type": "code",
   "execution_count": null,
   "metadata": {},
   "outputs": [],
   "source": [
    "#first_app.html\n",
    "<html>\n",
    "<head>\n",
    "  <title>My First App</title>\n",
    "</head>\n",
    "<body>\n",
    "<div> Hi, this is my first Flask Web Application</div>\n",
    "</body>\n",
    "</html>"
   ]
  },
  {
   "cell_type": "code",
   "execution_count": null,
   "metadata": {},
   "outputs": [],
   "source": [
    "#j2_query.html\n",
    "<!DOCTYPE html>\n",
    "<html lang=\"en\">\n",
    "<head>\n",
    "  <meta charset=\"utf-8\">\n",
    "  <title>Entry Page</title>\n",
    "</head>\n",
    "<body>\n",
    "<form action=\"process\" method=\"post\">\n",
    "  <label for=\"username\">Please enter your name: </label>\n",
    "  <input type=\"text\" id=\"username\" name=\"username\"><br>\n",
    "  <input type=\"submit\" value=\"SEND\">\n",
    "</form>\n",
    "</body>\n",
    "</html>"
   ]
  },
  {
   "cell_type": "code",
   "execution_count": null,
   "metadata": {},
   "outputs": [],
   "source": [
    "#js_response.html\n",
    "<!DOCTYPE html>\n",
    "<html lang=\"en\">\n",
    "<head>\n",
    "  <meta charset=\"utf-8\">\n",
    "  <title>Response Page</title>\n",
    "</head>\n",
    "<body>\n",
    "  <h1>Hello, {{ username }}</h1>\n",
    "</body>\n",
    "</html>"
   ]
  },
  {
   "cell_type": "code",
   "execution_count": null,
   "metadata": {},
   "outputs": [],
   "source": [
    "#hello_form.py\n",
    "from flask import Flask, render_template, request\n",
    "app = Flask(__name__)\n",
    "\n",
    "@app.route('/')\n",
    "def main():\n",
    "    return render_template('j2_query.html')\n",
    "\n",
    "@app.route('/process', methods=['POST'])\n",
    "def process():\n",
    "    # Retrieve the HTTP POST request parameter value from 'request.form' dictionary\n",
    "    _username = request.form.get('username')  # get(attr) returns None if attr is not present\n",
    " \n",
    "    # Validate and send response\n",
    "    if _username:\n",
    "        return render_template('j2_response.html', username=_username)\n",
    "    else:\n",
    "        return 'Please go back and enter your name...', 400  # 400 Bad Request\n",
    "\n",
    "if __name__ == '__main__':\n",
    "    app.run()"
   ]
  }
 ],
 "metadata": {
  "kernelspec": {
   "display_name": "Python 3",
   "language": "python",
   "name": "python3"
  },
  "language_info": {
   "codemirror_mode": {
    "name": "ipython",
    "version": 3
   },
   "file_extension": ".py",
   "mimetype": "text/x-python",
   "name": "python",
   "nbconvert_exporter": "python",
   "pygments_lexer": "ipython3",
   "version": "3.7.3"
  }
 },
 "nbformat": 4,
 "nbformat_minor": 2
}
