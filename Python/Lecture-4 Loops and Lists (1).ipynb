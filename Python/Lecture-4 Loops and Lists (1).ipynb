{
 "cells": [
  {
   "cell_type": "markdown",
   "metadata": {},
   "source": [
    "# Lecture-4 Loops and Lists"
   ]
  },
  {
   "cell_type": "markdown",
   "metadata": {},
   "source": [
    "## Simple Lists and for Loops"
   ]
  },
  {
   "cell_type": "code",
   "execution_count": 1,
   "metadata": {},
   "outputs": [
    {
     "name": "stdout",
     "output_type": "stream",
     "text": [
      "1\n",
      "2\n",
      "3\n",
      "4\n",
      "5\n"
     ]
    }
   ],
   "source": [
    "numbers = [1,2,3,4,5]\n",
    "for number in numbers:\n",
    "    print(number)"
   ]
  },
  {
   "cell_type": "code",
   "execution_count": 2,
   "metadata": {},
   "outputs": [
    {
     "name": "stdout",
     "output_type": "stream",
     "text": [
      "A fruit of type:  apple\n",
      "A fruit of type:  orange\n",
      "A fruit of type:  mango\n",
      "A fruit of type:  graphs\n"
     ]
    }
   ],
   "source": [
    "fruits = ['apple', 'orange', 'mango', 'graphs']\n",
    "for fruit in fruits:\n",
    "    print(\"A fruit of type: \", fruit)"
   ]
  },
  {
   "cell_type": "code",
   "execution_count": 3,
   "metadata": {},
   "outputs": [
    {
     "name": "stdout",
     "output_type": "stream",
     "text": [
      "I got 1\n",
      "I got pennies\n",
      "I got 2\n",
      "I got dimes\n",
      "I got 3\n",
      "I got quarters\n"
     ]
    }
   ],
   "source": [
    "# Mixed lists\n",
    "change = [1, 'pennies', 2, 'dimes', 3, 'quarters']\n",
    "for i in change:\n",
    "    print(f\"I got {i}\")"
   ]
  },
  {
   "cell_type": "code",
   "execution_count": 4,
   "metadata": {},
   "outputs": [
    {
     "name": "stdout",
     "output_type": "stream",
     "text": [
      "0\n",
      "1\n",
      "2\n",
      "3\n",
      "4\n",
      "5\n"
     ]
    }
   ],
   "source": [
    "# range() to generate numbers\n",
    "for number in range(6):\n",
    "    print(number)"
   ]
  },
  {
   "cell_type": "markdown",
   "metadata": {},
   "source": [
    "#### Note: range(start, end), range(start, end, steps)"
   ]
  },
  {
   "cell_type": "code",
   "execution_count": 5,
   "metadata": {},
   "outputs": [
    {
     "name": "stdout",
     "output_type": "stream",
     "text": [
      "1\n",
      "2\n",
      "3\n",
      "4\n",
      "5\n"
     ]
    }
   ],
   "source": [
    "for number in range(1, 6):\n",
    "    print(number)"
   ]
  },
  {
   "cell_type": "code",
   "execution_count": 6,
   "metadata": {},
   "outputs": [
    {
     "name": "stdout",
     "output_type": "stream",
     "text": [
      "1\n",
      "3\n",
      "5\n",
      "7\n",
      "9\n"
     ]
    }
   ],
   "source": [
    "for number in range(1, 10, 2):\n",
    "    print(number)"
   ]
  },
  {
   "cell_type": "markdown",
   "metadata": {},
   "source": [
    "### We can build lists"
   ]
  },
  {
   "cell_type": "code",
   "execution_count": 7,
   "metadata": {},
   "outputs": [
    {
     "name": "stdout",
     "output_type": "stream",
     "text": [
      "Element was  0\n",
      "Element was  1\n",
      "Element was  2\n",
      "Element was  3\n",
      "Element was  4\n"
     ]
    }
   ],
   "source": [
    "elements = [] #start with empty list\n",
    "\n",
    "for i in range(5):\n",
    "    elements.append(i)\n",
    "\n",
    "for element in elements:\n",
    "    print('Element was ', element)"
   ]
  },
  {
   "cell_type": "markdown",
   "metadata": {},
   "source": [
    "### Exercise: Find sum of the list of numbers 5, 6, 9, 2, 3"
   ]
  },
  {
   "cell_type": "code",
   "execution_count": 8,
   "metadata": {},
   "outputs": [
    {
     "name": "stdout",
     "output_type": "stream",
     "text": [
      "Sum:  25\n"
     ]
    }
   ],
   "source": [
    "numbers = [5, 6, 9, 2, 3]\n",
    "sum = 0\n",
    "for number in numbers:\n",
    "    sum += number\n",
    "print('Sum: ', sum)"
   ]
  },
  {
   "cell_type": "markdown",
   "metadata": {},
   "source": [
    "### Exercise: Modify the above code to read inputs and to find sum"
   ]
  },
  {
   "cell_type": "code",
   "execution_count": 9,
   "metadata": {},
   "outputs": [
    {
     "name": "stdout",
     "output_type": "stream",
     "text": [
      "How many numbers?: 3\n",
      "> 1\n",
      "> 23\n",
      "> 24\n",
      "Sum:  48\n"
     ]
    }
   ],
   "source": [
    "max = int(input('How many numbers?: '))\n",
    "\n",
    "numbers = []\n",
    "\n",
    "for i in range(max):\n",
    "    numbers.append(int(input('> ')))\n",
    "\n",
    "sum = 0\n",
    "for number in numbers:\n",
    "    sum += number\n",
    "\n",
    "print('Sum: ', sum)"
   ]
  },
  {
   "cell_type": "markdown",
   "metadata": {},
   "source": [
    "### Printing only odd numbers"
   ]
  },
  {
   "cell_type": "code",
   "execution_count": 10,
   "metadata": {},
   "outputs": [
    {
     "name": "stdout",
     "output_type": "stream",
     "text": [
      "2\n",
      "12\n"
     ]
    }
   ],
   "source": [
    "numbers = [2, 5, 7, 1, 12, 15, 9]\n",
    "\n",
    "for number in numbers:\n",
    "    if number % 2 == 1:\n",
    "        continue\n",
    "    print(number)\n"
   ]
  },
  {
   "cell_type": "markdown",
   "metadata": {},
   "source": [
    "### Break the loop"
   ]
  },
  {
   "cell_type": "code",
   "execution_count": 11,
   "metadata": {},
   "outputs": [
    {
     "name": "stdout",
     "output_type": "stream",
     "text": [
      "0\n",
      "1\n",
      "2\n",
      "3\n",
      "4\n",
      "5\n",
      "6\n",
      "7\n",
      "8\n",
      "9\n",
      "10\n",
      "11\n",
      "12\n"
     ]
    }
   ],
   "source": [
    "for number in range(20):\n",
    "    if number == 13:\n",
    "        break\n",
    "    print(number)"
   ]
  },
  {
   "cell_type": "markdown",
   "metadata": {},
   "source": [
    "## While loop"
   ]
  },
  {
   "cell_type": "code",
   "execution_count": 12,
   "metadata": {},
   "outputs": [
    {
     "name": "stdout",
     "output_type": "stream",
     "text": [
      "Before while loop...\n",
      "Enter a string: hi\n",
      "You typed:  hi\n",
      "Enter a string: bye\n",
      "You typed:  bye\n",
      "Enter a string: good\n",
      "You typed:  good\n",
      "Enter a string: day\n",
      "You typed:  day\n",
      "Enter a string: night\n",
      "You typed:  night\n",
      "Finally after while loop...\n"
     ]
    }
   ],
   "source": [
    "# read and print 5 strings\n",
    "count = 1\n",
    "\n",
    "print('Before while loop...')\n",
    "\n",
    "while count <= 5:\n",
    "    text = input('Enter a string: ')\n",
    "    print('You typed: ', text)\n",
    "    count += 1\n",
    "\n",
    "print('Finally after while loop...')"
   ]
  },
  {
   "cell_type": "markdown",
   "metadata": {},
   "source": [
    "### Walk Through"
   ]
  },
  {
   "cell_type": "markdown",
   "metadata": {},
   "source": [
    "#### Read and print until 'done' is entered"
   ]
  },
  {
   "cell_type": "code",
   "execution_count": 13,
   "metadata": {},
   "outputs": [
    {
     "name": "stdout",
     "output_type": "stream",
     "text": [
      "Enter a string: hi\n",
      "You typed:  hi\n",
      "Enter a string: bye\n",
      "You typed:  bye\n",
      "Enter a string: done\n",
      "You typed:  done\n",
      "end of while loop\n"
     ]
    }
   ],
   "source": [
    "while True:\n",
    "    text = input('Enter a string: ')\n",
    "    print('You typed: ', text)\n",
    "    \n",
    "    if text == 'done':\n",
    "        break\n",
    "print('end of while loop')"
   ]
  },
  {
   "cell_type": "markdown",
   "metadata": {},
   "source": [
    "#### Find sum of numbers until zero is entered"
   ]
  },
  {
   "cell_type": "code",
   "execution_count": 14,
   "metadata": {},
   "outputs": [
    {
     "name": "stdout",
     "output_type": "stream",
     "text": [
      "Enter number:> 1\n",
      "Enter number:> 2\n",
      "Enter number:> 3\n",
      "Enter number:> 0\n",
      "Sum:  6\n"
     ]
    }
   ],
   "source": [
    "sum = 0\n",
    "\n",
    "while True:\n",
    "    \n",
    "    number = int(input('Enter number:> '))\n",
    "    if number == 0:\n",
    "        break\n",
    "    \n",
    "    sum += number;\n",
    "\n",
    "print('Sum: ', sum)"
   ]
  },
  {
   "cell_type": "markdown",
   "metadata": {},
   "source": [
    "## Exception Handling"
   ]
  },
  {
   "cell_type": "code",
   "execution_count": 15,
   "metadata": {},
   "outputs": [
    {
     "name": "stdout",
     "output_type": "stream",
     "text": [
      "Enter number:> 1\n",
      "Enter number:> 2\n",
      "Enter number:> asd\n",
      "Not a number\n",
      "Enter number:> 3\n",
      "Enter number:> 0\n",
      "Sum:  6\n"
     ]
    }
   ],
   "source": [
    "sum = 0\n",
    "\n",
    "while True:\n",
    "    \n",
    "    try:\n",
    "        number = int(input('Enter number:> '))\n",
    "        if number == 0:\n",
    "            break\n",
    "        sum += number\n",
    "    except:\n",
    "        print('Not a number')\n",
    "\n",
    "print('Sum: ', sum)"
   ]
  },
  {
   "cell_type": "markdown",
   "metadata": {},
   "source": [
    "#### Walk Through: Modify the above code to find biggest of numbers"
   ]
  },
  {
   "cell_type": "code",
   "execution_count": 16,
   "metadata": {},
   "outputs": [
    {
     "name": "stdout",
     "output_type": "stream",
     "text": [
      "Enter number (999 to exit):> 4\n",
      "Enter number (999 to exit):> 5\n",
      "Enter number (999 to exit):> 1\n",
      "Enter number (999 to exit):> 2\n",
      "Enter number (999 to exit):> 999\n",
      "Biggest number:  5\n",
      "Sum:  12\n"
     ]
    }
   ],
   "source": [
    "sum = 0\n",
    "big = None\n",
    "\n",
    "while True:\n",
    "    \n",
    "    try:\n",
    "        number = int(input('Enter number (999 to exit):> '))\n",
    "        if number == 999:\n",
    "            break\n",
    "        \n",
    "        if big == None or number > big:\n",
    "            big = number\n",
    "        \n",
    "        sum += number\n",
    "    except:\n",
    "        print('Not a number')\n",
    "\n",
    "print('Biggest number: ', big)\n",
    "print('Sum: ', sum)"
   ]
  },
  {
   "cell_type": "markdown",
   "metadata": {},
   "source": [
    "## Nested Loops"
   ]
  },
  {
   "cell_type": "code",
   "execution_count": 17,
   "metadata": {},
   "outputs": [
    {
     "name": "stdout",
     "output_type": "stream",
     "text": [
      "i =  0  j =  0  : hello\n",
      "i =  0  j =  1  : hello\n",
      "i =  1  j =  0  : hello\n",
      "i =  1  j =  1  : hello\n",
      "i =  2  j =  0  : hello\n",
      "i =  2  j =  1  : hello\n"
     ]
    }
   ],
   "source": [
    "for i in range(3):\n",
    "    for j in range(2):\n",
    "        print('i = ', i, ' j = ', j, ' : hello')"
   ]
  },
  {
   "cell_type": "markdown",
   "metadata": {},
   "source": [
    "## Number Guessing Game"
   ]
  },
  {
   "cell_type": "markdown",
   "metadata": {},
   "source": [
    "#### Guess my number between 1 to 100"
   ]
  },
  {
   "cell_type": "code",
   "execution_count": 18,
   "metadata": {},
   "outputs": [
    {
     "name": "stdout",
     "output_type": "stream",
     "text": [
      "49\n",
      " Guess my number from 1 to 100 (0 to stop): 100\n",
      "100  Too High\n",
      " Guess my number from 1 to 100 (0 to stop): 23\n",
      "23  Too Loo\n",
      " Guess my number from 1 to 100 (0 to stop): 49\n",
      "Great, you guessed in  3  attempts\n"
     ]
    }
   ],
   "source": [
    "import sys\n",
    "import random\n",
    "\n",
    "number = random.randint(1, 100)\n",
    "print(number)\n",
    "\n",
    "attempt = 0\n",
    "\n",
    "while True:\n",
    "    \n",
    "    guess = int(input(' Guess my number from 1 to 100 (0 to stop): '))\n",
    "    \n",
    "    if guess == 0:\n",
    "        sys.exit(0)\n",
    "    \n",
    "    attempt += 1\n",
    "    \n",
    "    if guess > number:\n",
    "        print(guess, ' Too High')\n",
    "    elif guess < number:\n",
    "        print(guess, ' Too Loo')\n",
    "    else:\n",
    "        break\n",
    "\n",
    "print('Great, you guessed in ', attempt, \" attempts\")\n"
   ]
  },
  {
   "cell_type": "markdown",
   "metadata": {},
   "source": [
    "#### Walk Through: Modify guessing code so that it stops automatically after N attempts if user is unable to guess "
   ]
  },
  {
   "cell_type": "code",
   "execution_count": null,
   "metadata": {},
   "outputs": [],
   "source": []
  }
 ],
 "metadata": {
  "kernelspec": {
   "display_name": "Python 3",
   "language": "python",
   "name": "python3"
  },
  "language_info": {
   "codemirror_mode": {
    "name": "ipython",
    "version": 3
   },
   "file_extension": ".py",
   "mimetype": "text/x-python",
   "name": "python",
   "nbconvert_exporter": "python",
   "pygments_lexer": "ipython3",
   "version": "3.8.3"
  }
 },
 "nbformat": 4,
 "nbformat_minor": 2
}
