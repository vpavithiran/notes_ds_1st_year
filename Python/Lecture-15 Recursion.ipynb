{
 "cells": [
  {
   "cell_type": "markdown",
   "metadata": {},
   "source": [
    "# Lecture-15 Recursion"
   ]
  },
  {
   "cell_type": "markdown",
   "metadata": {},
   "source": [
    "<b>Recursion means function calling itself. Any problem that can be solved iteratively (with a for or while loop) can also be solved recursively</b>"
   ]
  },
  {
   "cell_type": "markdown",
   "metadata": {},
   "source": [
    "### Print list element by element"
   ]
  },
  {
   "cell_type": "code",
   "execution_count": 1,
   "metadata": {},
   "outputs": [
    {
     "name": "stdout",
     "output_type": "stream",
     "text": [
      "1\n",
      "2\n",
      "5\n"
     ]
    }
   ],
   "source": [
    "lst = [1,2,5]\n",
    "for i in lst:\n",
    "    print(i)\n"
   ]
  },
  {
   "cell_type": "code",
   "execution_count": 2,
   "metadata": {},
   "outputs": [
    {
     "name": "stdout",
     "output_type": "stream",
     "text": [
      "1\n",
      "2\n",
      "[11, 13]\n",
      "8\n"
     ]
    }
   ],
   "source": [
    "# lst is nested list\n",
    "lst = [1, 2, [11, 13], 8]\n",
    "for i in lst:\n",
    "    print(i)"
   ]
  },
  {
   "cell_type": "code",
   "execution_count": 3,
   "metadata": {},
   "outputs": [],
   "source": [
    "def show_list(lst):\n",
    "    for element in lst:\n",
    "        if type(element) is list:\n",
    "            for j in element:\n",
    "                print(j)\n",
    "        else:\n",
    "            print(element)\n"
   ]
  },
  {
   "cell_type": "code",
   "execution_count": 4,
   "metadata": {},
   "outputs": [
    {
     "name": "stdout",
     "output_type": "stream",
     "text": [
      "1\n",
      "2\n",
      "11\n",
      "13\n",
      "8\n"
     ]
    }
   ],
   "source": [
    "lst = [1, 2, [11, 13], 8]\n",
    "show_list(lst)"
   ]
  },
  {
   "cell_type": "code",
   "execution_count": 5,
   "metadata": {},
   "outputs": [
    {
     "name": "stdout",
     "output_type": "stream",
     "text": [
      "1\n",
      "2\n",
      "[3, 4]\n"
     ]
    }
   ],
   "source": [
    "# it will not work for this list\n",
    "lst = [1, [2, [3,4]]]\n",
    "show_list(lst)"
   ]
  },
  {
   "cell_type": "markdown",
   "metadata": {},
   "source": [
    "### Find sum"
   ]
  },
  {
   "cell_type": "code",
   "execution_count": 6,
   "metadata": {},
   "outputs": [
    {
     "name": "stdout",
     "output_type": "stream",
     "text": [
      "8\n"
     ]
    }
   ],
   "source": [
    "# let us find sum of a list\n",
    "lst = [1,2,5]\n",
    "print(sum(lst))"
   ]
  },
  {
   "cell_type": "code",
   "execution_count": 7,
   "metadata": {},
   "outputs": [],
   "source": [
    "# find sum of nested list\n",
    "lst = [1, 2, [11, 13], 8]\n",
    "#print(sum(lst))"
   ]
  },
  {
   "cell_type": "markdown",
   "metadata": {},
   "source": [
    "### Recursive solution - Sum of nested list"
   ]
  },
  {
   "cell_type": "code",
   "execution_count": 8,
   "metadata": {},
   "outputs": [],
   "source": [
    "def recursive_sum(nested_list):\n",
    "    \n",
    "    # sum = 0\n",
    "    sum = 0\n",
    "    \n",
    "    # check if element is a list\n",
    "    for element in nested_list:\n",
    "        if type(element) is list:\n",
    "            sum += recursive_sum(element)\n",
    "        else:\n",
    "            sum += element\n",
    "    \n",
    "    return sum    "
   ]
  },
  {
   "cell_type": "code",
   "execution_count": 9,
   "metadata": {},
   "outputs": [
    {
     "name": "stdout",
     "output_type": "stream",
     "text": [
      "35\n"
     ]
    }
   ],
   "source": [
    "lst = [1, 2, [11, 13], 8]\n",
    "print(recursive_sum(lst))"
   ]
  },
  {
   "cell_type": "code",
   "execution_count": 10,
   "metadata": {},
   "outputs": [
    {
     "name": "stdout",
     "output_type": "stream",
     "text": [
      "10\n"
     ]
    }
   ],
   "source": [
    "lst = [1, [2,3], 4]\n",
    "print(recursive_sum(lst))"
   ]
  },
  {
   "cell_type": "code",
   "execution_count": 11,
   "metadata": {},
   "outputs": [
    {
     "name": "stdout",
     "output_type": "stream",
     "text": [
      "10\n"
     ]
    }
   ],
   "source": [
    "lst = [1, [2, [3,4]]]\n",
    "print(recursive_sum(lst))"
   ]
  },
  {
   "cell_type": "code",
   "execution_count": 12,
   "metadata": {},
   "outputs": [
    {
     "name": "stdout",
     "output_type": "stream",
     "text": [
      "10\n"
     ]
    }
   ],
   "source": [
    "lst = [1, [[2,3]], 4]\n",
    "print(recursive_sum(lst))"
   ]
  },
  {
   "cell_type": "markdown",
   "metadata": {},
   "source": [
    "### Completely recursive solution - Sum of nested list"
   ]
  },
  {
   "cell_type": "code",
   "execution_count": 13,
   "metadata": {},
   "outputs": [],
   "source": [
    "# Previously one not completely recursive, because we use for loop\n",
    "\n",
    "def fully_recursive_sum(nested_list):\n",
    "    \n",
    "    # exit condition\n",
    "    if(len(nested_list) == 0):\n",
    "        return 0\n",
    "    \n",
    "    # assign 1st element to head, rest to tail\n",
    "    head, *tail = nested_list\n",
    "    \n",
    "    # check head is list\n",
    "    if( isinstance(head, list) ):\n",
    "       return fully_recursive_sum(head) + fully_recursive_sum(tail)\n",
    "    else:\n",
    "       return head + fully_recursive_sum(tail)\n"
   ]
  },
  {
   "cell_type": "code",
   "execution_count": 14,
   "metadata": {},
   "outputs": [
    {
     "name": "stdout",
     "output_type": "stream",
     "text": [
      "35\n"
     ]
    }
   ],
   "source": [
    "lst = [1, 2, [11, 13], 8]\n",
    "print(fully_recursive_sum(lst))"
   ]
  },
  {
   "cell_type": "code",
   "execution_count": 17,
   "metadata": {},
   "outputs": [
    {
     "name": "stdout",
     "output_type": "stream",
     "text": [
      "35\n"
     ]
    }
   ],
   "source": [
    "lst = [1, [2, [11,13]], 8]\n",
    "print(fully_recursive_sum(lst))"
   ]
  },
  {
   "cell_type": "code",
   "execution_count": 18,
   "metadata": {},
   "outputs": [
    {
     "name": "stdout",
     "output_type": "stream",
     "text": [
      "35\n"
     ]
    }
   ],
   "source": [
    "lst = [1, [[2,11,13]], [8]]\n",
    "print(fully_recursive_sum(lst))"
   ]
  },
  {
   "cell_type": "markdown",
   "metadata": {},
   "source": [
    "## Exercises"
   ]
  },
  {
   "cell_type": "markdown",
   "metadata": {},
   "source": [
    "#### 1. Find the maximum in a nested list\n",
    "#### 2.Generate a Fibonacci sequence 0, 1, 1, 2, 3, 5, 8, 13, 21, 34, 55, 89, 134,...\n",
    "#### 3. Write a function, <i>recursive_min</i>, that returns the smallest value in a nested number list. Assume there are no empty lists or sublists\n",
    "#### 4. Write a function, <i>count</i>, that returns the number of occurrences of target in a nested list\n",
    "#### 5. Write a function, <i>flatten</i>, that returns a simple list containing all the values in a nested list"
   ]
  },
  {
   "cell_type": "code",
   "execution_count": null,
   "metadata": {},
   "outputs": [],
   "source": []
  }
 ],
 "metadata": {
  "kernelspec": {
   "display_name": "Python 3",
   "language": "python",
   "name": "python3"
  },
  "language_info": {
   "codemirror_mode": {
    "name": "ipython",
    "version": 3
   },
   "file_extension": ".py",
   "mimetype": "text/x-python",
   "name": "python",
   "nbconvert_exporter": "python",
   "pygments_lexer": "ipython3",
   "version": "3.7.3"
  }
 },
 "nbformat": 4,
 "nbformat_minor": 2
}
