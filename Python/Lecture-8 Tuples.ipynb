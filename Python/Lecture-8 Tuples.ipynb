{
 "cells": [
  {
   "cell_type": "markdown",
   "metadata": {},
   "source": [
    "# Lecture-8 Tuples"
   ]
  },
  {
   "cell_type": "markdown",
   "metadata": {},
   "source": [
    "Used to group data"
   ]
  },
  {
   "cell_type": "markdown",
   "metadata": {},
   "source": [
    "### Creating tuples"
   ]
  },
  {
   "cell_type": "code",
   "execution_count": 4,
   "metadata": {},
   "outputs": [
    {
     "name": "stdout",
     "output_type": "stream",
     "text": [
      "()\n"
     ]
    }
   ],
   "source": [
    "student = ()  #empty\n",
    "print(student)"
   ]
  },
  {
   "cell_type": "code",
   "execution_count": 5,
   "metadata": {},
   "outputs": [
    {
     "name": "stdout",
     "output_type": "stream",
     "text": [
      "(1, 'Peter', 'Trichy')\n"
     ]
    }
   ],
   "source": [
    "student = 1, 'Peter', 'Trichy'  # pack it\n",
    "print(student)"
   ]
  },
  {
   "cell_type": "code",
   "execution_count": 19,
   "metadata": {},
   "outputs": [],
   "source": [
    "student = (1, 'Peter', 'Trichy')"
   ]
  },
  {
   "cell_type": "code",
   "execution_count": 20,
   "metadata": {},
   "outputs": [
    {
     "name": "stdout",
     "output_type": "stream",
     "text": [
      "(1, 'Peter', 'Trichy')\n"
     ]
    }
   ],
   "source": [
    "print(student)"
   ]
  },
  {
   "cell_type": "code",
   "execution_count": 21,
   "metadata": {},
   "outputs": [
    {
     "name": "stdout",
     "output_type": "stream",
     "text": [
      "(1, 'Peter', 'Trichy')\n"
     ]
    }
   ],
   "source": [
    "student2 = (1,) #comma compulsary\n",
    "print(student)"
   ]
  },
  {
   "cell_type": "code",
   "execution_count": 22,
   "metadata": {},
   "outputs": [
    {
     "name": "stdout",
     "output_type": "stream",
     "text": [
      "Peter\n"
     ]
    }
   ],
   "source": [
    "# indexed by integer value\n",
    "print(student[1])"
   ]
  },
  {
   "cell_type": "code",
   "execution_count": 23,
   "metadata": {},
   "outputs": [
    {
     "name": "stdout",
     "output_type": "stream",
     "text": [
      "(1, 'Peter', 'Trichy', 'peter@bhc.edu', '9942002764')\n"
     ]
    }
   ],
   "source": [
    "# add item to tuples\n",
    "student += ('peter@bhc.edu', '9942002764')\n",
    "print(student)"
   ]
  },
  {
   "cell_type": "code",
   "execution_count": 25,
   "metadata": {},
   "outputs": [],
   "source": [
    "# Immutable, you cannot modify\n",
    "#student[1] = 'Rex'"
   ]
  },
  {
   "cell_type": "code",
   "execution_count": 49,
   "metadata": {},
   "outputs": [
    {
     "name": "stdout",
     "output_type": "stream",
     "text": [
      "(38, 35, 36)\n"
     ]
    }
   ],
   "source": [
    "temperatures = (40, 39, 40, 38, 35, 36, 41)\n",
    "#slice it\n",
    "wed_fri = temperatures[3:6]\n",
    "print(wed_fri)"
   ]
  },
  {
   "cell_type": "markdown",
   "metadata": {},
   "source": [
    "### Tuple Unpacking"
   ]
  },
  {
   "cell_type": "code",
   "execution_count": 7,
   "metadata": {},
   "outputs": [],
   "source": [
    "(rollno, name, city) = student #equalant to multiple assignment statements"
   ]
  },
  {
   "cell_type": "code",
   "execution_count": 8,
   "metadata": {},
   "outputs": [
    {
     "name": "stdout",
     "output_type": "stream",
     "text": [
      "Roll No:  1  Name:  Peter  City:  Trichy\n"
     ]
    }
   ],
   "source": [
    "print('Roll No: ', rollno, ' Name: ', name, ' City: ', city)"
   ]
  },
  {
   "cell_type": "code",
   "execution_count": 11,
   "metadata": {},
   "outputs": [
    {
     "name": "stdout",
     "output_type": "stream",
     "text": [
      "20 10\n"
     ]
    }
   ],
   "source": [
    "# swapping values of two variables\n",
    "a = 10\n",
    "b = 20\n",
    "(a, b) = (b, a)\n",
    "# a, b = b, a\n",
    "print(a, b)"
   ]
  },
  {
   "cell_type": "markdown",
   "metadata": {},
   "source": [
    "### Tuples can return multiple values"
   ]
  },
  {
   "cell_type": "code",
   "execution_count": 14,
   "metadata": {},
   "outputs": [],
   "source": [
    "import math\n",
    "\n",
    "def circle_stats(r):\n",
    "    \"\"\" Return (circumference, area) of a circle of radius r \"\"\"\n",
    "    circumference = 2 * math.pi * r\n",
    "    area = math.pi * r * r\n",
    "    return (circumference, area)"
   ]
  },
  {
   "cell_type": "code",
   "execution_count": 20,
   "metadata": {},
   "outputs": [
    {
     "name": "stdout",
     "output_type": "stream",
     "text": [
      "Circumference: 62.832 Area: 314.159\n"
     ]
    }
   ],
   "source": [
    "# call it\n",
    "radius = 10.0\n",
    "(c, a) = circle_stats(radius)\n",
    "print('Circumference: %.3f Area: %.3f' %(c,a))"
   ]
  },
  {
   "cell_type": "markdown",
   "metadata": {},
   "source": [
    "### Tuple items can be tuples too"
   ]
  },
  {
   "cell_type": "code",
   "execution_count": 21,
   "metadata": {},
   "outputs": [],
   "source": [
    "student = (1, 'Tom', (85, 90, 95))"
   ]
  },
  {
   "cell_type": "code",
   "execution_count": 22,
   "metadata": {},
   "outputs": [
    {
     "name": "stdout",
     "output_type": "stream",
     "text": [
      "(1, 'Tom', (85, 90, 95))\n"
     ]
    }
   ],
   "source": [
    "print(student)"
   ]
  },
  {
   "cell_type": "markdown",
   "metadata": {},
   "source": [
    "### function to find average marks"
   ]
  },
  {
   "cell_type": "code",
   "execution_count": 29,
   "metadata": {},
   "outputs": [],
   "source": [
    "def stud_avg(student):\n",
    "    \n",
    "    #unpack it\n",
    "    roll, name, marks = student\n",
    "    m1, m2, m3 = marks\n",
    "    \n",
    "    avg = (m1+ m2 + m3)/3\n",
    "    print(\"Roll No: \", roll, ' Name:', name, ' Average: ', avg)\n"
   ]
  },
  {
   "cell_type": "code",
   "execution_count": 30,
   "metadata": {},
   "outputs": [
    {
     "name": "stdout",
     "output_type": "stream",
     "text": [
      "Roll No:  1  Name: Sam  Average:  90.0\n"
     ]
    }
   ],
   "source": [
    "# call it\n",
    "stud = (1, 'Sam', (85, 90, 95)) \n",
    "stud_avg(stud)"
   ]
  },
  {
   "cell_type": "markdown",
   "metadata": {},
   "source": [
    "### Tuple item can be a list"
   ]
  },
  {
   "cell_type": "code",
   "execution_count": 26,
   "metadata": {},
   "outputs": [],
   "source": [
    "student = (1, 'Rex', [85, 90, 95])"
   ]
  },
  {
   "cell_type": "code",
   "execution_count": 27,
   "metadata": {},
   "outputs": [
    {
     "name": "stdout",
     "output_type": "stream",
     "text": [
      "(1, 'Rex', [85, 90, 95])\n"
     ]
    }
   ],
   "source": [
    "print(student)"
   ]
  },
  {
   "cell_type": "code",
   "execution_count": 28,
   "metadata": {},
   "outputs": [
    {
     "name": "stdout",
     "output_type": "stream",
     "text": [
      "85\n"
     ]
    }
   ],
   "source": [
    "# double index to access list elements\n",
    "print(student[2][0])"
   ]
  },
  {
   "cell_type": "markdown",
   "metadata": {},
   "source": [
    "#### Unpack a list"
   ]
  },
  {
   "cell_type": "code",
   "execution_count": 54,
   "metadata": {},
   "outputs": [
    {
     "name": "stdout",
     "output_type": "stream",
     "text": [
      "10 25 75\n"
     ]
    }
   ],
   "source": [
    "lst = [10,25,75]\n",
    "m1, m2, m3 = lst # brackets are optional\n",
    "print(m1, m2, m3)"
   ]
  },
  {
   "cell_type": "markdown",
   "metadata": {},
   "source": [
    "### Modify stud_avg() to find average for the student tuple"
   ]
  },
  {
   "cell_type": "code",
   "execution_count": 35,
   "metadata": {},
   "outputs": [],
   "source": [
    "def stud_avg2(student):\n",
    "    \n",
    "    #unpack it\n",
    "    roll, name, marks = student\n",
    "\n",
    "    total = 0\n",
    "    for mark in marks:\n",
    "        total += mark\n",
    "    \n",
    "    avg = total / len(marks)\n",
    "    print(\"Roll No: \", roll, ' Name:', name, ' Average: ', avg)"
   ]
  },
  {
   "cell_type": "code",
   "execution_count": 37,
   "metadata": {},
   "outputs": [
    {
     "name": "stdout",
     "output_type": "stream",
     "text": [
      "Roll No:  1  Name: Rita  Average:  90.0\n"
     ]
    }
   ],
   "source": [
    "# call it\n",
    "student = (1, 'Rita', [85, 90, 95])\n",
    "stud_avg2(student)"
   ]
  },
  {
   "cell_type": "code",
   "execution_count": 38,
   "metadata": {},
   "outputs": [
    {
     "name": "stdout",
     "output_type": "stream",
     "text": [
      "Roll No:  2  Name: Sweeta  Average:  85.0\n"
     ]
    }
   ],
   "source": [
    "# with many marks\n",
    "stud2 = (2, 'Sweeta', [85, 90, 95, 80, 75])\n",
    "stud_avg2(stud2)"
   ]
  },
  {
   "cell_type": "markdown",
   "metadata": {},
   "source": [
    "### You can create list of students"
   ]
  },
  {
   "cell_type": "code",
   "execution_count": 45,
   "metadata": {},
   "outputs": [],
   "source": [
    "students_list = [(1, 'Rita', [85, 90, 95]), \n",
    "                 (2, 'Sweeta', [85, 90, 95, 80, 75]),\n",
    "                 (3, 'Annette', [50, 60, 70, 80])]"
   ]
  },
  {
   "cell_type": "code",
   "execution_count": 46,
   "metadata": {},
   "outputs": [
    {
     "name": "stdout",
     "output_type": "stream",
     "text": [
      "[(1, 'Rita', [85, 90, 95]), (2, 'Sweeta', [85, 90, 95, 80, 75]), (3, 'Annette', [50, 60, 70, 80])]\n"
     ]
    }
   ],
   "source": [
    "print(students_list)"
   ]
  },
  {
   "cell_type": "markdown",
   "metadata": {},
   "source": [
    "### Modify stud_avg2() to process the list of students"
   ]
  },
  {
   "cell_type": "code",
   "execution_count": 43,
   "metadata": {},
   "outputs": [],
   "source": [
    "def stud_avg3(students):\n",
    "    ''' student is the list of tuples'''\n",
    "    \n",
    "    for student in students:\n",
    "        \n",
    "        #unpack it\n",
    "        roll, name, marks = student\n",
    "        \n",
    "        total = 0\n",
    "        for mark in marks:\n",
    "            total += mark    \n",
    "            \n",
    "        avg = total / len(marks)\n",
    "        print(\"Roll No: \", roll, ' Name:', name, ' Average: ', avg)\n"
   ]
  },
  {
   "cell_type": "code",
   "execution_count": 47,
   "metadata": {},
   "outputs": [
    {
     "name": "stdout",
     "output_type": "stream",
     "text": [
      "Roll No:  1  Name: Rita  Average:  90.0\n",
      "Roll No:  2  Name: Sweeta  Average:  85.0\n",
      "Roll No:  3  Name: Annette  Average:  65.0\n"
     ]
    }
   ],
   "source": [
    "#call it\n",
    "stud_avg3(students_list)"
   ]
  },
  {
   "cell_type": "markdown",
   "metadata": {},
   "source": [
    "### Comparing tuples"
   ]
  },
  {
   "cell_type": "code",
   "execution_count": 50,
   "metadata": {},
   "outputs": [
    {
     "data": {
      "text/plain": [
       "True"
      ]
     },
     "execution_count": 50,
     "metadata": {},
     "output_type": "execute_result"
    }
   ],
   "source": [
    "(0, 1, 2) < (0, 3, 4)"
   ]
  },
  {
   "cell_type": "code",
   "execution_count": 51,
   "metadata": {},
   "outputs": [
    {
     "data": {
      "text/plain": [
       "False"
      ]
     },
     "execution_count": 51,
     "metadata": {},
     "output_type": "execute_result"
    }
   ],
   "source": [
    "(0, 10, 2) < (0, 3, 4)"
   ]
  },
  {
   "cell_type": "code",
   "execution_count": 52,
   "metadata": {},
   "outputs": [
    {
     "data": {
      "text/plain": [
       "True"
      ]
     },
     "execution_count": 52,
     "metadata": {},
     "output_type": "execute_result"
    }
   ],
   "source": [
    "(0, 1, 200000) < (0, 3, 4)"
   ]
  },
  {
   "cell_type": "markdown",
   "metadata": {},
   "source": [
    "### Walk Through: Print sorted list based on word length"
   ]
  },
  {
   "cell_type": "markdown",
   "metadata": {},
   "source": [
    "text = 'hello c fine cpp' <br>\n",
    "Output (increasing order): <br>\n",
    "c <br>\n",
    "cpp <br>\n",
    "fine <br>\n",
    "hello <br>"
   ]
  },
  {
   "cell_type": "code",
   "execution_count": 60,
   "metadata": {},
   "outputs": [],
   "source": [
    "def sort_words(text):\n",
    "    \n",
    "    #split words\n",
    "    words = txt.split()\n",
    "    t = list()\n",
    "    \n",
    "    # append words with their length, t contains set of tuples\n",
    "    for word in words:\n",
    "        t.append((len(word), word))\n",
    "    \n",
    "    # sort set of tuples in increasing order of length\n",
    "    #t.sort()\n",
    "    \n",
    "    # sort set of tuples in decreasing order\n",
    "    t.sort(reverse=True)\n",
    "    \n",
    "    res = list()\n",
    "    \n",
    "    # unpack it\n",
    "    for length, word in t:\n",
    "        res.append(word)\n",
    "    \n",
    "    print(res)"
   ]
  },
  {
   "cell_type": "code",
   "execution_count": 61,
   "metadata": {},
   "outputs": [
    {
     "name": "stdout",
     "output_type": "stream",
     "text": [
      "['yonder', 'window', 'breaks', 'light', 'what', 'soft', 'but', 'in']\n"
     ]
    }
   ],
   "source": [
    "text = 'but soft what light in yonder window breaks'\n",
    "sort_words(text)"
   ]
  },
  {
   "cell_type": "code",
   "execution_count": null,
   "metadata": {},
   "outputs": [],
   "source": []
  },
  {
   "cell_type": "markdown",
   "metadata": {},
   "source": [
    "### Exercises"
   ]
  },
  {
   "cell_type": "markdown",
   "metadata": {},
   "source": [
    "\"resultswnames.txt\"\n",
    "Johnny \t8.65\n",
    "Juan \t9.12\n",
    "Joseph \t8.45\n",
    "Stacey \t7.81\n",
    "Nideen \t8.05\n",
    "Zack \t7.21\n",
    "Aaron \t8.31"
   ]
  },
  {
   "cell_type": "code",
   "execution_count": 2,
   "metadata": {},
   "outputs": [
    {
     "name": "stdout",
     "output_type": "stream",
     "text": [
      "1. Zack 9.12\n",
      "2. Stacey 8.65\n",
      "3. Nideen 8.45\n"
     ]
    }
   ],
   "source": [
    "# Purpose:\tSorts the scores and names from the text file.\n",
    "\n",
    "file_handle = open(\"resultswnames.txt\")\n",
    "\n",
    "scores = []\n",
    "names = []\n",
    "\n",
    "for line in file_handle:\n",
    "\tname, score = line.split()\n",
    "\tnames.append(name)\n",
    "\t\n",
    "\tscore = float(score)\n",
    "\tscores.append(score)\n",
    "\t\n",
    "file_handle.close()\n",
    "\n",
    "scores.sort(reverse = True)\n",
    "names.sort(reverse = True)\n",
    "\n",
    "for i in range(0, 3):\n",
    "\tprint(str(i+1) + \".\", names[i], scores[i])"
   ]
  },
  {
   "cell_type": "code",
   "execution_count": null,
   "metadata": {},
   "outputs": [],
   "source": []
  }
 ],
 "metadata": {
  "kernelspec": {
   "display_name": "Python 3",
   "language": "python",
   "name": "python3"
  },
  "language_info": {
   "codemirror_mode": {
    "name": "ipython",
    "version": 3
   },
   "file_extension": ".py",
   "mimetype": "text/x-python",
   "name": "python",
   "nbconvert_exporter": "python",
   "pygments_lexer": "ipython3",
   "version": "3.7.3"
  }
 },
 "nbformat": 4,
 "nbformat_minor": 2
}
