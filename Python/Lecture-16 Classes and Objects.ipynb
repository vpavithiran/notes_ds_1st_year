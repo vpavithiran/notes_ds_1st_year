{
 "cells": [
  {
   "cell_type": "markdown",
   "metadata": {},
   "source": [
    "# Lecture-16 Object Oriented Analysis and Design"
   ]
  },
  {
   "cell_type": "markdown",
   "metadata": {},
   "source": [
    "### Class and Object"
   ]
  },
  {
   "cell_type": "markdown",
   "metadata": {},
   "source": [
    "#### Template for a real world thing. It can abstract states and behavious of things"
   ]
  },
  {
   "cell_type": "code",
   "execution_count": 1,
   "metadata": {},
   "outputs": [
    {
     "name": "stdout",
     "output_type": "stream",
     "text": [
      "Color:  red Message: Apple a day keeps the doctor away\n"
     ]
    }
   ],
   "source": [
    "class Apple(object):\n",
    "    \n",
    "    # constructor initializes instance variables and \n",
    "    # are automatically called, when object is created\n",
    "    def __init__(self):\n",
    "        self.color = 'red'\n",
    "    \n",
    "    def show(self):\n",
    "        print('Color: ', self.color, 'Message: Apple a day keeps the doctor away')\n",
    "\n",
    "# create and call method\n",
    "a = Apple()\n",
    "a.show()"
   ]
  },
  {
   "cell_type": "markdown",
   "metadata": {},
   "source": [
    "### Constructor can have arguments"
   ]
  },
  {
   "cell_type": "code",
   "execution_count": 2,
   "metadata": {},
   "outputs": [],
   "source": [
    "class Apple(object):\n",
    "    \n",
    "    def __init__(self, n):   # initialize with constructor\n",
    "        self.name = n\n",
    "        self.color = 'red'\n",
    "    \n",
    "    def show(self):\n",
    "        print('Name: ', self.name, ' Color: ', self.color)\n"
   ]
  },
  {
   "cell_type": "code",
   "execution_count": 3,
   "metadata": {},
   "outputs": [
    {
     "name": "stdout",
     "output_type": "stream",
     "text": [
      "Name:  Royal  Color:  red\n",
      "Name:  Kashmir  Color:  red\n"
     ]
    }
   ],
   "source": [
    "# create 2 objects and provide values to constructor\n",
    "royal = Apple(\"Royal\")\n",
    "kashmir = Apple('Kashmir')\n",
    "\n",
    "# call instance methods with dot\n",
    "royal.show()\n",
    "kashmir.show()"
   ]
  },
  {
   "cell_type": "markdown",
   "metadata": {},
   "source": [
    "#### Walk Through: Create a class Student with instance variables rollno, name, class. Use init() to initialize them. Define a method display() to print their details"
   ]
  },
  {
   "cell_type": "markdown",
   "metadata": {},
   "source": [
    "### Object Life Cycle - constructor and destructor"
   ]
  },
  {
   "cell_type": "code",
   "execution_count": 4,
   "metadata": {},
   "outputs": [],
   "source": [
    "class Bank(object):\n",
    "    total_branches = 0\n",
    "    \n",
    "    def __init__(self):\n",
    "        print('Bank object is constructed')\n",
    "        \n",
    "    def open_branch(self, city) :\n",
    "        self.branch = city\n",
    "        Bank.total_branches += 1\n",
    "        print('Branch opened at ', self.branch)\n",
    "        print('Total branches opened so far is ', Bank.total_branches)\n",
    "        \n",
    "    def __del__(self):\n",
    "        print('Bank object is destructed')"
   ]
  },
  {
   "cell_type": "markdown",
   "metadata": {},
   "source": [
    "### Song class"
   ]
  },
  {
   "cell_type": "code",
   "execution_count": 5,
   "metadata": {},
   "outputs": [
    {
     "name": "stdout",
     "output_type": "stream",
     "text": [
      "Happy birthday to you\n",
      "Happy birthday to you\n",
      "Happy birthday to dear RK\n",
      "Happy birthday to you\n",
      "\n",
      "London Bridge is falling down\n",
      "Falling down, falling down\n",
      "London Bridge is falling down\n",
      "My fair lady\n",
      "\n"
     ]
    }
   ],
   "source": [
    "class Song(object):\n",
    "    \n",
    "    def __init__(self, lyric):\n",
    "        self.lyrics = lyric\n",
    "    \n",
    "    def singSong(self):\n",
    "        for line in self.lyrics:\n",
    "            print(line)\n",
    "\n",
    "happy_birthday = Song(['Happy birthday to you', 'Happy birthday to you',\n",
    "                      'Happy birthday to dear RK', 'Happy birthday to you\\n'])\n",
    "\n",
    "london_bridges = Song(['London Bridge is falling down', 'Falling down, falling down', \n",
    "                       'London Bridge is falling down', 'My fair lady\\n'])\n",
    "\n",
    "happy_birthday.singSong()\n",
    "london_bridges.singSong()"
   ]
  },
  {
   "cell_type": "markdown",
   "metadata": {},
   "source": [
    "### Walk Through"
   ]
  },
  {
   "cell_type": "markdown",
   "metadata": {},
   "source": [
    "#### 1. Create 2 more songs and sing them\n",
    "#### 2. Put the lyrics in a separate variable, then pass that variable to the class to use instead\n",
    "#### 3. Add one more method and call it"
   ]
  },
  {
   "cell_type": "markdown",
   "metadata": {},
   "source": [
    "### Instances can be arguments of functions"
   ]
  },
  {
   "cell_type": "code",
   "execution_count": 6,
   "metadata": {},
   "outputs": [],
   "source": [
    "# create Apple class\n",
    "class Apple(object):\n",
    "    \n",
    "    # constructor is automatically called, when object is created\n",
    "    def __init__(self, c):\n",
    "        self.color = c\n",
    "    \n",
    "    def taste(self):\n",
    "        return self.color + ' apple tastes good' "
   ]
  },
  {
   "cell_type": "code",
   "execution_count": 7,
   "metadata": {},
   "outputs": [
    {
     "name": "stdout",
     "output_type": "stream",
     "text": [
      "red apple tastes good\n"
     ]
    }
   ],
   "source": [
    "# method receives Apple instance\n",
    "def eat(apple):\n",
    "    print(apple.taste())\n",
    "    \n",
    "# instantiate Apple class\n",
    "apple1 = Apple('red')\n",
    "\n",
    "# call eat()\n",
    "eat(apple1)   "
   ]
  },
  {
   "cell_type": "markdown",
   "metadata": {},
   "source": [
    "### Instances can return values"
   ]
  },
  {
   "cell_type": "code",
   "execution_count": 8,
   "metadata": {},
   "outputs": [
    {
     "name": "stdout",
     "output_type": "stream",
     "text": [
      "green apple tastes good\n"
     ]
    }
   ],
   "source": [
    "# method returns Apple instance\n",
    "def getApple():\n",
    "    apple = Apple('green')\n",
    "    return apple\n",
    "\n",
    "# receive an apple object\n",
    "apple2 = getApple()\n",
    "eat(apple2)"
   ]
  },
  {
   "cell_type": "markdown",
   "metadata": {},
   "source": [
    "### Walkthrouth: BankAccount class"
   ]
  },
  {
   "cell_type": "code",
   "execution_count": 9,
   "metadata": {},
   "outputs": [],
   "source": [
    "class BankAccount(object):\n",
    "    \n",
    "    def __init__(self, name1):\n",
    "        self.balance = 0.0\n",
    "        self.name = name1\n",
    "        \n",
    "    def credit(self, amt):\n",
    "        self.balance += amt\n",
    "        print(self.name, ' account : ', amt, ' is credited.', ' Current balance: ', self.balance)\n",
    "        \n",
    "    def debit(self, amt):\n",
    "        self.balance -= amt\n",
    "        print(self.name, ' account : ', amt, ' is debited.', ' Current balance: ', self.balance)\n"
   ]
  },
  {
   "cell_type": "code",
   "execution_count": 10,
   "metadata": {},
   "outputs": [
    {
     "name": "stdout",
     "output_type": "stream",
     "text": [
      "John  account :  10000  is credited.  Current balance:  10000.0\n",
      "John  account :  500  is debited.  Current balance:  9500.0\n",
      "John  account :  2000  is credited.  Current balance:  11500.0\n"
     ]
    }
   ],
   "source": [
    "# create bank accounts\n",
    "a1 = BankAccount('John')\n",
    "a2 = BankAccount('Rita')\n",
    "\n",
    "a1.credit(10000)\n",
    "a1.debit(500)\n",
    "a1.credit(2000)\n",
    "\n",
    "# Similarly perform transactions for 'Rita"
   ]
  },
  {
   "cell_type": "markdown",
   "metadata": {},
   "source": [
    "### Walk Through"
   ]
  },
  {
   "cell_type": "markdown",
   "metadata": {},
   "source": [
    "#### 1: Remove print statements from credit() and debit() methods and define a new method show_balance() that displays the current balance"
   ]
  },
  {
   "cell_type": "markdown",
   "metadata": {},
   "source": [
    "#### 2: Modify the above code by adding instance variable accountno in init(). Include values for accountno while creating objects"
   ]
  },
  {
   "cell_type": "markdown",
   "metadata": {},
   "source": [
    "#### 3: Create a class Customer with instance variables accountno, name and address inside init()."
   ]
  },
  {
   "cell_type": "markdown",
   "metadata": {},
   "source": [
    "### Class variables"
   ]
  },
  {
   "cell_type": "markdown",
   "metadata": {},
   "source": [
    "#### Class variables belong to class and not instances. So all instances can access the same class variable. It is also called static variables"
   ]
  },
  {
   "cell_type": "code",
   "execution_count": 11,
   "metadata": {},
   "outputs": [
    {
     "name": "stdout",
     "output_type": "stream",
     "text": [
      "Tommy\n",
      "Shinny\n",
      "Raja Palayam\n",
      "Raja Palayam\n"
     ]
    }
   ],
   "source": [
    "# Simple example\n",
    "\n",
    "class Dog(object):\n",
    "    kind = 'Raja Palayam'\n",
    "    \n",
    "    def __init__(self, name):\n",
    "        self.name = name\n",
    "\n",
    "# instantiate Dog\n",
    "d1 = Dog('Tommy')\n",
    "d2 = Dog('Shinny')\n",
    "\n",
    "print(d1.name)\n",
    "print(d2.name)\n",
    "\n",
    "print(d1.kind)\n",
    "print(d2.kind)"
   ]
  },
  {
   "cell_type": "markdown",
   "metadata": {},
   "source": [
    "#### Another Example"
   ]
  },
  {
   "cell_type": "code",
   "execution_count": 12,
   "metadata": {},
   "outputs": [],
   "source": [
    "class Transaction(object):\n",
    "    #class variable\n",
    "    trans_count = 0\n",
    "    \n",
    "    def transact(self):\n",
    "        Transaction.trans_count += 1\n",
    "        print(' Total no of transaction happend in our bank so far is ', Transaction.trans_count)\n"
   ]
  },
  {
   "cell_type": "code",
   "execution_count": 13,
   "metadata": {},
   "outputs": [
    {
     "name": "stdout",
     "output_type": "stream",
     "text": [
      " Total no of transaction happend in our bank so far is  1\n",
      " Total no of transaction happend in our bank so far is  2\n"
     ]
    }
   ],
   "source": [
    "# instantiate \n",
    "john = Transaction()\n",
    "rita = Transaction()\n",
    "\n",
    "# John performs transaction using ATM, bank or online banking\n",
    "john.transact()\n",
    "rita.transact()"
   ]
  },
  {
   "cell_type": "code",
   "execution_count": 14,
   "metadata": {},
   "outputs": [
    {
     "name": "stdout",
     "output_type": "stream",
     "text": [
      "Bank object is constructed\n",
      "Branch opened at  Trichy\n",
      "Total branches opened so far is  1\n"
     ]
    }
   ],
   "source": [
    "# instantiate Bank class\n",
    "sbi = Bank()\n",
    "sbi.open_branch('Trichy')\n",
    "\n",
    "# create more branches\n",
    "# sbi = None  # it destructs object sbi\n",
    "\n",
    "# create another bank pnb\n",
    "# open branches for pnb\n",
    "# discard pnb object"
   ]
  },
  {
   "cell_type": "markdown",
   "metadata": {},
   "source": [
    "#### Walk Through: Practice more transact()"
   ]
  },
  {
   "cell_type": "markdown",
   "metadata": {},
   "source": [
    "### Class Methods and Static Methods"
   ]
  },
  {
   "cell_type": "code",
   "execution_count": 15,
   "metadata": {},
   "outputs": [],
   "source": [
    "class Bank(object):\n",
    "    \n",
    "    rbi_deposit = 100\n",
    "    \n",
    "    def __init__(self, name):\n",
    "        self.name = name\n",
    "        self.total_branches = 0\n",
    "        \n",
    "    @classmethod\n",
    "    def get_approval(cls, amt):\n",
    "        approved = False\n",
    "        if amt == Bank.rbi_deposit:\n",
    "            approved = True            \n",
    "        return approved\n",
    "    \n",
    "    @staticmethod\n",
    "    def is_license_valid(years):\n",
    "        return years<10\n",
    "    \n",
    "        \n",
    "    def open_branch(self, city): ## 100 crore for approval\n",
    "        \n",
    "        amount = 100\n",
    "        \n",
    "        if Bank.get_approval(amount):\n",
    "            self.branch = city\n",
    "            self.total_branches += 1\n",
    "            print('For ', self.name, ', branch opened at ', self.branch)\n",
    "            print('Total branches opened far ', self.name , ' is ', self.total_branches)\n",
    "        else:\n",
    "            print('RBI did not approve new branch for ', self.name)\n"
   ]
  },
  {
   "cell_type": "code",
   "execution_count": 16,
   "metadata": {},
   "outputs": [
    {
     "name": "stdout",
     "output_type": "stream",
     "text": [
      "For  PNB , branch opened at  Trichy\n",
      "Total branches opened far  PNB  is  1\n",
      "For  PNB , branch opened at  Chennai\n",
      "Total branches opened far  PNB  is  2\n",
      "For  PNB , branch opened at  Covai\n",
      "Total branches opened far  PNB  is  3\n",
      "For  PNB  license valid is  True\n",
      "Bank object is destructed\n",
      "For  SBI , branch opened at  Trichy\n",
      "Total branches opened far  SBI  is  1\n",
      "For  SBI , branch opened at  Chennai\n",
      "Total branches opened far  SBI  is  2\n",
      "For  SBI  license valid is  False\n"
     ]
    }
   ],
   "source": [
    "# instantiate Bank\n",
    "pnb = Bank('PNB')\n",
    "pnb.open_branch('Trichy')\n",
    "pnb.open_branch('Chennai')\n",
    "pnb.open_branch('Covai')\n",
    "print('For ', pnb.name, ' license valid is ', Bank.is_license_valid(9))\n",
    "\n",
    "sbi = Bank('SBI')\n",
    "sbi.open_branch('Trichy')\n",
    "sbi.open_branch('Chennai')\n",
    "print('For ', sbi.name, ' license valid is ', Bank.is_license_valid(14))"
   ]
  },
  {
   "cell_type": "markdown",
   "metadata": {},
   "source": [
    "### Inheritance "
   ]
  },
  {
   "cell_type": "markdown",
   "metadata": {},
   "source": [
    "#### Class accessing data and functions of parent class. It defines IS-A relationship"
   ]
  },
  {
   "cell_type": "code",
   "execution_count": 17,
   "metadata": {},
   "outputs": [
    {
     "name": "stdout",
     "output_type": "stream",
     "text": [
      "Transacted using ATM card\n",
      "Total no of transaction happend in our bank so far is  1\n",
      "Transacted in the bank branch\n",
      " Total no of transaction happend in our bank so far is  2\n",
      "Transacted using ATM card\n",
      "Total no of transaction happend in our bank so far is  3\n",
      "Transacted in the bank branch\n",
      " Total no of transaction happend in our bank so far is  4\n"
     ]
    }
   ],
   "source": [
    "class Transaction(object):\n",
    "    #class variable\n",
    "    trans_count = 0\n",
    "    \n",
    "    def transact(self):\n",
    "        print('Transacted in the bank branch')\n",
    "        Transaction.trans_count += 1\n",
    "        print(' Total no of transaction happend in our bank so far is ', Transaction.trans_count)\n",
    "\n",
    "class ATMTransaction(Transaction):\n",
    "    \n",
    "    def card_transact(self):\n",
    "        print('Transacted using ATM card')\n",
    "        Transaction.trans_count += 1\n",
    "        print('Total no of transaction happend in our bank so far is ', Transaction.trans_count)\n",
    "\n",
    "t1 = ATMTransaction()\n",
    "t1.card_transact()\n",
    "t1.transact()\n",
    "\n",
    "t2 = ATMTransaction()\n",
    "t2.card_transact()\n",
    "t2.transact()"
   ]
  },
  {
   "cell_type": "markdown",
   "metadata": {},
   "source": [
    "### Walk Through"
   ]
  },
  {
   "cell_type": "markdown",
   "metadata": {},
   "source": [
    "##### Create a class Fruit that initializes instance variable size=10. It defines a method taste() that returns a string 'so sweet'. Create a child class Apple that defines a method getcolor() that returns a color, say 'red'. Instantiate Apple class and create an object 'a'. With instance 'a', call both methods and also print the value of the variable size"
   ]
  },
  {
   "cell_type": "code",
   "execution_count": 18,
   "metadata": {},
   "outputs": [
    {
     "name": "stdout",
     "output_type": "stream",
     "text": [
      "red\n",
      "So sweet\n",
      "10\n"
     ]
    }
   ],
   "source": [
    "class Fruit(object):\n",
    "    \n",
    "    def __init__(self):\n",
    "        self.size = 10\n",
    "    \n",
    "    def taste(self):\n",
    "        return 'So sweet'\n",
    "\n",
    "class Apple(Fruit):\n",
    "    def getcolor(self):\n",
    "        return 'red'\n",
    "\n",
    "# create object for Apple\n",
    "a = Apple()\n",
    "\n",
    "# call methods\n",
    "print(a.getcolor())\n",
    "print(a.taste())\n",
    "\n",
    "# you can call base class's variable also\n",
    "print(a.size)"
   ]
  },
  {
   "cell_type": "code",
   "execution_count": null,
   "metadata": {},
   "outputs": [],
   "source": []
  },
  {
   "cell_type": "markdown",
   "metadata": {},
   "source": [
    "### Overriding"
   ]
  },
  {
   "cell_type": "markdown",
   "metadata": {},
   "source": [
    "#### Child class defining a method as same as parent class's method. It is a way of achieving Polymorphism"
   ]
  },
  {
   "cell_type": "code",
   "execution_count": 19,
   "metadata": {},
   "outputs": [
    {
     "name": "stdout",
     "output_type": "stream",
     "text": [
      "Inside Parent override() function\n",
      "Inside Child override() function\n"
     ]
    }
   ],
   "source": [
    "## create Parent class with a method override()\n",
    "class Parent(object):\n",
    "    \n",
    "    def override(self):\n",
    "        print('Inside Parent override() function')\n",
    "\n",
    "## create child class with the same name override() but different body\n",
    "class Child(Parent):\n",
    "    \n",
    "    def override(self):\n",
    "        print('Inside Child override() function')\n",
    "\n",
    "# instantiate parent class and call its method\n",
    "dad = Parent()\n",
    "dad.override()\n",
    "\n",
    "# instantiate child class and call its method\n",
    "son = Child()\n",
    "son.override()"
   ]
  },
  {
   "cell_type": "markdown",
   "metadata": {},
   "source": [
    "### Call base class's overridden method using super()"
   ]
  },
  {
   "cell_type": "code",
   "execution_count": 20,
   "metadata": {},
   "outputs": [
    {
     "name": "stdout",
     "output_type": "stream",
     "text": [
      "Inside Parent override() function\n",
      "Inside Child override() function\n",
      "Inside Parent override() function\n"
     ]
    }
   ],
   "source": [
    "class Parent(object):\n",
    "    \n",
    "    def override(self):\n",
    "        print('Inside Parent override() function')\n",
    "\n",
    "class Child(Parent):\n",
    "    \n",
    "    def override(self):\n",
    "        print('Inside Child override() function')\n",
    "        super(Child, self).override()\n",
    "\n",
    "dad = Parent()\n",
    "dad.override()\n",
    "\n",
    "son = Child()\n",
    "son.override()\n"
   ]
  },
  {
   "cell_type": "markdown",
   "metadata": {},
   "source": [
    "### Multiple inheritance"
   ]
  },
  {
   "cell_type": "markdown",
   "metadata": {},
   "source": [
    "#### Child class can inherit two or more Parent classes"
   ]
  },
  {
   "cell_type": "code",
   "execution_count": 21,
   "metadata": {},
   "outputs": [
    {
     "name": "stdout",
     "output_type": "stream",
     "text": [
      "Every Fruit has color\n",
      "Every Food has energy\n",
      "Apple is healthy\n"
     ]
    }
   ],
   "source": [
    "class Fruit(object):\n",
    "    def color(self):\n",
    "        print('Every Fruit has color')\n",
    "\n",
    "class Food(object):\n",
    "    def energy(self):\n",
    "        print('Every Food has energy')\n",
    "\n",
    "class Apple(Fruit, Food):  # inherits from Fruit and Food\n",
    "    def healthy(self):\n",
    "        print('Apple is healthy')\n",
    "\n",
    "a = Apple()\n",
    "a.color()\n",
    "a.energy()\n",
    "a.healthy()"
   ]
  },
  {
   "cell_type": "markdown",
   "metadata": {},
   "source": [
    "### Another Example"
   ]
  },
  {
   "cell_type": "code",
   "execution_count": 22,
   "metadata": {},
   "outputs": [
    {
     "name": "stdout",
     "output_type": "stream",
     "text": [
      "I am father  Rex\n",
      "I am mother  Rita\n",
      "I am child. My name is  Robin\n",
      "My parents are  Rex  and  Rita\n"
     ]
    }
   ],
   "source": [
    "class Father(object):\n",
    "        \n",
    "    def __init__(self):\n",
    "        self.fname = 'Rex'\n",
    "    \n",
    "    def show(self):\n",
    "        print('I am father ', self.fname)\n",
    "\n",
    "class Mother(object):\n",
    "    \n",
    "    def __init__(self):\n",
    "        self.mname = 'Rita'\n",
    "    \n",
    "    def show(self):\n",
    "        print('I am mother ', self.mname)\n",
    "\n",
    "class Child(Father, Mother):\n",
    "    \n",
    "    def __init__(self):\n",
    "        Father.__init__(self) # explicitly call parent\n",
    "        Mother.__init__(self) # here too\n",
    "        self.myname = 'Robin'\n",
    "    \n",
    "    def show(self):\n",
    "        print('I am child. My name is ', self.myname)\n",
    "        print('My parents are ', self.fname, ' and ', self.mname)\n",
    "\n",
    "rex = Father()\n",
    "rita = Mother()\n",
    "robin = Child()\n",
    "\n",
    "rex.show()\n",
    "rita.show()\n",
    "robin.show()\n"
   ]
  },
  {
   "cell_type": "markdown",
   "metadata": {},
   "source": [
    "### Multilevel Inheritance"
   ]
  },
  {
   "cell_type": "markdown",
   "metadata": {},
   "source": [
    "#### Child class inherits from Parent class which inturn inherits from Grand Parent class. Python supports any number of levels"
   ]
  },
  {
   "cell_type": "code",
   "execution_count": 23,
   "metadata": {},
   "outputs": [
    {
     "name": "stdout",
     "output_type": "stream",
     "text": [
      "Apple is healthy\n",
      "Every Fruit has color\n",
      "Every Food has energy\n"
     ]
    }
   ],
   "source": [
    "class Food(object):\n",
    "    def energy(self):\n",
    "        print('Every Food has energy')\n",
    "\n",
    "class Fruit(Food):\n",
    "    def color(self):\n",
    "        print('Every Fruit has color')\n",
    "\n",
    "class Apple(Fruit):  # inherits from Fruit and Food\n",
    "    def healthy(self):\n",
    "        print('Apple is healthy')\n",
    "\n",
    "#instantiate Apple\n",
    "royalapple = Apple();\n",
    "royalapple.healthy()\n",
    "royalapple.color()\n",
    "royalapple.energy()\n"
   ]
  },
  {
   "cell_type": "markdown",
   "metadata": {},
   "source": [
    "### Walk Through"
   ]
  },
  {
   "cell_type": "markdown",
   "metadata": {},
   "source": [
    "For Food class: create instance variable gi_value which is initialized through its constructor <br>\n",
    "For Fruit class: create instance variable taste (such as sweet, salty, etc) which is initialized through its constructor <br>\n",
    "For Apple class: create instance variable calories which is initialized through its constructor <br>\n",
    "Create objects for Apple and print the values of all instance variables and call all methods"
   ]
  },
  {
   "cell_type": "markdown",
   "metadata": {},
   "source": [
    "### Composition"
   ]
  },
  {
   "cell_type": "markdown",
   "metadata": {},
   "source": [
    "#### Use other classes inside a class. It defines HAS-A relationship"
   ]
  },
  {
   "cell_type": "code",
   "execution_count": 24,
   "metadata": {},
   "outputs": [
    {
     "name": "stdout",
     "output_type": "stream",
     "text": [
      "Wheels =  4\n",
      "Ingine started, ready to go\n"
     ]
    }
   ],
   "source": [
    "# Car has wheels\n",
    "\n",
    "class Wheels(object):\n",
    "    \n",
    "    def __init__(self):\n",
    "        self.nwheels = 4\n",
    "    \n",
    "    def get_wheels(self):\n",
    "        print('Wheels = ', self.nwheels)  # Wheels.nwheels also ok\n",
    "\n",
    "class Car(object):\n",
    "    \n",
    "    def __init__(self):\n",
    "        self.current_speed = 10\n",
    "        self.wheels = Wheels()  # car object has-a wheel object\n",
    "    \n",
    "    def start_car(self):\n",
    "        print('Ingine started, ready to go')\n",
    "\n",
    "\n",
    "car = Car()\n",
    "car.wheels.get_wheels()    \n",
    "car.start_car()"
   ]
  },
  {
   "cell_type": "markdown",
   "metadata": {},
   "source": [
    "### Walk Through"
   ]
  },
  {
   "cell_type": "markdown",
   "metadata": {},
   "source": [
    "#### 1. Create a class Door that defines instance variable ndoors = 2 and get_doors() method that prints ndoors value. Call get_doors() method as well"
   ]
  },
  {
   "cell_type": "markdown",
   "metadata": {},
   "source": [
    "#### 2. For Car class: define a function stop_car() that prints a method 'Car stopped'."
   ]
  },
  {
   "cell_type": "markdown",
   "metadata": {},
   "source": [
    "#### 3. For Car class: define accelerate(kmph) that increases current_speed by kmph. Print a message 'car is currently going at current_speed'"
   ]
  },
  {
   "cell_type": "markdown",
   "metadata": {},
   "source": [
    "#### 4. Instantiate 2 cars and test with several function calls"
   ]
  },
  {
   "cell_type": "markdown",
   "metadata": {},
   "source": [
    "## IS-A and HAS-A relationships"
   ]
  },
  {
   "cell_type": "markdown",
   "metadata": {},
   "source": [
    "### ## ?? - replace this line with is-a or has-a relationship"
   ]
  },
  {
   "cell_type": "code",
   "execution_count": 25,
   "metadata": {},
   "outputs": [
    {
     "data": {
      "text/plain": [
       "'\\n## Animal is-a object (yes, sort of confusing) look at the extra credit\\n2 class Animal(object):\\n3 pass\\n4\\n5 ## ??\\n6 class Dog(Animal):\\n7\\n8 def __init__(self, name):\\n9 ## ??\\n10 self.name = name\\n11\\n12 ## ??\\n13 class Cat(Animal):\\n14\\n15 def __init__(self, name):\\n16 ## ??\\n17 self.name = name\\n18\\n19 ## ??\\n20 class Person(object):\\n21\\n22 def __init__(self, name):\\n23 ## ??\\n24 self.name = name\\n25\\n26 ## Person has-a pet of some kind\\n27 self.pet = None\\n28\\n29 ## ??\\n30 class Employee(Person):\\n31\\n32 def __init__(self, name, salary):\\n33 ## ?? hmm what is this strange magic?\\n34 super(Employee, self).__init__(name)\\n35 ## ??\\n36 self.salary = salary\\n37\\n38 ## ??\\n39 class Fish(object):\\n40 pass\\n41\\n42 ## ??\\n43 class Salmon(Fish):\\n44 pass\\n45\\n46 ## ??\\n47 class Halibut(Fish):\\n48 pass\\n49\\n50\\n51 ## rover is-a Dog\\n52 rover = Dog(\"Rover\")\\n53\\n54 ## ??\\n55 satan = Cat(\"Satan\")\\n56\\n57 ## ??\\n58 mary = Person(\"Mary\")\\n59\\n60 ## ??\\n61 mary.pet = satan\\n62\\n63 ## ??\\n64 frank = Employee(\"Frank\", 120000)\\n65\\n66 ## ??\\n67 frank.pet = rover\\n68\\n69 ## ??\\n70 flipper = Fish()\\n71\\n72 ## ??\\n73 crouse = Salmon()\\n74\\n75 ## ??\\n76 harry = Halibut() '"
      ]
     },
     "execution_count": 25,
     "metadata": {},
     "output_type": "execute_result"
    }
   ],
   "source": [
    "'''\n",
    "## Animal is-a object (yes, sort of confusing) look at the extra credit\n",
    "2 class Animal(object):\n",
    "3 pass\n",
    "4\n",
    "5 ## ??\n",
    "6 class Dog(Animal):\n",
    "7\n",
    "8 def __init__(self, name):\n",
    "9 ## ??\n",
    "10 self.name = name\n",
    "11\n",
    "12 ## ??\n",
    "13 class Cat(Animal):\n",
    "14\n",
    "15 def __init__(self, name):\n",
    "16 ## ??\n",
    "17 self.name = name\n",
    "18\n",
    "19 ## ??\n",
    "20 class Person(object):\n",
    "21\n",
    "22 def __init__(self, name):\n",
    "23 ## ??\n",
    "24 self.name = name\n",
    "25\n",
    "26 ## Person has-a pet of some kind\n",
    "27 self.pet = None\n",
    "28\n",
    "29 ## ??\n",
    "30 class Employee(Person):\n",
    "31\n",
    "32 def __init__(self, name, salary):\n",
    "33 ## ?? hmm what is this strange magic?\n",
    "34 super(Employee, self).__init__(name)\n",
    "35 ## ??\n",
    "36 self.salary = salary\n",
    "37\n",
    "38 ## ??\n",
    "39 class Fish(object):\n",
    "40 pass\n",
    "41\n",
    "42 ## ??\n",
    "43 class Salmon(Fish):\n",
    "44 pass\n",
    "45\n",
    "46 ## ??\n",
    "47 class Halibut(Fish):\n",
    "48 pass\n",
    "49\n",
    "50\n",
    "51 ## rover is-a Dog\n",
    "52 rover = Dog(\"Rover\")\n",
    "53\n",
    "54 ## ??\n",
    "55 satan = Cat(\"Satan\")\n",
    "56\n",
    "57 ## ??\n",
    "58 mary = Person(\"Mary\")\n",
    "59\n",
    "60 ## ??\n",
    "61 mary.pet = satan\n",
    "62\n",
    "63 ## ??\n",
    "64 frank = Employee(\"Frank\", 120000)\n",
    "65\n",
    "66 ## ??\n",
    "67 frank.pet = rover\n",
    "68\n",
    "69 ## ??\n",
    "70 flipper = Fish()\n",
    "71\n",
    "72 ## ??\n",
    "73 crouse = Salmon()\n",
    "74\n",
    "75 ## ??\n",
    "76 harry = Halibut() '''"
   ]
  },
  {
   "cell_type": "markdown",
   "metadata": {},
   "source": [
    "### Points to remember"
   ]
  },
  {
   "cell_type": "markdown",
   "metadata": {},
   "source": [
    "1. Nothing as private variables <br>\n",
    "2. Iterators can be set using iter(data). So, next(iter) will return next object "
   ]
  },
  {
   "cell_type": "markdown",
   "metadata": {},
   "source": [
    "## Object Oriented Analysis and Design"
   ]
  },
  {
   "cell_type": "markdown",
   "metadata": {},
   "source": [
    "The OOAD process is as follows:\n",
    "1. Write or draw about the problem.\n",
    "2. Extract key concepts from 1 and research them.\n",
    "3. Create a class hierarchy and object map for the concepts.\n",
    "4. Code the classes and a test to run them.\n",
    "5. Repeat and refine."
   ]
  },
  {
   "cell_type": "markdown",
   "metadata": {},
   "source": [
    "## Think of projects using OOAD principles"
   ]
  },
  {
   "cell_type": "code",
   "execution_count": null,
   "metadata": {},
   "outputs": [],
   "source": []
  }
 ],
 "metadata": {
  "kernelspec": {
   "display_name": "Python 3",
   "language": "python",
   "name": "python3"
  },
  "language_info": {
   "codemirror_mode": {
    "name": "ipython",
    "version": 3
   },
   "file_extension": ".py",
   "mimetype": "text/x-python",
   "name": "python",
   "nbconvert_exporter": "python",
   "pygments_lexer": "ipython3",
   "version": "3.7.3"
  }
 },
 "nbformat": 4,
 "nbformat_minor": 2
}
